{
 "cells": [
  {
   "cell_type": "markdown",
   "id": "cb4be286-7165-4c5e-999f-74fb60782cf2",
   "metadata": {},
   "source": [
    "# 1. 이터레이터란?\n",
    "데이터를 하나씩 순서대로 꺼내올 수 있는 객체"
   ]
  },
  {
   "cell_type": "code",
   "execution_count": 3,
   "id": "f10cba7e-1d4d-4f63-b24a-4f41b068ed04",
   "metadata": {},
   "outputs": [
    {
     "ename": "TypeError",
     "evalue": "'list' object is not an iterator",
     "output_type": "error",
     "traceback": [
      "\u001b[1;31m---------------------------------------------------------------------------\u001b[0m",
      "\u001b[1;31mTypeError\u001b[0m                                 Traceback (most recent call last)",
      "Cell \u001b[1;32mIn[3], line 4\u001b[0m\n\u001b[0;32m      1\u001b[0m \u001b[38;5;66;03m# 리스트는 이터레이터일까?\u001b[39;00m\n\u001b[0;32m      3\u001b[0m a \u001b[38;5;241m=\u001b[39m [\u001b[38;5;241m1\u001b[39m, \u001b[38;5;241m2\u001b[39m, \u001b[38;5;241m3\u001b[39m]\n\u001b[1;32m----> 4\u001b[0m \u001b[38;5;28mnext\u001b[39m(a)\n",
      "\u001b[1;31mTypeError\u001b[0m: 'list' object is not an iterator"
     ]
    }
   ],
   "source": [
    "# 리스트는 이터레이터일까?\n",
    "\n",
    "a = [1, 2, 3]\n",
    "next(a)"
   ]
  },
  {
   "cell_type": "code",
   "execution_count": 21,
   "id": "706efe6b-898f-46cc-b07e-81c87272e269",
   "metadata": {},
   "outputs": [
    {
     "data": {
      "text/plain": [
       "list_iterator"
      ]
     },
     "execution_count": 21,
     "metadata": {},
     "output_type": "execute_result"
    }
   ],
   "source": [
    "# iter 함수를 이용해 이터레이터로 변환\n",
    "\n",
    "a = [1, 2, 3]\n",
    "ia = iter(a)\n",
    "type(ia)"
   ]
  },
  {
   "cell_type": "code",
   "execution_count": 22,
   "id": "95ad881a-b545-47a8-a5a3-31b521261785",
   "metadata": {},
   "outputs": [
    {
     "data": {
      "text/plain": [
       "1"
      ]
     },
     "execution_count": 22,
     "metadata": {},
     "output_type": "execute_result"
    }
   ],
   "source": [
    "# 변경된 이터레이터 객체를 next 함수로 호출\n",
    "# 더는 반환할 값이 없다면 StopIteration 예외 발생\n",
    "\n",
    "next(ia)"
   ]
  },
  {
   "cell_type": "code",
   "execution_count": 23,
   "id": "c4c6e088-ef62-4555-b216-7a3e3059ef49",
   "metadata": {},
   "outputs": [
    {
     "data": {
      "text/plain": [
       "2"
      ]
     },
     "execution_count": 23,
     "metadata": {},
     "output_type": "execute_result"
    }
   ],
   "source": [
    "next(ia)"
   ]
  },
  {
   "cell_type": "code",
   "execution_count": 24,
   "id": "0c785018-47b4-4248-89bf-e0fec2d368d1",
   "metadata": {},
   "outputs": [
    {
     "data": {
      "text/plain": [
       "3"
      ]
     },
     "execution_count": 24,
     "metadata": {},
     "output_type": "execute_result"
    }
   ],
   "source": [
    "next(ia)"
   ]
  },
  {
   "cell_type": "code",
   "execution_count": 25,
   "id": "7d8fde50-c646-4f72-a6ad-6d0e8d2c0a25",
   "metadata": {},
   "outputs": [
    {
     "ename": "StopIteration",
     "evalue": "",
     "output_type": "error",
     "traceback": [
      "\u001b[1;31m---------------------------------------------------------------------------\u001b[0m",
      "\u001b[1;31mStopIteration\u001b[0m                             Traceback (most recent call last)",
      "Cell \u001b[1;32mIn[25], line 1\u001b[0m\n\u001b[1;32m----> 1\u001b[0m \u001b[38;5;28mnext\u001b[39m(ia)\n",
      "\u001b[1;31mStopIteration\u001b[0m: "
     ]
    }
   ],
   "source": [
    "next(ia)"
   ]
  },
  {
   "cell_type": "code",
   "execution_count": 7,
   "id": "c1c50430-0b8a-42a1-a077-318bcef590ac",
   "metadata": {},
   "outputs": [
    {
     "name": "stdout",
     "output_type": "stream",
     "text": [
      "1\n",
      "2\n",
      "3\n"
     ]
    }
   ],
   "source": [
    "# 이터레이터의 값을 가져오는 가장 일반적인 방법(for문)\n",
    "\n",
    "a = [1, 2, 3]\n",
    "ia = iter(a)\n",
    "\n",
    "for i in ia :\n",
    "    print(i)"
   ]
  },
  {
   "cell_type": "code",
   "execution_count": 10,
   "id": "b300f7f1-853a-4279-a047-44e493152bfb",
   "metadata": {},
   "outputs": [],
   "source": [
    "# next로 그 값을 한 번 읽으면 다시는 읽을 수 없다\n",
    "\n",
    "for i in ia :\n",
    "    print(i)"
   ]
  },
  {
   "cell_type": "markdown",
   "id": "4c35f613-aefb-4dbb-ba6d-94d93963056e",
   "metadata": {},
   "source": [
    "## 2. 이레이터 만들기\n",
    "\n",
    "### 이레이터 클래스를 만드는 핵심 규칙\n",
    "#### 1. __iter__ 메서드 : 이레이터 객체 자신을 반환\n",
    "#### 2. __next__ 메서드 : 다음 값을 리턴, 리턴할 값이 없으면 StopIteration 예외 발생"
   ]
  },
  {
   "cell_type": "markdown",
   "id": "60797568-5cc3-4de7-b5ea-9dba93e5fcb7",
   "metadata": {},
   "source": [
    "### MyIterator 클래스의 동작 원리\n",
    "\n",
    "#### 1. __init__ 메서드: 이터레이터를 초기화\n",
    "##### - self.data:​ 반복할 데이터를 저장\n",
    "##### - self.position:​ 현재 위치를 추적하는 변수 (0부터 시작)\n",
    "\n",
    "#### 2. __iter__ 메서드: 이터레이터 객체 자신을 반환\n",
    "##### - 이 메서드가 있어야 파이썬이 해당 객체를 반복 가능한 객체로 인식\n",
    "##### - for 문, iter() 함수, next() 함수 등에서 사용하기 위해 필수\n",
    "##### - 보통 return self로 자기 자신을 반환\n",
    "\n",
    "#### 3. __next__ 메서드: 다음 값을 반환\n",
    "##### - self.position을 이용해 현재 위치의 값을 가져온다\n",
    "##### - 위치를 하나씩 증가시킴킴\n",
    "##### - 더 이상 값이 없으면 StopIteration 예외를 발생시킴"
   ]
  },
  {
   "cell_type": "code",
   "execution_count": 11,
   "id": "6f5276d5-d3a8-4ceb-a935-f0449edc1dc2",
   "metadata": {},
   "outputs": [
    {
     "name": "stdout",
     "output_type": "stream",
     "text": [
      "1\n",
      "2\n",
      "3\n"
     ]
    }
   ],
   "source": [
    "# interator.py\n",
    "\n",
    "class MyIterator :\n",
    "    def __init__(self, data) :\n",
    "        self.data = data\n",
    "        self.position = 0\n",
    "\n",
    "    def __iter__(self) :\n",
    "        return self\n",
    "\n",
    "    def __next__(self) :\n",
    "        if self.position >= len(self.data) :\n",
    "            raise StopIteration\n",
    "        result = self.data[self.position]\n",
    "        self.position += 1\n",
    "        return result\n",
    "    \n",
    "if __name__ == \"__main__\" :\n",
    "    i = MyIterator([1, 2, 3])\n",
    "    for item in i :\n",
    "        print(item)"
   ]
  },
  {
   "cell_type": "code",
   "execution_count": 12,
   "id": "5f3d432d-aed7-463c-82f7-948855b7fa0a",
   "metadata": {},
   "outputs": [
    {
     "name": "stdout",
     "output_type": "stream",
     "text": [
      "3\n",
      "2\n",
      "1\n"
     ]
    }
   ],
   "source": [
    "# reviterator.py\n",
    "# 입력받은 데이터를 역순으로 출력\n",
    "\n",
    "class ReverseIterator :\n",
    "    def __init__(self, data) :\n",
    "        self.data = data\n",
    "        self.position = len(self.data) - 1\n",
    "\n",
    "    def __iter__(self) :\n",
    "        return self\n",
    "\n",
    "    def __next__(self) :\n",
    "        if self.position < 0 :\n",
    "            raise StopIteration\n",
    "        result = self.data[self.position]\n",
    "        self.position -= 1\n",
    "        return result\n",
    "    \n",
    "if __name__ == \"__main__\" :\n",
    "    i = ReverseIterator([1, 2, 3])\n",
    "    for item in i :\n",
    "        print(item)"
   ]
  },
  {
   "cell_type": "markdown",
   "id": "c65cd562-f927-4c6b-a829-1305ab24c107",
   "metadata": {},
   "source": [
    "## 3. 제너레이터란?\n",
    "간단하게 이터레이터를 만드는 특별한 함수"
   ]
  },
  {
   "cell_type": "markdown",
   "id": "72b4d395-a1fc-42b6-a63d-d0971b4a3964",
   "metadata": {},
   "source": [
    "### 제너레이터의 핵심 특징\n",
    "#### - 일반 함수와 비슷하지만 return 대신 yield 키워드를 사용한다.\n",
    "#### - yield를 만나면 값을 반환하고 함수 실행을 일시정지한다.\n",
    "#### - 다시 호출하면 일시정지했던 지점부터 계속 실행한다.\n",
    "#### - 음악 플레이어의 재생/정지 기능처럼 동작한다"
   ]
  },
  {
   "cell_type": "code",
   "execution_count": 14,
   "id": "17183d78-e8e9-4b30-bfc4-ab74501d4d61",
   "metadata": {},
   "outputs": [
    {
     "name": "stdout",
     "output_type": "stream",
     "text": [
      "type(g) : <class 'generator'>\n"
     ]
    }
   ],
   "source": [
    "# 가장 간단한 제너레이터의 예\n",
    "\n",
    "def mygen() :\n",
    "    yield 'a'\n",
    "    yield 'b'\n",
    "    yield 'c'\n",
    "\n",
    "g = mygen()\n",
    "\n",
    "print(f\"type(g) : {type(g)}\")"
   ]
  },
  {
   "cell_type": "code",
   "execution_count": 15,
   "id": "d71bf338-8edf-4375-a024-f6503cca042c",
   "metadata": {},
   "outputs": [
    {
     "data": {
      "text/plain": [
       "'a'"
      ]
     },
     "execution_count": 15,
     "metadata": {},
     "output_type": "execute_result"
    }
   ],
   "source": [
    "next(g)"
   ]
  },
  {
   "cell_type": "code",
   "execution_count": 16,
   "id": "15e174ee-ae86-4560-8d1e-2f3f8e929d27",
   "metadata": {},
   "outputs": [
    {
     "data": {
      "text/plain": [
       "'b'"
      ]
     },
     "execution_count": 16,
     "metadata": {},
     "output_type": "execute_result"
    }
   ],
   "source": [
    "next(g)"
   ]
  },
  {
   "cell_type": "code",
   "execution_count": 17,
   "id": "2b00e462-74e0-48cf-83d2-2babb9c69959",
   "metadata": {},
   "outputs": [
    {
     "data": {
      "text/plain": [
       "'c'"
      ]
     },
     "execution_count": 17,
     "metadata": {},
     "output_type": "execute_result"
    }
   ],
   "source": [
    "next(g)"
   ]
  },
  {
   "cell_type": "code",
   "execution_count": 18,
   "id": "10fa38f6-8d10-4edc-a894-410536a95ad1",
   "metadata": {},
   "outputs": [
    {
     "ename": "StopIteration",
     "evalue": "",
     "output_type": "error",
     "traceback": [
      "\u001b[1;31m---------------------------------------------------------------------------\u001b[0m",
      "\u001b[1;31mStopIteration\u001b[0m                             Traceback (most recent call last)",
      "Cell \u001b[1;32mIn[18], line 1\u001b[0m\n\u001b[1;32m----> 1\u001b[0m \u001b[38;5;28mnext\u001b[39m(g)\n",
      "\u001b[1;31mStopIteration\u001b[0m: "
     ]
    }
   ],
   "source": [
    "next(g)"
   ]
  },
  {
   "cell_type": "markdown",
   "id": "2ecb8fef-d812-4065-a897-374323fb066d",
   "metadata": {},
   "source": [
    "## 4. 제너레이터 표현식"
   ]
  },
  {
   "cell_type": "code",
   "execution_count": 26,
   "id": "1fe76753-64a7-42c5-9e1f-ae505591641d",
   "metadata": {},
   "outputs": [
    {
     "name": "stdout",
     "output_type": "stream",
     "text": [
      "1\n",
      "4\n",
      "9\n"
     ]
    }
   ],
   "source": [
    "# 1부터 1,000까지 각각의 숫자를 제곱한 값을 순서대로 반환\n",
    "\n",
    "# generator.py\n",
    "\n",
    "def mygen() :\n",
    "    for i in range(1, 1000) :\n",
    "        result = i * i\n",
    "        yield result\n",
    "\n",
    "gen = mygen()\n",
    "\n",
    "print(next(gen))\n",
    "print(next(gen))\n",
    "print(next(gen))"
   ]
  },
  {
   "cell_type": "code",
   "execution_count": 29,
   "id": "a5f213ef-ad71-470e-ba5d-a74b71625ddf",
   "metadata": {},
   "outputs": [
    {
     "name": "stdout",
     "output_type": "stream",
     "text": [
      "1\n",
      "4\n",
      "9\n"
     ]
    }
   ],
   "source": [
    "# 제너레이터 표현식\n",
    "# 리스트 컴프리헨션과 비슷함\n",
    "# 리스트 컴프리헨션 = 리스트 / 제너레이터 표현식 = 튜플\n",
    "gen = (i * i for i in range(1, 1000))\n",
    "\n",
    "print(next(gen))\n",
    "print(next(gen))\n",
    "print(next(gen))"
   ]
  },
  {
   "cell_type": "markdown",
   "id": "c58825e5-5d2d-4e77-b066-b325a4b674dd",
   "metadata": {},
   "source": [
    "## 5. 제너레이터와 이터레이터"
   ]
  },
  {
   "cell_type": "code",
   "execution_count": 32,
   "id": "af0c6443-401d-415e-a15d-cdbc28041f0d",
   "metadata": {},
   "outputs": [
    {
     "name": "stdout",
     "output_type": "stream",
     "text": [
      "1\n",
      "4\n",
      "9\n",
      "16\n",
      "25\n"
     ]
    }
   ],
   "source": [
    "# 제너레이터를 이터레이터 클래스로 구현한 예\n",
    "\n",
    "class MyIterator :\n",
    "    def __init__(self) :\n",
    "        self.data = 1\n",
    "\n",
    "    def __iter__(self) :\n",
    "        return self\n",
    "\n",
    "    def __next__(self) :\n",
    "        result = self.data * self.data\n",
    "        self.data += 1\n",
    "        if self.data >= 1000 :\n",
    "            raise StopIteration\n",
    "        return result\n",
    "\n",
    "iter = MyIterator()\n",
    "for i in range(5) :\n",
    "    print(next(iter))"
   ]
  },
  {
   "cell_type": "markdown",
   "id": "5c0cf55f-c051-44df-a304-1fd0cff90b1a",
   "metadata": {},
   "source": [
    "## 6. 제너레이터 활용하기\n",
    "상황 : 시간이 오래 걸리는 작업을 처리해야 하는데, 모든 결과가 필요하지 않은 경우"
   ]
  },
  {
   "cell_type": "code",
   "execution_count": 34,
   "id": "bb8c88a8-e9c2-4dc0-9a55-52b9fe599fb9",
   "metadata": {},
   "outputs": [
    {
     "name": "stdout",
     "output_type": "stream",
     "text": [
      "job start\n",
      "job start\n",
      "job start\n",
      "job start\n",
      "job start\n",
      "done\n"
     ]
    }
   ],
   "source": [
    "# 일반적인 리스트 컴프리헨션을 사용한 예\n",
    "\n",
    "# <이 코드의 문제점 >\n",
    "# longtime_job() 함수는 1초씩 걸린다.\n",
    "# 리스트를 만들 때 5번의 함수를 모두 미리 실행한다.\n",
    "# 첫 번재 결과만 필요한데도 5초를 기다려야 한다.\n",
    "\n",
    "# generator2.py\n",
    "import time\n",
    "\n",
    "def longtime_job() :\n",
    "    print(\"job start\")\n",
    "    time.sleep(1) # 1초 지연 - 실제로는 DB 조회, 파일 처리 등을 시뮬레이션\n",
    "    return \"done\"\n",
    "\n",
    "# 리스트 컴프리헨션 : 5번의 작업을 모두 실행해서 리스트로 만든다\n",
    "list_job = [longtime_job() for i in range(5)]\n",
    "print(list_job[0]) # 첫 번째 결과만 필요한 상황"
   ]
  },
  {
   "cell_type": "code",
   "execution_count": 35,
   "id": "3def5363-7950-411d-8917-82798cfb89c3",
   "metadata": {},
   "outputs": [
    {
     "name": "stdout",
     "output_type": "stream",
     "text": [
      "job start\n",
      "done\n"
     ]
    }
   ],
   "source": [
    "# 제너레이터를 사용한 해결책\n",
    "\n",
    "# generator2.py\n",
    "import time\n",
    "\n",
    "def longtime_jop() :\n",
    "    print(\"job start\")\n",
    "    time.sleep(1)\n",
    "    return \"done\"\n",
    "\n",
    "# 제너레이터 표현식 : 함수를 미리 실행하지 않고 필요할 때만 실행\n",
    "list_job = (longtime_jop() for i in range(5))\n",
    "print(next(list_job)) # 첫 번째 값만 요청"
   ]
  },
  {
   "cell_type": "markdown",
   "id": "9ea4b18e-f5b2-428e-968f-df171851fbb2",
   "metadata": {},
   "source": [
    "### 핵심 차이점\n",
    "#### - [](리스트 컴프리헨션) <-> ()(제너레이터 표현식)\n",
    "#### - list_job[0] <-> next(list_job)으로 값을 가져옴"
   ]
  },
  {
   "cell_type": "markdown",
   "id": "4d117d20-2e35-4b98-aba8-a596b3b7da76",
   "metadata": {},
   "source": [
    "### 제너레이터의 동작 방식\n",
    "#### 1. (longtime_job() for i in range(5))는 함수를 즉시 실행하지 않는다\n",
    "#### 2. next(list_job)을 호출할 때 비로소 첫 번째 longtime_job()만 실행한다.\n",
    "#### 3. 나머지 4개는 실행되지 않는다."
   ]
  }
 ],
 "metadata": {
  "kernelspec": {
   "display_name": "Python 3 (ipykernel)",
   "language": "python",
   "name": "python3"
  },
  "language_info": {
   "codemirror_mode": {
    "name": "ipython",
    "version": 3
   },
   "file_extension": ".py",
   "mimetype": "text/x-python",
   "name": "python",
   "nbconvert_exporter": "python",
   "pygments_lexer": "ipython3",
   "version": "3.13.5"
  }
 },
 "nbformat": 4,
 "nbformat_minor": 5
}

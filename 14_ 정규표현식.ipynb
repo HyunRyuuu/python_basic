{
 "cells": [
  {
   "cell_type": "markdown",
   "id": "f22fab2d-2187-4177-b1d1-e0d7610c463d",
   "metadata": {},
   "source": [
    "## 정규 표현식"
   ]
  },
  {
   "cell_type": "code",
   "execution_count": 8,
   "id": "bd8fcad5-aecd-4050-99f2-d579d1536b80",
   "metadata": {},
   "outputs": [],
   "source": [
    "import re"
   ]
  },
  {
   "cell_type": "markdown",
   "id": "face9154-ce9f-4df0-9f70-3092732150d0",
   "metadata": {},
   "source": [
    "### match() : 문자열의 처음부터 정규식과 매치되는지 확인"
   ]
  },
  {
   "cell_type": "code",
   "execution_count": 9,
   "id": "82ec82b0-cea8-4bda-aa2c-30670f3a710a",
   "metadata": {},
   "outputs": [
    {
     "name": "stdout",
     "output_type": "stream",
     "text": [
      "123\n"
     ]
    }
   ],
   "source": [
    "pattern = re.compile(r'\\d+')\n",
    "match = pattern.match('123abc')\n",
    "\n",
    "if match : \n",
    "    print(match.group())"
   ]
  },
  {
   "cell_type": "markdown",
   "id": "c5260c31-1874-4745-badb-7cab45224c1f",
   "metadata": {},
   "source": [
    "### search() : 문자열 전체를 검색하여 정규식과 매치되는지 확인"
   ]
  },
  {
   "cell_type": "code",
   "execution_count": 4,
   "id": "3e1adec6-3159-40e7-a999-5fb2163268a6",
   "metadata": {},
   "outputs": [
    {
     "name": "stdout",
     "output_type": "stream",
     "text": [
      "1234\n"
     ]
    }
   ],
   "source": [
    "pattern = re.compile(r'\\d+')\n",
    "match = pattern.search('abc1234')\n",
    "\n",
    "if match :\n",
    "    print(match.group())"
   ]
  },
  {
   "cell_type": "markdown",
   "id": "455c2f09-3955-4be0-a093-99d43c3f2de1",
   "metadata": {},
   "source": [
    "### findall() : 정규식과 매치되는 모든 부분을 리스트로 반환"
   ]
  },
  {
   "cell_type": "code",
   "execution_count": 5,
   "id": "b86f0a77-9f93-4632-9f5a-8cbe9fc8d275",
   "metadata": {},
   "outputs": [
    {
     "name": "stdout",
     "output_type": "stream",
     "text": [
      "['123', '456']\n"
     ]
    }
   ],
   "source": [
    "pattern = re.compile(r'\\d+')\n",
    "matches = pattern.findall('abc123def456')\n",
    "print(matches)"
   ]
  },
  {
   "cell_type": "markdown",
   "id": "21eb197c-d60d-4591-9471-1ae3b9b9299d",
   "metadata": {},
   "source": [
    "### sub() : 정규식과 매치되는 부분을 다른 문자열로 대체"
   ]
  },
  {
   "cell_type": "code",
   "execution_count": 6,
   "id": "67bcae75-b649-4858-a3b9-d61de90f1b76",
   "metadata": {},
   "outputs": [
    {
     "name": "stdout",
     "output_type": "stream",
     "text": [
      "abcNUMBERdefNUMBER\n"
     ]
    }
   ],
   "source": [
    "pattern = re.compile(r'\\d+')\n",
    "result = pattern.sub('NUMBER', 'abc123def456')\n",
    "print(result)"
   ]
  },
  {
   "cell_type": "code",
   "execution_count": null,
   "id": "d364e1cf-9322-4c23-ac53-5c315d93df08",
   "metadata": {},
   "outputs": [],
   "source": []
  }
 ],
 "metadata": {
  "kernelspec": {
   "display_name": "Python 3 (ipykernel)",
   "language": "python",
   "name": "python3"
  },
  "language_info": {
   "codemirror_mode": {
    "name": "ipython",
    "version": 3
   },
   "file_extension": ".py",
   "mimetype": "text/x-python",
   "name": "python",
   "nbconvert_exporter": "python",
   "pygments_lexer": "ipython3",
   "version": "3.13.5"
  }
 },
 "nbformat": 4,
 "nbformat_minor": 5
}

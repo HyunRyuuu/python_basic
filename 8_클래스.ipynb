{
 "cells": [
  {
   "cell_type": "markdown",
   "id": "86ac6c31-d0a7-4fb9-813a-e358c2dac251",
   "metadata": {},
   "source": [
    "# 1. 클래스는 왜 필요한가?"
   ]
  },
  {
   "cell_type": "code",
   "execution_count": 2,
   "id": "4bec7e48-ad29-4a4b-ae1c-9dcf972082c4",
   "metadata": {},
   "outputs": [
    {
     "name": "stdout",
     "output_type": "stream",
     "text": [
      "3\n",
      "7\n"
     ]
    }
   ],
   "source": [
    "# 함수로 계산기 만들기\n",
    "\n",
    "result = 0\n",
    "\n",
    "def add(num) :\n",
    "    global result\n",
    "    result += num # result에 num 더하기\n",
    "    return result\n",
    "\n",
    "print(add(3)) # 0 + 3 = 3\n",
    "print(add(4)) # 3 + 4 = 7"
   ]
  },
  {
   "cell_type": "code",
   "execution_count": 5,
   "id": "6b8eb56a-607e-4cb0-98ce-cacdc20c1548",
   "metadata": {},
   "outputs": [
    {
     "name": "stdout",
     "output_type": "stream",
     "text": [
      "3\n",
      "7\n",
      "5\n",
      "11\n"
     ]
    }
   ],
   "source": [
    "# 계산기 2개로 각각 계산\n",
    "\n",
    "res_1 = 0\n",
    "res_2 = 0\n",
    "\n",
    "def add_1(num) :\n",
    "    global res_1\n",
    "    res_1 += num\n",
    "    return res_1\n",
    "\n",
    "def add_2(num) :\n",
    "    global res_2\n",
    "    res_2 += num\n",
    "    return res_2\n",
    "\n",
    "print(add_1(3)) # 0 + 3 = 3\n",
    "print(add_1(4)) # 3 + 4 = 7\n",
    "print(add_2(5)) # 0 + 5 = 5\n",
    "print(add_2(6)) # 5 + 6 = 11"
   ]
  },
  {
   "cell_type": "code",
   "execution_count": 11,
   "id": "46bfaada-e5eb-479c-aaef-87be1dad33d1",
   "metadata": {},
   "outputs": [
    {
     "name": "stdout",
     "output_type": "stream",
     "text": [
      "3\n",
      "7\n",
      "5\n",
      "11\n"
     ]
    }
   ],
   "source": [
    "# 클래스로 해결\n",
    "\n",
    "class Calculator :\n",
    "    def __init__(self) : # init의 매개변수는 무조건 self\n",
    "        self.result = 0 # 초기값 설정\n",
    "\n",
    "    def add(self, num) :\n",
    "        self.result += num\n",
    "        return self.result\n",
    "\n",
    "cal_1 = Calculator()\n",
    "cal_2 = Calculator()\n",
    "\n",
    "print(cal_1.add(3)) # 0 + 3 = 3\n",
    "print(cal_1.add(4)) # 3 + 4 = 7\n",
    "print(cal_2.add(5)) # 0 + 5 = 5\n",
    "print(cal_2.add(6)) # 5 + 6 = 11"
   ]
  },
  {
   "cell_type": "code",
   "execution_count": 17,
   "id": "a82c6a9b-b233-4ae6-8338-5773333f630c",
   "metadata": {},
   "outputs": [
    {
     "name": "stdout",
     "output_type": "stream",
     "text": [
      "3\n",
      "7\n",
      "-10\n",
      "-16\n"
     ]
    }
   ],
   "source": [
    "class Calculator :\n",
    "    def __init__(self) : # init의 매개변수는 무조건 self\n",
    "        self.result = 0 # 초기값 설정\n",
    "\n",
    "    # 더하기 기능\n",
    "    def add(self, num) :\n",
    "        self.result += num\n",
    "        return self.result\n",
    "\n",
    "    # 빼기 기능\n",
    "    def sub(self, num) :\n",
    "        self.result -= num\n",
    "        return self.result\n",
    "\n",
    "cal_add = Calculator() # 인스턴스 - 계산기 1\n",
    "cal_sub = Calculator() # 인스턴스 - 계산기 2\n",
    "        \n",
    "print(cal_add.add(3)) # 0 + 3 = 3\n",
    "print(cal_add.add(4)) # 3 + 4 = 7\n",
    "print(cal_sub.sub(10)) # 0 - 10 = -10\n",
    "print(cal_sub.sub(6)) # -10 - 6 = -16"
   ]
  },
  {
   "cell_type": "markdown",
   "id": "74736cd4-abad-40ff-8c81-6a7c9396ba47",
   "metadata": {},
   "source": [
    "# 2. 클래스와 객체"
   ]
  },
  {
   "cell_type": "code",
   "execution_count": 22,
   "id": "0e167b1b-5d9c-4fb1-8a78-8693155e40a6",
   "metadata": {},
   "outputs": [],
   "source": [
    "# a = Cookie()\n",
    "# a는 객체\n",
    "# a는 Cookie의 인스턴스"
   ]
  },
  {
   "cell_type": "markdown",
   "id": "d34de1cf-6188-4e53-ba64-807e4954eff6",
   "metadata": {},
   "source": [
    "# 3. 사칙 연산 클래스 만들기"
   ]
  },
  {
   "cell_type": "code",
   "execution_count": 92,
   "id": "994489c8-4a49-4106-8468-aaf1f86ba013",
   "metadata": {},
   "outputs": [
    {
     "name": "stdout",
     "output_type": "stream",
     "text": [
      "4 + 2 = 6\n",
      "4 - 2 = 2\n",
      "4 * 2 = 8\n",
      "4 / 2 = 2.0\n",
      "====================\n",
      "3 + 8 = 11\n",
      "3 - 8 = -5\n",
      "3 * 8 = 24\n",
      "3 / 8 = 0.375\n"
     ]
    }
   ],
   "source": [
    "class FourCal :\n",
    "    def setdata (self, first, second) : #매개변수\n",
    "        # 메서드의 수행문\n",
    "        self.first = first\n",
    "        self.second = second\n",
    "    \n",
    "    def add(self) : # 더하기 메서드\n",
    "        result = self.first + self.second\n",
    "        return result\n",
    "\n",
    "    def sub(self) : # 뺴기 메서드\n",
    "        result = self.first - self.second\n",
    "        return result\n",
    "\n",
    "    def mul(self) : # 곱하기 메서드\n",
    "        result = self.first * self.second\n",
    "        return result\n",
    "\n",
    "    def div(self) : # 뺴기 메서드\n",
    "        result = self.first / self.second\n",
    "        return result\n",
    "\n",
    "cal_1 = FourCal()\n",
    "cal_2 = FourCal()\n",
    "\n",
    "cal_1.setdata(4, 2)\n",
    "cal_2.setdata(3, 8)\n",
    "\n",
    "print(f\"{cal_1.first} + {cal_1.second} = {cal_1.add()}\")\n",
    "print(f\"{cal_1.first} - {cal_1.second} = {cal_1.sub()}\")\n",
    "print(f\"{cal_1.first} * {cal_1.second} = {cal_1.mul()}\")\n",
    "print(f\"{cal_1.first} / {cal_1.second} = {cal_1.div()}\")\n",
    "print(\"=\" * 20)\n",
    "print(f\"{cal_2.first} + {cal_2.second} = {cal_2.add()}\")\n",
    "print(f\"{cal_2.first} - {cal_2.second} = {cal_2.sub()}\")\n",
    "print(f\"{cal_2.first} * {cal_2.second} = {cal_2.mul()}\")\n",
    "print(f\"{cal_2.first} / {cal_2.second} = {cal_2.div()}\")"
   ]
  },
  {
   "cell_type": "code",
   "execution_count": 87,
   "id": "83f0b0dd-c6b6-4658-8f76-122092a43084",
   "metadata": {},
   "outputs": [
    {
     "name": "stdout",
     "output_type": "stream",
     "text": [
      "4 + 2 = 6\n",
      "4 - 2 = 2\n",
      "4 * 2 = 8\n",
      "4 / 2 = 2.0\n",
      "====================\n",
      "3 + 8 = 11\n",
      "3 - 8 = -5\n",
      "3 * 8 = 24\n",
      "3 / 8 = 0.375\n"
     ]
    }
   ],
   "source": [
    "class FourCal :\n",
    "    def __init__ (self, first, second) : #매개변수\n",
    "        # 메서드의 수행문\n",
    "        self.first = first\n",
    "        self.second = second\n",
    "    \n",
    "    def add(self) : # 더하기 메서드\n",
    "        result = self.first + self.second\n",
    "        return result\n",
    "\n",
    "    def sub(self) : # 뺴기 메서드\n",
    "        result = self.first - self.second\n",
    "        return result\n",
    "\n",
    "    def mul(self) : # 곱하기 메서드\n",
    "        result = self.first * self.second\n",
    "        return result\n",
    "\n",
    "    def div(self) : # 뺴기 메서드\n",
    "        result = self.first / self.second\n",
    "        return result\n",
    "\n",
    "cal_1 = FourCal(4, 2)\n",
    "cal_2 = FourCal(3, 8)\n",
    "\n",
    "print(f\"{cal_1.first} + {cal_1.second} = {cal_1.add()}\")\n",
    "print(f\"{cal_1.first} - {cal_1.second} = {cal_1.sub()}\")\n",
    "print(f\"{cal_1.first} * {cal_1.second} = {cal_1.mul()}\")\n",
    "print(f\"{cal_1.first} / {cal_1.second} = {cal_1.div()}\")\n",
    "print(\"=\" * 20)\n",
    "print(f\"{cal_2.first} + {cal_2.second} = {cal_2.add()}\")\n",
    "print(f\"{cal_2.first} - {cal_2.second} = {cal_2.sub()}\")\n",
    "print(f\"{cal_2.first} * {cal_2.second} = {cal_2.mul()}\")\n",
    "print(f\"{cal_2.first} / {cal_2.second} = {cal_2.div()}\")"
   ]
  },
  {
   "cell_type": "markdown",
   "id": "25cd3feb-32ab-4ca6-bdc5-0ae6c0d59860",
   "metadata": {},
   "source": [
    "# 5. 클래스의 상속"
   ]
  },
  {
   "cell_type": "code",
   "execution_count": 88,
   "id": "8789eff0-4dbb-4677-81d8-b85b8480f337",
   "metadata": {},
   "outputs": [
    {
     "name": "stdout",
     "output_type": "stream",
     "text": [
      "4 + 5 = 9\n",
      "4 - 5 = -1\n",
      "4 * 5 = 20\n",
      "4 / 5 = 0.8\n",
      "4 ** 5 = 1024\n"
     ]
    }
   ],
   "source": [
    "class MoreFourCal(FourCal) :\n",
    "    def pow(self) :\n",
    "        result = self.first ** self.second\n",
    "        return result\n",
    "\n",
    "cal_3 = MoreFourCal(4, 5)\n",
    "\n",
    "print(f\"{cal_3.first} + {cal_3.second} = {cal_3.add()}\")\n",
    "print(f\"{cal_3.first} - {cal_3.second} = {cal_3.sub()}\")\n",
    "print(f\"{cal_3.first} * {cal_3.second} = {cal_3.mul()}\")\n",
    "print(f\"{cal_3.first} / {cal_3.second} = {cal_3.div()}\")\n",
    "print(f\"{cal_3.first} ** {cal_3.second} = {cal_3.pow()}\")"
   ]
  },
  {
   "cell_type": "markdown",
   "id": "54ab56dc-d770-489b-8af7-7e308354b366",
   "metadata": {},
   "source": [
    "# 6. 메서드 오버라이딩"
   ]
  },
  {
   "cell_type": "code",
   "execution_count": 89,
   "id": "891087db-c0f3-4c11-b3df-0a2e1fafef75",
   "metadata": {},
   "outputs": [
    {
     "ename": "ZeroDivisionError",
     "evalue": "division by zero",
     "output_type": "error",
     "traceback": [
      "\u001b[1;31m---------------------------------------------------------------------------\u001b[0m",
      "\u001b[1;31mZeroDivisionError\u001b[0m                         Traceback (most recent call last)",
      "Cell \u001b[1;32mIn[89], line 2\u001b[0m\n\u001b[0;32m      1\u001b[0m a \u001b[38;5;241m=\u001b[39m FourCal(\u001b[38;5;241m4\u001b[39m, \u001b[38;5;241m0\u001b[39m)\n\u001b[1;32m----> 2\u001b[0m a\u001b[38;5;241m.\u001b[39mdiv()\n",
      "Cell \u001b[1;32mIn[87], line 20\u001b[0m, in \u001b[0;36mFourCal.div\u001b[1;34m(self)\u001b[0m\n\u001b[0;32m     19\u001b[0m \u001b[38;5;28;01mdef\u001b[39;00m\u001b[38;5;250m \u001b[39m\u001b[38;5;21mdiv\u001b[39m(\u001b[38;5;28mself\u001b[39m) : \u001b[38;5;66;03m# 뺴기 메서드\u001b[39;00m\n\u001b[1;32m---> 20\u001b[0m     result \u001b[38;5;241m=\u001b[39m \u001b[38;5;28mself\u001b[39m\u001b[38;5;241m.\u001b[39mfirst \u001b[38;5;241m/\u001b[39m \u001b[38;5;28mself\u001b[39m\u001b[38;5;241m.\u001b[39msecond\n\u001b[0;32m     21\u001b[0m     \u001b[38;5;28;01mreturn\u001b[39;00m result\n",
      "\u001b[1;31mZeroDivisionError\u001b[0m: division by zero"
     ]
    }
   ],
   "source": [
    "a = FourCal(4, 0)\n",
    "a.div()"
   ]
  },
  {
   "cell_type": "code",
   "execution_count": 90,
   "id": "773d1a2e-b470-40d2-8b8a-7b4895e1c95d",
   "metadata": {},
   "outputs": [
    {
     "data": {
      "text/plain": [
       "0"
      ]
     },
     "execution_count": 90,
     "metadata": {},
     "output_type": "execute_result"
    }
   ],
   "source": [
    "class SafeFourCal(FourCal) :\n",
    "    def div(self) :\n",
    "        if self.second == 0 : # 나누는 값이 0인 경우 0을 리턴하도록 수정\n",
    "            return 0\n",
    "        else :\n",
    "            return self.first / self.second\n",
    "\n",
    "a = SafeFourCal(4, 0)\n",
    "a.div()"
   ]
  },
  {
   "cell_type": "markdown",
   "id": "ed514266-e12b-456d-b79a-70f7bd0022e3",
   "metadata": {},
   "source": [
    "# 7. 클래스 변수"
   ]
  },
  {
   "cell_type": "code",
   "execution_count": 83,
   "id": "747e8621-0e61-453c-9142-72d09015779a",
   "metadata": {},
   "outputs": [
    {
     "name": "stdout",
     "output_type": "stream",
     "text": [
      "김\n"
     ]
    }
   ],
   "source": [
    "# 클래스 변수 선언\n",
    "class Family :\n",
    "    lastName = \"김\"\n",
    "\n",
    "print(Family.lastName)"
   ]
  },
  {
   "cell_type": "code",
   "execution_count": 84,
   "id": "8f7f3b0b-ec89-4014-a1ad-2a6341ef8163",
   "metadata": {},
   "outputs": [
    {
     "name": "stdout",
     "output_type": "stream",
     "text": [
      "김\n",
      "김\n"
     ]
    }
   ],
   "source": [
    "# 클래스 변수 사용\n",
    "a = Family()\n",
    "b = Family()\n",
    "\n",
    "print(a.lastName)\n",
    "print(b.lastName)"
   ]
  },
  {
   "cell_type": "code",
   "execution_count": 85,
   "id": "de92104c-bc5b-4e55-8b4f-6cba647b450f",
   "metadata": {},
   "outputs": [
    {
     "name": "stdout",
     "output_type": "stream",
     "text": [
      "박\n",
      "박\n"
     ]
    }
   ],
   "source": [
    "# 클래스 변수 특징\n",
    "# 클래스로 만든 모든 객체에 공유 됨\n",
    "\n",
    "Family.lastName = \"박\"\n",
    "# Family.lastName => 클래스 변수를 변경하면 인스턴스 변수도 변경\n",
    "print(a.lastName)\n",
    "print(b.lastName)"
   ]
  },
  {
   "cell_type": "code",
   "execution_count": 86,
   "id": "6923dda6-c157-4a6c-adf5-537da6534491",
   "metadata": {},
   "outputs": [
    {
     "name": "stdout",
     "output_type": "stream",
     "text": [
      "최\n",
      "박\n"
     ]
    }
   ],
   "source": [
    "# 인스턴스 변수만 변경\n",
    "a.lastName = \"최\"\n",
    "\n",
    "print(a.lastName)\n",
    "print(b.lastName)"
   ]
  },
  {
   "cell_type": "code",
   "execution_count": null,
   "id": "82d58b85-4a4a-4d42-aa86-9f1d518a3abc",
   "metadata": {},
   "outputs": [],
   "source": []
  }
 ],
 "metadata": {
  "kernelspec": {
   "display_name": "Python 3 (ipykernel)",
   "language": "python",
   "name": "python3"
  },
  "language_info": {
   "codemirror_mode": {
    "name": "ipython",
    "version": 3
   },
   "file_extension": ".py",
   "mimetype": "text/x-python",
   "name": "python",
   "nbconvert_exporter": "python",
   "pygments_lexer": "ipython3",
   "version": "3.13.5"
  }
 },
 "nbformat": 4,
 "nbformat_minor": 5
}

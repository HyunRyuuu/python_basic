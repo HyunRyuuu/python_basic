{
 "cells": [
  {
   "cell_type": "markdown",
   "id": "f2afa0f5-91ca-4a76-9edb-b3f851c0c680",
   "metadata": {},
   "source": [
    "## 2. 딕셔너리는 어떻게 만들까?"
   ]
  },
  {
   "cell_type": "code",
   "execution_count": 8,
   "id": "edcefd2c-51f5-44bd-90ac-2eb060c1b57e",
   "metadata": {},
   "outputs": [
    {
     "name": "stdout",
     "output_type": "stream",
     "text": [
      "{'name': 'joohyun-ryu', 'phone': '010-5180-2969', 'birth': '0304'}\n",
      "<class 'dict'>\n"
     ]
    }
   ],
   "source": [
    "# key에는 정수와 문자열만 가능\n",
    "# value에는 어떠한 형태든 넣올 수 있음(정수, 문자열, 리스트 등)\n",
    "\n",
    "dic = {'name':'joohyun-ryu', 'phone':'010-5180-2969', 'birth':'0304'}\n",
    "\n",
    "print(dic)\n",
    "print(type(dic))"
   ]
  },
  {
   "cell_type": "code",
   "execution_count": 6,
   "id": "b85d6740-fede-45d9-97b2-6512c589d7c9",
   "metadata": {},
   "outputs": [
    {
     "ename": "KeyError",
     "evalue": "0",
     "output_type": "error",
     "traceback": [
      "\u001b[1;31m---------------------------------------------------------------------------\u001b[0m",
      "\u001b[1;31mKeyError\u001b[0m                                  Traceback (most recent call last)",
      "Cell \u001b[1;32mIn[6], line 1\u001b[0m\n\u001b[1;32m----> 1\u001b[0m dic[\u001b[38;5;241m0\u001b[39m]\n",
      "\u001b[1;31mKeyError\u001b[0m: 0"
     ]
    }
   ],
   "source": [
    "dic[0] # 인덱스로 찾을 수 없음"
   ]
  },
  {
   "cell_type": "code",
   "execution_count": 5,
   "id": "be6c7902-fa8a-49e3-a7fe-5e1864328b4f",
   "metadata": {},
   "outputs": [
    {
     "data": {
      "text/plain": [
       "'joohyun-ryu'"
      ]
     },
     "execution_count": 5,
     "metadata": {},
     "output_type": "execute_result"
    }
   ],
   "source": [
    "dic['name'] # 인덱스 대신 키값으로 검색"
   ]
  },
  {
   "cell_type": "code",
   "execution_count": 7,
   "id": "f19924bc-6a7d-448b-94e9-d58bd2271241",
   "metadata": {},
   "outputs": [
    {
     "data": {
      "text/plain": [
       "'010-5180-2969'"
      ]
     },
     "execution_count": 7,
     "metadata": {},
     "output_type": "execute_result"
    }
   ],
   "source": [
    "dic['phone']"
   ]
  },
  {
   "cell_type": "code",
   "execution_count": 9,
   "id": "0ae59df3-1eb7-4807-b30c-2625085aaa16",
   "metadata": {},
   "outputs": [
    {
     "data": {
      "text/plain": [
       "{'a': [1, 2, 3]}"
      ]
     },
     "execution_count": 9,
     "metadata": {},
     "output_type": "execute_result"
    }
   ],
   "source": [
    "a = {'a':[1, 2, 3]}\n",
    "\n",
    "a"
   ]
  },
  {
   "cell_type": "markdown",
   "id": "e4277b58-7666-40d7-a61a-946dcf0641be",
   "metadata": {},
   "source": [
    "## 3. 딕셔너리 쌍 추가, 삭제하기"
   ]
  },
  {
   "cell_type": "code",
   "execution_count": 18,
   "id": "f8ef5fe9-8fbc-4481-af2a-d067f0438eac",
   "metadata": {},
   "outputs": [
    {
     "name": "stdout",
     "output_type": "stream",
     "text": [
      "{1: 'a'}\n",
      "{1: 'a', 2: 'b'}\n",
      "{1: 'a', 2: 'b', 'name': 'joo'}\n",
      "{1: 'a', 2: 'b', 'name': 'joo', 3: [1, 2, 3]}\n",
      "{1: 'a', 2: 'b', 'name': 'joo', 3: [1, 2, 3], 'hobby': {'a': [1, 2, 3], 'b': 'sport'}}\n"
     ]
    }
   ],
   "source": [
    "# 딕셔너리 쌍 추가\n",
    "a = {1:'a'}\n",
    "print(a)\n",
    "\n",
    "a[2] = 'b' # key 2, value 'b' 추가\n",
    "print(a)\n",
    "\n",
    "a['name'] = 'joo' # key 'name', value 'joo' 추가\n",
    "print(a)\n",
    "\n",
    "a[3] = [1, 2, 3] # key 3, value 배열 1, 2, 3 추가\n",
    "print(a)\n",
    "\n",
    "a['hobby'] = {'a':[1,2,3], 'b':'sport'} # key 'hobby', value 딕셔너리 추가\n",
    "print(a)"
   ]
  },
  {
   "cell_type": "code",
   "execution_count": 19,
   "id": "e6c2aa75-7f0a-416e-906b-64f7caae7c82",
   "metadata": {},
   "outputs": [
    {
     "name": "stdout",
     "output_type": "stream",
     "text": [
      "{1: 'a', 2: 'b', 'name': 'joo', 3: [1, 2, 3]}\n"
     ]
    }
   ],
   "source": [
    "# 딕셔너리 요소 삭제하기\n",
    "del a['hobby']\n",
    "print(a)"
   ]
  },
  {
   "cell_type": "markdown",
   "id": "3a46e33b-1f4c-436b-b1cf-471373245ad6",
   "metadata": {},
   "source": [
    "## 4. 딕셔너리를 사용하는 방법"
   ]
  },
  {
   "cell_type": "code",
   "execution_count": 25,
   "id": "61b24a05-c7f9-4262-99a0-af94f2933b4b",
   "metadata": {},
   "outputs": [
    {
     "name": "stdout",
     "output_type": "stream",
     "text": [
      "10\n",
      "99\n"
     ]
    }
   ],
   "source": [
    "# 딕셔너리에서 key를 사용해 value 얻기\n",
    "# 순서가 없기 때문에 슬라이싱은 불가능.\n",
    "grade = {'pey':10, 'julliet':99}\n",
    "\n",
    "print(grade['pey'])\n",
    "print(grade['julliet'])"
   ]
  },
  {
   "cell_type": "code",
   "execution_count": 23,
   "id": "c0755631-24bd-479d-9c13-545c41c6d5fc",
   "metadata": {},
   "outputs": [
    {
     "name": "stdout",
     "output_type": "stream",
     "text": [
      "a\n",
      "b\n"
     ]
    }
   ],
   "source": [
    "a = {1 : 'a', 2 : 'b'}\n",
    "\n",
    "print(a[1])\n",
    "print(a[2])"
   ]
  },
  {
   "cell_type": "code",
   "execution_count": 24,
   "id": "c64977ed-a17d-4cb3-b4de-90c4b82d2c27",
   "metadata": {},
   "outputs": [
    {
     "name": "stdout",
     "output_type": "stream",
     "text": [
      "joohyun-ryu\n",
      "010-5180-2969\n",
      "0304\n"
     ]
    }
   ],
   "source": [
    "dic = {'name':'joohyun-ryu', 'phone':'010-5180-2969', 'birth':'0304'}\n",
    "\n",
    "print(dic['name'])\n",
    "print(dic['phone'])\n",
    "print(dic['birth'])"
   ]
  },
  {
   "cell_type": "code",
   "execution_count": 27,
   "id": "a5c0c87c-fc50-479f-bbcd-6961cc58ee27",
   "metadata": {},
   "outputs": [
    {
     "name": "stdout",
     "output_type": "stream",
     "text": [
      "{1: 'b'}\n"
     ]
    }
   ],
   "source": [
    "# 딕셔너리 만들 떄 주의사항\n",
    "\n",
    "a = {1 : 'a', 1 : 'b'}\n",
    "print(a) # key는 고유한 값이므로 중복된 선언이면 가장 마지막 key로 덮여 쓰여짐"
   ]
  },
  {
   "cell_type": "code",
   "execution_count": 30,
   "id": "b33a5a77-288f-4004-a8d9-b024337b6103",
   "metadata": {},
   "outputs": [
    {
     "ename": "TypeError",
     "evalue": "unhashable type: 'list'",
     "output_type": "error",
     "traceback": [
      "\u001b[1;31m---------------------------------------------------------------------------\u001b[0m",
      "\u001b[1;31mTypeError\u001b[0m                                 Traceback (most recent call last)",
      "Cell \u001b[1;32mIn[30], line 2\u001b[0m\n\u001b[0;32m      1\u001b[0m \u001b[38;5;66;03m# key에는 정수 혹은 문자열, 튜플만 쓸 수 있음.\u001b[39;00m\n\u001b[1;32m----> 2\u001b[0m a \u001b[38;5;241m=\u001b[39m {[\u001b[38;5;241m1\u001b[39m, \u001b[38;5;241m2\u001b[39m] : \u001b[38;5;124m'\u001b[39m\u001b[38;5;124mhi\u001b[39m\u001b[38;5;124m'\u001b[39m}\n\u001b[0;32m      3\u001b[0m \u001b[38;5;28mprint\u001b[39m(a)\n\u001b[0;32m      5\u001b[0m b \u001b[38;5;241m=\u001b[39m {(\u001b[38;5;241m1\u001b[39m, \u001b[38;5;241m2\u001b[39m) : \u001b[38;5;124m'\u001b[39m\u001b[38;5;124mhi\u001b[39m\u001b[38;5;124m'\u001b[39m}\n",
      "\u001b[1;31mTypeError\u001b[0m: unhashable type: 'list'"
     ]
    }
   ],
   "source": [
    "# key에는 정수 혹은 문자열, 튜플만 쓸 수 있음.\n",
    "a = {[1, 2] : 'hi'}\n",
    "print(a)"
   ]
  },
  {
   "cell_type": "code",
   "execution_count": 32,
   "id": "950ec464-f681-402d-9fc6-6d0429b4a473",
   "metadata": {},
   "outputs": [
    {
     "name": "stdout",
     "output_type": "stream",
     "text": [
      "{(1, 2): 'hi'}\n"
     ]
    }
   ],
   "source": [
    "# key에 튜플 사용하기\n",
    "\n",
    "b = {(1, 2) : 'hi'}\n",
    "print(b)"
   ]
  },
  {
   "cell_type": "markdown",
   "id": "8c3725f9-73b3-4eb7-ae8e-ac2c49cb9ac7",
   "metadata": {},
   "source": [
    "## 딕셔너리 관련 함수"
   ]
  },
  {
   "cell_type": "code",
   "execution_count": 34,
   "id": "0a133076-4904-4aa3-be61-bb1a4c828673",
   "metadata": {},
   "outputs": [
    {
     "data": {
      "text/plain": [
       "dict_keys(['name', 'phone', 'birth'])"
      ]
     },
     "execution_count": 34,
     "metadata": {},
     "output_type": "execute_result"
    }
   ],
   "source": [
    "# keys() : key 리스트 만들기\n",
    "\n",
    "dic = {'name':'joohyun-ryu', 'phone':'010-5180-2969', 'birth':'0304'}\n",
    "dic.keys()"
   ]
  },
  {
   "cell_type": "code",
   "execution_count": 35,
   "id": "84c729df-56db-40fd-9a97-04d380ed214d",
   "metadata": {},
   "outputs": [
    {
     "data": {
      "text/plain": [
       "dict_values(['joohyun-ryu', '010-5180-2969', '0304'])"
      ]
     },
     "execution_count": 35,
     "metadata": {},
     "output_type": "execute_result"
    }
   ],
   "source": [
    "# values() : value 리스트 만들기\n",
    "dic.values()"
   ]
  },
  {
   "cell_type": "code",
   "execution_count": 36,
   "id": "5c14762d-2676-4e67-bbb0-987509e3117b",
   "metadata": {},
   "outputs": [
    {
     "name": "stdout",
     "output_type": "stream",
     "text": [
      "name\n",
      "phone\n",
      "birth\n"
     ]
    }
   ],
   "source": [
    "for k in dic.keys() :\n",
    "    print(k)"
   ]
  },
  {
   "cell_type": "code",
   "execution_count": 37,
   "id": "22b074e0-e095-4973-b93b-4559eb784ee8",
   "metadata": {},
   "outputs": [
    {
     "data": {
      "text/plain": [
       "dict_items([('name', 'joohyun-ryu'), ('phone', '010-5180-2969'), ('birth', '0304')])"
      ]
     },
     "execution_count": 37,
     "metadata": {},
     "output_type": "execute_result"
    }
   ],
   "source": [
    "# itmes() : key, value 쌍 얻기\n",
    "\n",
    "dic.items()"
   ]
  },
  {
   "cell_type": "code",
   "execution_count": 46,
   "id": "688d2c50-e36f-4698-9317-1d5fec08952d",
   "metadata": {},
   "outputs": [
    {
     "name": "stdout",
     "output_type": "stream",
     "text": [
      "{}\n"
     ]
    }
   ],
   "source": [
    "# clear() : key:value 쌍 모두 지우기 - 초기화\n",
    "\n",
    "dic.clear()\n",
    "print(dic)"
   ]
  },
  {
   "cell_type": "code",
   "execution_count": 47,
   "id": "bd75aba2-3ffd-472f-9517-21c7a476b9f6",
   "metadata": {},
   "outputs": [
    {
     "name": "stdout",
     "output_type": "stream",
     "text": [
      "{'name': 'rjh'}\n"
     ]
    }
   ],
   "source": [
    "dic['name'] = 'rjh'\n",
    "print(dic)"
   ]
  },
  {
   "cell_type": "code",
   "execution_count": 48,
   "id": "946e8e34-ed7a-471c-ba8b-8a6fda92ebb3",
   "metadata": {},
   "outputs": [
    {
     "name": "stdout",
     "output_type": "stream",
     "text": [
      "{'name': 'rjh', 'phone': '010-5180-2969', 'birth': '0304'}\n"
     ]
    }
   ],
   "source": [
    "dic['phone'] = '010-5180-2969'\n",
    "dic['birth'] = '0304'\n",
    "print(dic)"
   ]
  },
  {
   "cell_type": "code",
   "execution_count": 51,
   "id": "013ab176-e004-4c57-870c-a7dee81e370d",
   "metadata": {},
   "outputs": [
    {
     "name": "stdout",
     "output_type": "stream",
     "text": [
      "rjh\n",
      "None\n"
     ]
    }
   ],
   "source": [
    "# get() : key로 value 얻기\n",
    "\n",
    "print(dic.get('name'))\n",
    "print(dic.get('age')) # 존재하지 없는 key값이면 None(거짓)"
   ]
  },
  {
   "cell_type": "code",
   "execution_count": 52,
   "id": "ce15aa9b-e9f6-4334-926a-82667bfee511",
   "metadata": {},
   "outputs": [
    {
     "ename": "KeyError",
     "evalue": "'age'",
     "output_type": "error",
     "traceback": [
      "\u001b[1;31m---------------------------------------------------------------------------\u001b[0m",
      "\u001b[1;31mKeyError\u001b[0m                                  Traceback (most recent call last)",
      "Cell \u001b[1;32mIn[52], line 1\u001b[0m\n\u001b[1;32m----> 1\u001b[0m \u001b[38;5;28mprint\u001b[39m(dic[\u001b[38;5;124m'\u001b[39m\u001b[38;5;124mage\u001b[39m\u001b[38;5;124m'\u001b[39m])\n",
      "\u001b[1;31mKeyError\u001b[0m: 'age'"
     ]
    }
   ],
   "source": [
    "print(dic['age']) # 오류 남"
   ]
  },
  {
   "cell_type": "code",
   "execution_count": 53,
   "id": "bd12899f-26f3-4865-ab9b-39c315e7f803",
   "metadata": {},
   "outputs": [
    {
     "name": "stdout",
     "output_type": "stream",
     "text": [
      "nooooo\n"
     ]
    }
   ],
   "source": [
    "print(dic.get('age', 'nooooo')) # 존재하지 않는 key값일 때 호출할 기본값 정하기"
   ]
  },
  {
   "cell_type": "code",
   "execution_count": 55,
   "id": "c1c377ee-af57-4c84-9be7-d9c5992a0e6a",
   "metadata": {},
   "outputs": [
    {
     "name": "stdout",
     "output_type": "stream",
     "text": [
      "내 전화번호는 010-5180-2969 입니다.\n"
     ]
    }
   ],
   "source": [
    "print(f\"내 전화번호는 {dic['phone']} 입니다.\")"
   ]
  },
  {
   "cell_type": "code",
   "execution_count": 58,
   "id": "f7c9ba7f-2a33-491d-8ba0-883b2df3b1a6",
   "metadata": {},
   "outputs": [
    {
     "data": {
      "text/plain": [
       "True"
      ]
     },
     "execution_count": 58,
     "metadata": {},
     "output_type": "execute_result"
    }
   ],
   "source": [
    "# in : key가 딕셔너리 안에 있는지 조사하기\n",
    "# 있으면 true, 없으면 false 반환\n",
    "'name' in dic"
   ]
  },
  {
   "cell_type": "code",
   "execution_count": 57,
   "id": "5b222492-41a9-4e56-b4be-d95b05f2751a",
   "metadata": {},
   "outputs": [
    {
     "data": {
      "text/plain": [
       "False"
      ]
     },
     "execution_count": 57,
     "metadata": {},
     "output_type": "execute_result"
    }
   ],
   "source": [
    "'email' in dic"
   ]
  },
  {
   "cell_type": "code",
   "execution_count": 59,
   "id": "b68c66f4-a624-408b-b929-532b7623019a",
   "metadata": {},
   "outputs": [
    {
     "name": "stdout",
     "output_type": "stream",
     "text": [
      "딕셔너리에 'name' 키가 존재합니다\n"
     ]
    }
   ],
   "source": [
    "if \"name\" in dic :\n",
    "    print(\"딕셔너리에 'name' 키가 존재합니다\")"
   ]
  },
  {
   "cell_type": "code",
   "execution_count": null,
   "id": "5365a9ae-e4bd-4519-ba4d-24a9dfa97d0f",
   "metadata": {},
   "outputs": [],
   "source": []
  },
  {
   "cell_type": "code",
   "execution_count": null,
   "id": "9a05fa56-c479-4fa1-be5d-a48a907c7de5",
   "metadata": {},
   "outputs": [],
   "source": []
  }
 ],
 "metadata": {
  "kernelspec": {
   "display_name": "Python 3 (ipykernel)",
   "language": "python",
   "name": "python3"
  },
  "language_info": {
   "codemirror_mode": {
    "name": "ipython",
    "version": 3
   },
   "file_extension": ".py",
   "mimetype": "text/x-python",
   "name": "python",
   "nbconvert_exporter": "python",
   "pygments_lexer": "ipython3",
   "version": "3.13.5"
  }
 },
 "nbformat": 4,
 "nbformat_minor": 5
}

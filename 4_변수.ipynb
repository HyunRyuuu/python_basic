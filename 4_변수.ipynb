{
 "cells": [
  {
   "cell_type": "markdown",
   "id": "34ae6e9a-3c55-4a4c-9e76-d38192aeafad",
   "metadata": {},
   "source": [
    "## 1. 변수란?"
   ]
  },
  {
   "cell_type": "code",
   "execution_count": 2,
   "id": "11caa0dc-bd33-42bb-99ff-dddf707dd059",
   "metadata": {},
   "outputs": [
    {
     "name": "stdout",
     "output_type": "stream",
     "text": [
      "3203051808640\n"
     ]
    }
   ],
   "source": [
    "a = [1, 2, 3]\n",
    "\n",
    "print(id(a)) ## a가 저장된 메모리의 주소"
   ]
  },
  {
   "cell_type": "markdown",
   "id": "6695cfae-9c10-428b-8157-0815b2e78529",
   "metadata": {},
   "source": [
    "## 2. 리스트를 복사하고자 할 때"
   ]
  },
  {
   "cell_type": "code",
   "execution_count": 4,
   "id": "dd903464-7e17-4391-8c0b-d3205585e673",
   "metadata": {},
   "outputs": [
    {
     "name": "stdout",
     "output_type": "stream",
     "text": [
      "[1, 2, 3]\n"
     ]
    }
   ],
   "source": [
    "a = [1, 2, 3]\n",
    "b = a\n",
    "print(b)"
   ]
  },
  {
   "cell_type": "code",
   "execution_count": 5,
   "id": "88b67bb5-6a7e-40ff-b5a6-f379624bdfd5",
   "metadata": {},
   "outputs": [
    {
     "name": "stdout",
     "output_type": "stream",
     "text": [
      "id(a)의 메모리 주소는 3203065700864\n",
      "id(b)의 메모리 주소는 3203065700864\n"
     ]
    }
   ],
   "source": [
    "print(f\"id(a)의 메모리 주소는 {id(a)}\")\n",
    "print(f\"id(b)의 메모리 주소는 {id(b)}\")"
   ]
  },
  {
   "cell_type": "code",
   "execution_count": 8,
   "id": "90e4d1ca-d495-45b6-901b-b77e5363f3e2",
   "metadata": {},
   "outputs": [
    {
     "data": {
      "text/plain": [
       "True"
      ]
     },
     "execution_count": 8,
     "metadata": {},
     "output_type": "execute_result"
    }
   ],
   "source": [
    "a is b ## a와 b가 가리키는 객체가 같을까?"
   ]
  },
  {
   "cell_type": "code",
   "execution_count": 15,
   "id": "33474737-27fe-48fa-adf5-92607aaafb81",
   "metadata": {},
   "outputs": [
    {
     "name": "stdout",
     "output_type": "stream",
     "text": [
      "a : [1, 4, 3]\n",
      "b : [1, 2, 3]\n"
     ]
    }
   ],
   "source": [
    "a[1] = 4\n",
    "print(f\"a : {a}\")\n",
    "print(f\"b : {b}\")"
   ]
  },
  {
   "cell_type": "markdown",
   "id": "e416cd8d-2469-418e-b1aa-841dffeea8fb",
   "metadata": {},
   "source": [
    "### * b변수 생성할 때 a 값을 가져오면 a와 다른 주소를 가리도록 하려면?"
   ]
  },
  {
   "cell_type": "code",
   "execution_count": 13,
   "id": "94e5ebaa-b729-4ffe-959f-cbdddfcb2983",
   "metadata": {},
   "outputs": [
    {
     "name": "stdout",
     "output_type": "stream",
     "text": [
      "step 1 - a : [1, 2, 3]\n",
      "step 1 - b : [1, 2, 3]\n",
      "b is a : False\n",
      "\n",
      "\n",
      "step 2 - a : [1, 4, 3]\n",
      "step 2 - b : [1, 2, 3]\n"
     ]
    }
   ],
   "source": [
    "a = [1, 2, 3]\n",
    "b = a[:] ## 슬라이싱을 이용해 값만 가져오기\n",
    "print(f\"step 1 - a : {a}\")\n",
    "print(f\"step 1 - b : {b}\")\n",
    "print(f\"b is a : {b is a}\")\n",
    "print(f\"\\n\")\n",
    "\n",
    "a[1] = 4\n",
    "print(f\"step 2 - a : {a}\")\n",
    "print(f\"step 2 - b : {b}\")"
   ]
  },
  {
   "cell_type": "code",
   "execution_count": 12,
   "id": "dc45d88b-89d9-4ccf-94c2-a75822c2f2e4",
   "metadata": {},
   "outputs": [
    {
     "name": "stdout",
     "output_type": "stream",
     "text": [
      "b is a : False\n"
     ]
    }
   ],
   "source": [
    "# copy 모듈 이용하기\n",
    "from copy import copy\n",
    "a = [1, 2, 3]\n",
    "b = copy(a)\n",
    "\n",
    "print(f\"b is a : {b is a}\")"
   ]
  },
  {
   "cell_type": "code",
   "execution_count": 16,
   "id": "6b375ca9-b6c8-43d3-9ecb-23389a3af8cd",
   "metadata": {},
   "outputs": [
    {
     "name": "stdout",
     "output_type": "stream",
     "text": [
      "a : [1, 4, 5]\n",
      "b : [1, 2, 3]\n",
      "id(a)의 메모리 주소는 3203065705152\n",
      "id(b)의 메모리 주소는 3203066158528\n"
     ]
    }
   ],
   "source": [
    "a[2] = 5\n",
    "\n",
    "print(f\"a : {a}\")\n",
    "print(f\"b : {b}\")\n",
    "print(f\"id(a)의 메모리 주소는 {id(a)}\")\n",
    "print(f\"id(b)의 메모리 주소는 {id(b)}\")"
   ]
  },
  {
   "cell_type": "code",
   "execution_count": 17,
   "id": "1c8b750c-549a-4b71-914f-d33a7673ae6b",
   "metadata": {},
   "outputs": [
    {
     "name": "stdout",
     "output_type": "stream",
     "text": [
      "b is a : False\n"
     ]
    }
   ],
   "source": [
    "# copy 함수 사용하기\n",
    "\n",
    "a = [1, 2, 3]\n",
    "b = a.copy()\n",
    "\n",
    "print(f\"b is a : {b is a}\")"
   ]
  },
  {
   "cell_type": "markdown",
   "id": "528e4111-8326-4aef-9b5a-43ee89b1437c",
   "metadata": {},
   "source": [
    "## 3. 변수를 만드는 여러가지 방법"
   ]
  },
  {
   "cell_type": "code",
   "execution_count": 26,
   "id": "45a2b8fb-fa6e-4f95-8b78-b754a887b8e5",
   "metadata": {},
   "outputs": [
    {
     "name": "stdout",
     "output_type": "stream",
     "text": [
      "a : python\n",
      "b : life\n",
      "c : python\n",
      "d : life\n"
     ]
    }
   ],
   "source": [
    "# 튜플로 변수 만들기\n",
    "\n",
    "a, b = ('python', 'life')\n",
    "print(f\"a : {a}\")\n",
    "print(f\"b : {b}\")\n",
    "\n",
    "(c, d) = 'python', 'life' ## 튜플은 괄호를 생략해도 된다.\n",
    "print(f\"c : {c}\")\n",
    "print(f\"d : {d}\")"
   ]
  },
  {
   "cell_type": "code",
   "execution_count": 29,
   "id": "b5c57d94-17e9-42e8-bd03-f5615177c3be",
   "metadata": {},
   "outputs": [
    {
     "name": "stdout",
     "output_type": "stream",
     "text": [
      "a : python\n",
      "b : life\n"
     ]
    }
   ],
   "source": [
    "# 리스트로 변수 만들기\n",
    "\n",
    "[a, b] = ['python', 'life']\n",
    "print(f\"a : {a}\")\n",
    "print(f\"b : {b}\")"
   ]
  },
  {
   "cell_type": "code",
   "execution_count": 34,
   "id": "c2110b93-621e-4241-8e8e-4254dafdb80b",
   "metadata": {},
   "outputs": [
    {
     "name": "stdout",
     "output_type": "stream",
     "text": [
      "a : python, 주소값 : 3202952522048\n",
      "b : python, 주소값 : 3202952522048\n"
     ]
    }
   ],
   "source": [
    "# 여러 개의 변수에 같은 값 대입\n",
    "\n",
    "a = b = 'python'\n",
    "print(f\"a : {a}, 주소값 : {id(a)}\")\n",
    "print(f\"b : {b}, 주소값 : {id(b)}\")"
   ]
  },
  {
   "cell_type": "code",
   "execution_count": 28,
   "id": "b47f5ced-04df-4bd3-8173-29f7fba97393",
   "metadata": {},
   "outputs": [
    {
     "name": "stdout",
     "output_type": "stream",
     "text": [
      "a : 5\n",
      "b : 3\n"
     ]
    }
   ],
   "source": [
    "# 두 변수의 값 바꾸기\n",
    "\n",
    "a = 3\n",
    "b = 5\n",
    "a, b = b, a\n",
    "\n",
    "print(f\"a : {a}\")\n",
    "print(f\"b : {b}\")"
   ]
  },
  {
   "cell_type": "code",
   "execution_count": null,
   "id": "1f3a88ae-3770-4508-802c-10c24100332d",
   "metadata": {},
   "outputs": [],
   "source": []
  }
 ],
 "metadata": {
  "kernelspec": {
   "display_name": "Python 3 (ipykernel)",
   "language": "python",
   "name": "python3"
  },
  "language_info": {
   "codemirror_mode": {
    "name": "ipython",
    "version": 3
   },
   "file_extension": ".py",
   "mimetype": "text/x-python",
   "name": "python",
   "nbconvert_exporter": "python",
   "pygments_lexer": "ipython3",
   "version": "3.13.5"
  }
 },
 "nbformat": 4,
 "nbformat_minor": 5
}

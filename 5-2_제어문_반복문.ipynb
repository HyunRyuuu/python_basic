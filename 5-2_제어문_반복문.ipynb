{
 "cells": [
  {
   "cell_type": "markdown",
   "id": "cbe2ef60-9a7a-4ac0-a9b5-1c506d018be7",
   "metadata": {},
   "source": [
    "## 1. While문"
   ]
  },
  {
   "cell_type": "code",
   "execution_count": 4,
   "id": "09e28d6f-6fde-49be-bf82-aca257e9a878",
   "metadata": {},
   "outputs": [
    {
     "name": "stdout",
     "output_type": "stream",
     "text": [
      "나무를 1번 찍었습니다.\n",
      "나무를 2번 찍었습니다.\n",
      "나무를 3번 찍었습니다.\n",
      "나무를 4번 찍었습니다.\n",
      "나무를 5번 찍었습니다.\n",
      "나무를 6번 찍었습니다.\n",
      "나무를 7번 찍었습니다.\n",
      "나무를 8번 찍었습니다.\n",
      "나무를 9번 찍었습니다.\n",
      "나무를 10번 찍었습니다.\n",
      "나무가 넘어갑니다.\n"
     ]
    }
   ],
   "source": [
    "treeHit = 0\n",
    "\n",
    "while treeHit < 10 :\n",
    "    treeHit += 1\n",
    "    print(f\"나무를 {treeHit}번 찍었습니다.\") # print(\"나무를 %d번 찍었습니다.\"%treeHit)\n",
    "    if treeHit == 10 :\n",
    "        print(\"나무가 넘어갑니다.\")"
   ]
  },
  {
   "cell_type": "code",
   "execution_count": 8,
   "id": "3c84861d-3c83-4dcd-ba93-528ae7e99348",
   "metadata": {},
   "outputs": [
    {
     "name": "stdout",
     "output_type": "stream",
     "text": [
      "\n",
      "1. Add\n",
      "2. Del\n",
      "3. List\n",
      "4. Quit\n",
      "\n",
      "Enter number : \n"
     ]
    },
    {
     "name": "stdin",
     "output_type": "stream",
     "text": [
      " 1\n"
     ]
    },
    {
     "name": "stdout",
     "output_type": "stream",
     "text": [
      "\n",
      "1. Add\n",
      "2. Del\n",
      "3. List\n",
      "4. Quit\n",
      "\n",
      "Enter number : \n"
     ]
    },
    {
     "name": "stdin",
     "output_type": "stream",
     "text": [
      " 2\n"
     ]
    },
    {
     "name": "stdout",
     "output_type": "stream",
     "text": [
      "\n",
      "1. Add\n",
      "2. Del\n",
      "3. List\n",
      "4. Quit\n",
      "\n",
      "Enter number : \n"
     ]
    },
    {
     "name": "stdin",
     "output_type": "stream",
     "text": [
      " 3\n"
     ]
    },
    {
     "name": "stdout",
     "output_type": "stream",
     "text": [
      "\n",
      "1. Add\n",
      "2. Del\n",
      "3. List\n",
      "4. Quit\n",
      "\n",
      "Enter number : \n"
     ]
    },
    {
     "name": "stdin",
     "output_type": "stream",
     "text": [
      " 4\n"
     ]
    }
   ],
   "source": [
    "prompt=\"\"\"\n",
    "1. Add\n",
    "2. Del\n",
    "3. List\n",
    "4. Quit\n",
    "\n",
    "Enter number : \"\"\"\n",
    "\n",
    "number = 0\n",
    "while number != 4 :\n",
    "    print(prompt)\n",
    "    number = int(input())"
   ]
  },
  {
   "cell_type": "code",
   "execution_count": 10,
   "id": "e8734868-cb20-499f-bcb9-e85697d25a2c",
   "metadata": {},
   "outputs": [
    {
     "name": "stdout",
     "output_type": "stream",
     "text": [
      "돈을 받았으니 커피를 줍니다.\n",
      "남은 커피의 양은 9개 입니다.\n",
      "============\n",
      "돈을 받았으니 커피를 줍니다.\n",
      "남은 커피의 양은 8개 입니다.\n",
      "============\n",
      "돈을 받았으니 커피를 줍니다.\n",
      "남은 커피의 양은 7개 입니다.\n",
      "============\n",
      "돈을 받았으니 커피를 줍니다.\n",
      "남은 커피의 양은 6개 입니다.\n",
      "============\n",
      "돈을 받았으니 커피를 줍니다.\n",
      "남은 커피의 양은 5개 입니다.\n",
      "============\n",
      "돈을 받았으니 커피를 줍니다.\n",
      "남은 커피의 양은 4개 입니다.\n",
      "============\n",
      "돈을 받았으니 커피를 줍니다.\n",
      "남은 커피의 양은 3개 입니다.\n",
      "============\n",
      "돈을 받았으니 커피를 줍니다.\n",
      "남은 커피의 양은 2개 입니다.\n",
      "============\n",
      "돈을 받았으니 커피를 줍니다.\n",
      "남은 커피의 양은 1개 입니다.\n",
      "============\n",
      "돈을 받았으니 커피를 줍니다.\n",
      "남은 커피의 양은 0개 입니다.\n",
      "============\n",
      "커피가 다 떨어졌습니다. 판매를 중지합니다.\n"
     ]
    }
   ],
   "source": [
    "# break문 : while문 강제로 빠져나가기\n",
    "\n",
    "coffee = 10\n",
    "money = 300\n",
    "\n",
    "while money :\n",
    "    print(\"돈을 받았으니 커피를 줍니다.\")\n",
    "    coffee -= 1\n",
    "    print(\"남은 커피의 양은 %d개 입니다.\"%coffee)\n",
    "    print(\"============\")\n",
    "\n",
    "    if coffee == 0 :\n",
    "        print(\"커피가 다 떨어졌습니다. 판매를 중지합니다.\")\n",
    "        break"
   ]
  },
  {
   "cell_type": "code",
   "execution_count": 15,
   "id": "8edf8242-cbae-47c0-9c4f-caf961416356",
   "metadata": {},
   "outputs": [
    {
     "name": "stdin",
     "output_type": "stream",
     "text": [
      "돈을 넣어주세요 :  300\n"
     ]
    },
    {
     "name": "stdout",
     "output_type": "stream",
     "text": [
      "커피를 줍니다.\n",
      "남은 커피의 양은 10개 입니다.\n"
     ]
    },
    {
     "name": "stdin",
     "output_type": "stream",
     "text": [
      "돈을 넣어주세요 :  500\n"
     ]
    },
    {
     "name": "stdout",
     "output_type": "stream",
     "text": [
      "거스름돈 200를 주고 커피를 줍니다.\n"
     ]
    },
    {
     "name": "stdin",
     "output_type": "stream",
     "text": [
      "돈을 넣어주세요 :  300\n"
     ]
    },
    {
     "name": "stdout",
     "output_type": "stream",
     "text": [
      "커피를 줍니다.\n",
      "남은 커피의 양은 8개 입니다.\n"
     ]
    },
    {
     "name": "stdin",
     "output_type": "stream",
     "text": [
      "돈을 넣어주세요 :  200\n"
     ]
    },
    {
     "name": "stdout",
     "output_type": "stream",
     "text": [
      "돈을 다시 돌려주고 커피를 주지 않습니다.\n",
      "남은 커피의 양은 7개 입니다.\n"
     ]
    },
    {
     "name": "stdin",
     "output_type": "stream",
     "text": [
      "돈을 넣어주세요 :  300\n"
     ]
    },
    {
     "name": "stdout",
     "output_type": "stream",
     "text": [
      "커피를 줍니다.\n",
      "남은 커피의 양은 7개 입니다.\n"
     ]
    },
    {
     "name": "stdin",
     "output_type": "stream",
     "text": [
      "돈을 넣어주세요 :  100\n"
     ]
    },
    {
     "name": "stdout",
     "output_type": "stream",
     "text": [
      "돈을 다시 돌려주고 커피를 주지 않습니다.\n",
      "남은 커피의 양은 6개 입니다.\n"
     ]
    },
    {
     "name": "stdin",
     "output_type": "stream",
     "text": [
      "돈을 넣어주세요 :  300\n"
     ]
    },
    {
     "name": "stdout",
     "output_type": "stream",
     "text": [
      "커피를 줍니다.\n",
      "남은 커피의 양은 6개 입니다.\n"
     ]
    },
    {
     "name": "stdin",
     "output_type": "stream",
     "text": [
      "돈을 넣어주세요 :  300\n"
     ]
    },
    {
     "name": "stdout",
     "output_type": "stream",
     "text": [
      "커피를 줍니다.\n",
      "남은 커피의 양은 5개 입니다.\n"
     ]
    },
    {
     "name": "stdin",
     "output_type": "stream",
     "text": [
      "돈을 넣어주세요 :  500\n"
     ]
    },
    {
     "name": "stdout",
     "output_type": "stream",
     "text": [
      "거스름돈 200를 주고 커피를 줍니다.\n"
     ]
    },
    {
     "name": "stdin",
     "output_type": "stream",
     "text": [
      "돈을 넣어주세요 :  300\n"
     ]
    },
    {
     "name": "stdout",
     "output_type": "stream",
     "text": [
      "커피를 줍니다.\n",
      "남은 커피의 양은 3개 입니다.\n"
     ]
    },
    {
     "name": "stdin",
     "output_type": "stream",
     "text": [
      "돈을 넣어주세요 :  400\n"
     ]
    },
    {
     "name": "stdout",
     "output_type": "stream",
     "text": [
      "거스름돈 100를 주고 커피를 줍니다.\n"
     ]
    },
    {
     "name": "stdin",
     "output_type": "stream",
     "text": [
      "돈을 넣어주세요 :  300\n"
     ]
    },
    {
     "name": "stdout",
     "output_type": "stream",
     "text": [
      "커피를 줍니다.\n",
      "남은 커피의 양은 1개 입니다.\n",
      "커피가 다 떨어졌습니다. 판매를 중지합니다.\n"
     ]
    }
   ],
   "source": [
    "coffee = 10\n",
    "while True :\n",
    "    money = int(input(\"돈을 넣어주세요 : \"))\n",
    "    \n",
    "    if money == 300 :\n",
    "        print(\"커피를 줍니다.\")\n",
    "        print(\"남은 커피의 양은 %d개 입니다.\" %coffee)\n",
    "        coffee -= 1\n",
    "    elif money > 300 :\n",
    "        print(\"거스름돈 %d를 주고 커피를 줍니다.\" %(money - 300))\n",
    "        coffee -= 1\n",
    "    else :\n",
    "        print(\"돈을 다시 돌려주고 커피를 주지 않습니다.\")\n",
    "        print(\"남은 커피의 양은 %d개 입니다.\" %coffee)\n",
    "\n",
    "    if coffee == 0 :\n",
    "        print(\"커피가 다 떨어졌습니다. 판매를 중지합니다.\")\n",
    "        break # 반복문 강제 종료"
   ]
  },
  {
   "cell_type": "code",
   "execution_count": 16,
   "id": "0fa0770b-ffcc-458c-9e4e-b2ae51fa9ee7",
   "metadata": {},
   "outputs": [
    {
     "name": "stdout",
     "output_type": "stream",
     "text": [
      "1\n",
      "3\n",
      "5\n",
      "7\n",
      "9\n"
     ]
    }
   ],
   "source": [
    "# continue : whild문의 맨 처음으로 돌아가기332\n",
    "\n",
    "a = 0\n",
    "\n",
    "while a < 10 :\n",
    "    a += 1\n",
    "    if a % 2 == 0 : continue\n",
    "        \n",
    "    print(a)"
   ]
  },
  {
   "cell_type": "code",
   "execution_count": 17,
   "id": "e48491da-b88f-456b-8a42-b1b899fb6df9",
   "metadata": {},
   "outputs": [],
   "source": [
    "# 무한루프\n",
    "## while Ture :\n",
    "##     수행할 문장 1\n",
    "##     수행할 문장 2"
   ]
  },
  {
   "cell_type": "markdown",
   "id": "d7477670-0ec6-4bef-ae76-df4ded96860d",
   "metadata": {},
   "source": [
    "# for문"
   ]
  },
  {
   "cell_type": "code",
   "execution_count": 1,
   "id": "b7a10bbb-aa31-4419-8410-d85b56cf6ddb",
   "metadata": {},
   "outputs": [
    {
     "name": "stdout",
     "output_type": "stream",
     "text": [
      "one\n",
      "two\n",
      "three\n"
     ]
    }
   ],
   "source": [
    "## for 변수 in 리스트(또는 튜플, 문자열) :\n",
    "##    수행할_문장1\n",
    "##    수행할_문장2\n",
    "\n",
    "test_list = ['one', 'two', 'three']\n",
    "for i in test_list:\n",
    "    print(i)"
   ]
  },
  {
   "cell_type": "code",
   "execution_count": 2,
   "id": "c2ed53a5-fd00-4045-9d49-f1a2a93cc914",
   "metadata": {},
   "outputs": [
    {
     "name": "stdout",
     "output_type": "stream",
     "text": [
      "3\n",
      "7\n",
      "11\n"
     ]
    }
   ],
   "source": [
    "a = [(1, 2), (3, 4), (5, 6)]\n",
    "\n",
    "for (first, last) in a :\n",
    "    print(first + last)"
   ]
  },
  {
   "cell_type": "code",
   "execution_count": 5,
   "id": "41f06cfe-693c-4eaf-9d90-ee20801afd30",
   "metadata": {},
   "outputs": [
    {
     "name": "stdout",
     "output_type": "stream",
     "text": [
      "(1, 2)\n",
      "(3, 4)\n",
      "(5, 6)\n"
     ]
    }
   ],
   "source": [
    "for i in a :\n",
    "    print(i)"
   ]
  },
  {
   "cell_type": "markdown",
   "id": "1fbf23cb-3dc5-491e-8039-ecbdbfe81d8c",
   "metadata": {},
   "source": [
    "#### 총 5명의 학생이 시험을 보았는데 시험 점수가 60점 이상이면 합격이고 그렇지 않으면 불합격이다. 합격인지, 불합격인지 결과를 보여 주시오."
   ]
  },
  {
   "cell_type": "code",
   "execution_count": 3,
   "id": "f77dd23a-4fcf-4707-bacf-07a0a7576802",
   "metadata": {},
   "outputs": [
    {
     "name": "stdout",
     "output_type": "stream",
     "text": [
      "1번 학생은 합격입니다.\n",
      "2번 학생은 불합격입니다.\n",
      "3번 학생은 합격입니다.\n",
      "4번 학생은 불합격입니다.\n",
      "5번 학생은 합격입니다.\n"
     ]
    }
   ],
   "source": [
    "marks = [90, 25, 67, 45, 80] # 학생들의 시험 점수 리스트\n",
    "number = 0 # 학생에게 붙여 줄 번호\n",
    "\n",
    "for mark in marks : # 90, 25, 67, 45, 80을 순서대로 mark에 대입\n",
    "    number += 1\n",
    "    if mark >= 60 :\n",
    "        print(\"%d번 학생은 합격입니다.\"%number)\n",
    "    else :\n",
    "        print(\"%d번 학생은 불합격입니다.\"%number)"
   ]
  },
  {
   "cell_type": "markdown",
   "id": "92d50122-9c3c-4612-9bba-df724993854c",
   "metadata": {},
   "source": [
    "### for문 안의 문장을 수행하는 도중 countinue문을 만나면 for문의 처음으로 돌아가게 된다.\n",
    "### 60점 이상인 사람에게는 축하 메시지를 보내고 나머지 사람에게는 아무런 메시지도 전하지 않는 프로그램을 작성해보자."
   ]
  },
  {
   "cell_type": "code",
   "execution_count": 7,
   "id": "bfeab96f-07e5-470d-a55d-70c2cb03d462",
   "metadata": {},
   "outputs": [
    {
     "name": "stdout",
     "output_type": "stream",
     "text": [
      "1번 학생 축하합니다. 합격입니다.\n",
      "3번 학생 축하합니다. 합격입니다.\n",
      "5번 학생 축하합니다. 합격입니다.\n"
     ]
    }
   ],
   "source": [
    "marks = [90, 25, 67, 45, 80]\n",
    "number = 0\n",
    "\n",
    "for mark in marks :\n",
    "    number += 1\n",
    "    if mark < 60 :\n",
    "        continue    \n",
    "    print(\"%d번 학생 축하합니다. 합격입니다.\"%number)"
   ]
  },
  {
   "cell_type": "markdown",
   "id": "a57a6f71-0a67-410f-94d5-626cecfebcc2",
   "metadata": {},
   "source": [
    "# for문과 함께 자주 사용하는 range 함숰"
   ]
  },
  {
   "cell_type": "code",
   "execution_count": 10,
   "id": "8e3132e3-c5df-432e-91a3-26def8fb3db6",
   "metadata": {},
   "outputs": [
    {
     "name": "stdout",
     "output_type": "stream",
     "text": [
      "range(0, 10)\n"
     ]
    }
   ],
   "source": [
    "a = range(10) # range: 범위\n",
    "print(a)"
   ]
  },
  {
   "cell_type": "code",
   "execution_count": 11,
   "id": "bba54a2f-724d-483b-a4c6-9c432892d24c",
   "metadata": {},
   "outputs": [
    {
     "name": "stdout",
     "output_type": "stream",
     "text": [
      "[0, 1, 2, 3, 4, 5, 6, 7, 8, 9]\n"
     ]
    }
   ],
   "source": [
    "a = list(a)\n",
    "print(a)"
   ]
  },
  {
   "cell_type": "code",
   "execution_count": 12,
   "id": "8872ffb8-9007-40be-a2fc-bd79625fcf0d",
   "metadata": {},
   "outputs": [
    {
     "name": "stdout",
     "output_type": "stream",
     "text": [
      "range(1, 11)\n"
     ]
    }
   ],
   "source": [
    "a = range(1, 11)\n",
    "print(a)"
   ]
  },
  {
   "cell_type": "code",
   "execution_count": 16,
   "id": "9c6395be-3e45-434c-8c9e-58022226aeaa",
   "metadata": {},
   "outputs": [
    {
     "name": "stdout",
     "output_type": "stream",
     "text": [
      "i : 1\n",
      "i : 2\n",
      "i : 3\n",
      "i : 4\n",
      "i : 5\n",
      "i : 6\n",
      "i : 7\n",
      "i : 8\n",
      "i : 9\n",
      "i : 10\n",
      "55\n"
     ]
    }
   ],
   "source": [
    "add = 0\n",
    "\n",
    "for i in range(1, 11) :\n",
    "    add += i\n",
    "    print(f\"i : {i}\")\n",
    "\n",
    "print(add)"
   ]
  },
  {
   "cell_type": "code",
   "execution_count": 17,
   "id": "07f6c7b5-6e02-487a-aab7-bb96e83a4724",
   "metadata": {},
   "outputs": [
    {
     "name": "stdout",
     "output_type": "stream",
     "text": [
      "1번 학생 축하합니다. 합격입니다.\n",
      "3번 학생 축하합니다. 합격입니다.\n",
      "5번 학생 축하합니다. 합격입니다.\n"
     ]
    }
   ],
   "source": [
    "marks = [90, 25, 67, 45, 80]\n",
    "\n",
    "for number in range(len(marks)) :\n",
    "    if marks[number] < 60 :\n",
    "        continue\n",
    "    print(\"%d번 학생 축하합니다. 합격입니다.\" %(number + 1))"
   ]
  },
  {
   "cell_type": "code",
   "execution_count": 24,
   "id": "2d1e2af8-bb01-49ed-a6db-cacdfa8baea3",
   "metadata": {},
   "outputs": [
    {
     "name": "stdout",
     "output_type": "stream",
     "text": [
      "2단\n",
      "2 * 1 = 2\n",
      "2 * 2 = 4\n",
      "2 * 3 = 6\n",
      "2 * 4 = 8\n",
      "2 * 5 = 10\n",
      "2 * 6 = 12\n",
      "2 * 7 = 14\n",
      "2 * 8 = 16\n",
      "2 * 9 = 18\n",
      "--------------------\n",
      "3단\n",
      "3 * 1 = 3\n",
      "3 * 2 = 6\n",
      "3 * 3 = 9\n",
      "3 * 4 = 12\n",
      "3 * 5 = 15\n",
      "3 * 6 = 18\n",
      "3 * 7 = 21\n",
      "3 * 8 = 24\n",
      "3 * 9 = 27\n",
      "--------------------\n",
      "4단\n",
      "4 * 1 = 4\n",
      "4 * 2 = 8\n",
      "4 * 3 = 12\n",
      "4 * 4 = 16\n",
      "4 * 5 = 20\n",
      "4 * 6 = 24\n",
      "4 * 7 = 28\n",
      "4 * 8 = 32\n",
      "4 * 9 = 36\n",
      "--------------------\n",
      "5단\n",
      "5 * 1 = 5\n",
      "5 * 2 = 10\n",
      "5 * 3 = 15\n",
      "5 * 4 = 20\n",
      "5 * 5 = 25\n",
      "5 * 6 = 30\n",
      "5 * 7 = 35\n",
      "5 * 8 = 40\n",
      "5 * 9 = 45\n",
      "--------------------\n",
      "6단\n",
      "6 * 1 = 6\n",
      "6 * 2 = 12\n",
      "6 * 3 = 18\n",
      "6 * 4 = 24\n",
      "6 * 5 = 30\n",
      "6 * 6 = 36\n",
      "6 * 7 = 42\n",
      "6 * 8 = 48\n",
      "6 * 9 = 54\n",
      "--------------------\n",
      "7단\n",
      "7 * 1 = 7\n",
      "7 * 2 = 14\n",
      "7 * 3 = 21\n",
      "7 * 4 = 28\n",
      "7 * 5 = 35\n",
      "7 * 6 = 42\n",
      "7 * 7 = 49\n",
      "7 * 8 = 56\n",
      "7 * 9 = 63\n",
      "--------------------\n",
      "8단\n",
      "8 * 1 = 8\n",
      "8 * 2 = 16\n",
      "8 * 3 = 24\n",
      "8 * 4 = 32\n",
      "8 * 5 = 40\n",
      "8 * 6 = 48\n",
      "8 * 7 = 56\n",
      "8 * 8 = 64\n",
      "8 * 9 = 72\n",
      "--------------------\n",
      "9단\n",
      "9 * 1 = 9\n",
      "9 * 2 = 18\n",
      "9 * 3 = 27\n",
      "9 * 4 = 36\n",
      "9 * 5 = 45\n",
      "9 * 6 = 54\n",
      "9 * 7 = 63\n",
      "9 * 8 = 72\n",
      "9 * 9 = 81\n",
      "--------------------\n"
     ]
    }
   ],
   "source": [
    "# 구구단\n",
    "for i in range(2, 10) :\n",
    "    print(\"%d단\" %i)\n",
    "    for j in range(1, 10) :\n",
    "        print(f\"{i} * {j} = {i * j}\")\n",
    "    print(\"-\" * 20)"
   ]
  },
  {
   "cell_type": "markdown",
   "id": "7f38b43d-7440-4955-a9d4-30c62028a4b5",
   "metadata": {},
   "source": [
    "### 리스트 컴프리헨션(comprehension)\n",
    "#### [표현식 for 항목 in 반복_가능_객체 if 조건문]"
   ]
  },
  {
   "cell_type": "code",
   "execution_count": 27,
   "id": "4cd9a4ae-0c96-4122-a0cd-73b7032ab024",
   "metadata": {},
   "outputs": [
    {
     "name": "stdout",
     "output_type": "stream",
     "text": [
      "[3, 6, 9, 12]\n"
     ]
    }
   ],
   "source": [
    "a = [1, 2, 3, 4]\n",
    "result=[num * 3 for num in a]\n",
    "\n",
    "#result = []\n",
    "#for num in a :\n",
    "#    result.append(num * 3)\n",
    "\n",
    "print(result)"
   ]
  },
  {
   "cell_type": "code",
   "execution_count": 28,
   "id": "fafce50e-8a16-46e1-9637-f009b28d593f",
   "metadata": {},
   "outputs": [
    {
     "name": "stdout",
     "output_type": "stream",
     "text": [
      "[6, 12]\n"
     ]
    }
   ],
   "source": [
    "# 짝수에만 3 곱하기\n",
    "\n",
    "a = [1, 2, 3, 4]\n",
    "result = [num * 3 for num in a if num % 2 == 0]\n",
    "\n",
    "print(result)"
   ]
  },
  {
   "cell_type": "code",
   "execution_count": 30,
   "id": "9d0c0b00-a808-4f1f-8079-5355921acf8d",
   "metadata": {},
   "outputs": [
    {
     "name": "stdout",
     "output_type": "stream",
     "text": [
      "[2, 4, 6, 8, 10, 12, 14, 16, 18, 3, 6, 9, 12, 15, 18, 21, 24, 27, 4, 8, 12, 16, 20, 24, 28, 32, 36, 5, 10, 15, 20, 25, 30, 35, 40, 45, 6, 12, 18, 24, 30, 36, 42, 48, 54, 7, 14, 21, 28, 35, 42, 49, 56, 63, 8, 16, 24, 32, 40, 48, 56, 64, 72, 9, 18, 27, 36, 45, 54, 63, 72, 81]\n"
     ]
    }
   ],
   "source": [
    "result = [x * y for x in range(2, 10)\n",
    "                for y in range(1, 10)]\n",
    "\n",
    "print(result)"
   ]
  },
  {
   "cell_type": "markdown",
   "id": "ee54b434-88f5-4188-9e71-4bdc6f90151f",
   "metadata": {},
   "source": [
    "#### 1) 표현식에 변수 또는 상수를 쓰는 경우"
   ]
  },
  {
   "cell_type": "code",
   "execution_count": 35,
   "id": "5712a64d-10f3-4f70-a3ef-c15fb36d0ebb",
   "metadata": {},
   "outputs": [
    {
     "name": "stdout",
     "output_type": "stream",
     "text": [
      "result [0, 0, 0, 0, 0]\n",
      "result_2 [0, 1, 2, 3, 4]\n",
      "result_3 [0, 1, 2, 3, 4, 5, 6, 7, 8, 9]\n"
     ]
    }
   ],
   "source": [
    "n = 5\n",
    "\n",
    "# n 개의 0으로 초기화된 리스트\n",
    "result = [0 for i in range(n)]\n",
    "print(f\"result {result}\")\n",
    "\n",
    "# 0 ~ n으로 초기화된 리스트\n",
    "result_2 = [i for i in range(n)]\n",
    "print(f\"result_2 {result_2}\")\n",
    "\n",
    "# array 리스트의 값을 그대로 복사\n",
    "array = [0, 1, 2, 3, 4, 5, 6, 7, 8, 9]\n",
    "result_3 = [n for n in array]\n",
    "print(f\"result_3 {result_3}\")"
   ]
  },
  {
   "cell_type": "markdown",
   "id": "de3e5121-0f9a-4bc7-8134-182a83e1f536",
   "metadata": {},
   "source": [
    "#### 2) 표현식에 연삭식이나 함수를 쓰는 경우"
   ]
  },
  {
   "cell_type": "code",
   "execution_count": 38,
   "id": "f51e2343-8efa-4d13-8533-95a69975b109",
   "metadata": {},
   "outputs": [
    {
     "name": "stdout",
     "output_type": "stream",
     "text": [
      "result [0, 1, 4, 9, 16, 25, 36, 49, 64, 81]\n",
      "result_2 [4, 13, 6]\n",
      "result_3 [0, 1, 2, 3, 4, 0, 1, 2, 3, 4]\n"
     ]
    }
   ],
   "source": [
    "# array의 제곱값을 구하는 리스트\n",
    "result = [n * n for n in array]\n",
    "print(f\"result {result}\")\n",
    "\n",
    "# 문자열 리스트의 각 문자열의 길이를 저장하는 리스트\n",
    "str_array = [\"List\", \"Comprehension\", \"Python\"]\n",
    "result_2 = [len(string) for string in str_array]\n",
    "print(f\"result_2 {result_2}\")\n",
    "\n",
    "# 5로 나눈 나머지를 저장하는 리스트 - 함수 사용\n",
    "def mod_5 (number) :\n",
    "    return number % 5\n",
    "\n",
    "result_3 = [mod_5(n) for n in array]\n",
    "print(f\"result_3 {result_3}\")"
   ]
  },
  {
   "cell_type": "markdown",
   "id": "ed37f10e-531f-439c-8f5d-4eb264f79527",
   "metadata": {},
   "source": [
    "### 2. 표현식 +  for문 + 조건문\n",
    "#### 1) if문 한 번 사용한 경우"
   ]
  },
  {
   "cell_type": "code",
   "execution_count": 41,
   "id": "2f6f671f-51e2-4dc6-bff6-eae54881f0ca",
   "metadata": {},
   "outputs": [
    {
     "name": "stdout",
     "output_type": "stream",
     "text": [
      "result {0, 2, 4, 6, 8}\n",
      "result2 {1, 3, 5, 7, 9}\n",
      "result3 [24, 5, 2]\n"
     ]
    }
   ],
   "source": [
    "# 범위 내 짝수만 저장하는 리스트\n",
    "result = {n for n in range(10) if n % 2 == 0}\n",
    "print(f\"result {result}\")\n",
    "\n",
    "# 범위 내 홀수만 저장하는 리스트\n",
    "result2 = {n for n in range(10) if n % 2 != 0}\n",
    "print(f\"result2 {result2}\")\n",
    "\n",
    "# 배열에서 양수만 저장하는 리스트\n",
    "array = [-1, 0, -4, 24, 5, -10, 2]\n",
    "result3 = [n for n in array if n > 0]\n",
    "print(f\"result3 {result3}\")"
   ]
  },
  {
   "cell_type": "markdown",
   "id": "4d135129-7b87-4d00-a9ab-0bf824e3dd95",
   "metadata": {},
   "source": [
    "#### 2) if문 여러번 사용한 경우"
   ]
  },
  {
   "cell_type": "code",
   "execution_count": 44,
   "id": "c6df12d1-6c9a-419b-8cef-a2e35bb24f49",
   "metadata": {},
   "outputs": [
    {
     "name": "stdout",
     "output_type": "stream",
     "text": [
      "result [3, 9, 15, 21, 27, 33, 39, 45]\n",
      "result2 [3, 9, 15, 21, 27, 33, 39, 45]\n"
     ]
    }
   ],
   "source": [
    "# 3의 배수 중 홀수만 저장하는 리스트\n",
    "result = [n for n in range(50) if n % 3 == 0 if n % 2 != 0]\n",
    "print(f\"result {result}\")\n",
    "\n",
    "result2 = [ n for n in range(50) if n % 3 == 0 and n % 2 != 0 ]\n",
    "print(f\"result2 {result2}\")"
   ]
  },
  {
   "cell_type": "markdown",
   "id": "74aa61dd-ac9f-43ce-87a7-b31c8a387b11",
   "metadata": {},
   "source": [
    "### 3. 표현식 + 조건문 + for문"
   ]
  },
  {
   "cell_type": "code",
   "execution_count": 43,
   "id": "ed6933b9-4d6a-4058-b545-ccc8b100fbb9",
   "metadata": {},
   "outputs": [
    {
     "name": "stdout",
     "output_type": "stream",
     "text": [
      "result [0, 0, 0, 24, 5, 0, 2]\n",
      "result_2 ['even', 'odd', 'even', 'odd']\n"
     ]
    }
   ],
   "source": [
    "# 양수는 그대로, 음수는 0으로 저장하는 리스트\n",
    "array = [-1, 0, -4, 24, 5, -10, 2]\n",
    "result = [n if n > 0 else 0 for n in array]\n",
    "print(f\"result {result}\")\n",
    "\n",
    "# 짝수라면 'even', 홀수라면 'odd'를 저장하는 리스트\n",
    "array = [0, 1, 2, 3]\n",
    "result_2 = ['even' if n % 2 == 0 else 'odd' for n in array]\n",
    "print(f\"result_2 {result_2}\")"
   ]
  },
  {
   "cell_type": "markdown",
   "id": "a679c7d0-67c6-4579-af02-d7098f30353f",
   "metadata": {},
   "source": [
    "### 4. 중첩 for문"
   ]
  },
  {
   "cell_type": "code",
   "execution_count": 46,
   "id": "75d68000-c30a-4686-984e-4b43e5fa91b8",
   "metadata": {},
   "outputs": [
    {
     "name": "stdout",
     "output_type": "stream",
     "text": [
      "[1, 2, 2, 4, 3, 6]\n"
     ]
    }
   ],
   "source": [
    "# 중첩 for문\n",
    "pos = []\n",
    "#for i in range(1, 4) : \n",
    "#    for j in range(1, 3) :\n",
    "#        pos.append(i * j)\n",
    "\n",
    "pos = [i * j for i in range(1, 4) for j in range(1, 3)]\n",
    "\n",
    "print(pos)"
   ]
  },
  {
   "cell_type": "markdown",
   "id": "0fb6e1cb-b733-4e1f-8cd1-68d41eceedd3",
   "metadata": {},
   "source": [
    "### 5. 중첩 List Comprehension"
   ]
  },
  {
   "cell_type": "code",
   "execution_count": 48,
   "id": "34e0e80e-597d-45d7-80c7-f4d278eb7267",
   "metadata": {},
   "outputs": [
    {
     "name": "stdout",
     "output_type": "stream",
     "text": [
      "[[0, 0], [0, 0], [0, 0]]\n"
     ]
    }
   ],
   "source": [
    "# 중첩 list comprehension으로 2차원 배열 만들기\n",
    "\n",
    "result = [ [ 0 for i in range(2) ] for j in range(3) ]\n",
    "print(result)"
   ]
  },
  {
   "cell_type": "code",
   "execution_count": null,
   "id": "0f14c475-9427-4c0a-8b80-9b6446128eef",
   "metadata": {},
   "outputs": [],
   "source": []
  }
 ],
 "metadata": {
  "kernelspec": {
   "display_name": "Python 3 (ipykernel)",
   "language": "python",
   "name": "python3"
  },
  "language_info": {
   "codemirror_mode": {
    "name": "ipython",
    "version": 3
   },
   "file_extension": ".py",
   "mimetype": "text/x-python",
   "name": "python",
   "nbconvert_exporter": "python",
   "pygments_lexer": "ipython3",
   "version": "3.13.5"
  }
 },
 "nbformat": 4,
 "nbformat_minor": 5
}

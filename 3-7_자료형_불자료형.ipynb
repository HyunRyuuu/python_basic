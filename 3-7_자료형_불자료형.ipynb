{
 "cells": [
  {
   "cell_type": "markdown",
   "id": "c40859d1-9e56-4413-8725-642103a68b3d",
   "metadata": {},
   "source": [
    "# 불 자료형\n",
    "#### 참(True) 혹은 거짓(False) 값만 가짐\n",
    "##### True, False는 첫 문자를 항상 대문자로 적어야 함\n",
    "\n",
    "## 1. 불자료형은 어떻게 사용할까?"
   ]
  },
  {
   "cell_type": "code",
   "execution_count": 1,
   "id": "49ee488a-ff75-4861-951b-32fd708fec47",
   "metadata": {},
   "outputs": [
    {
     "name": "stdout",
     "output_type": "stream",
     "text": [
      "type(a) : <class 'bool'>\n",
      "type(b) : <class 'bool'>\n",
      "1 == 1 : True\n",
      "2 > 1 : True\n",
      "2 < 1 : False\n"
     ]
    }
   ],
   "source": [
    "# 변수에 불 자료형 지정\n",
    "a = True\n",
    "b = False\n",
    "\n",
    "# type 함수로 자료형 확인\n",
    "print(f\"type(a) : {type(a)}\")\n",
    "print(f\"type(b) : {type(b)}\")\n",
    "\n",
    "# 불 자료형은 조건문의 리턴값으로도 사용\n",
    "## 1 == 1 : 1과 1이 완전히 같은가?\n",
    "\n",
    "print(f\"1 == 1 : {1 == 1}\")\n",
    "print(f\"2 > 1 : {2 > 1}\")\n",
    "print(f\"2 < 1 : {2 < 1}\")"
   ]
  },
  {
   "cell_type": "markdown",
   "id": "95ffed0b-883c-4159-87c7-b2773c308878",
   "metadata": {},
   "source": [
    "# 2. 자료형의 참과 거짓"
   ]
  },
  {
   "cell_type": "code",
   "execution_count": 2,
   "id": "1a815f97-6910-4e01-8f4c-bfccd6f2fcb6",
   "metadata": {},
   "outputs": [],
   "source": [
    "## 값이 비어 있으면 거짓 / 비어 있지 않으면 참\n",
    "### \"\" [] () {}\n",
    "### 숫자가 사용될 떄는 0이면 거짓\n",
    "### None은 거짓"
   ]
  },
  {
   "cell_type": "code",
   "execution_count": 5,
   "id": "8aa3ffeb-6494-4af1-a469-cc5641ab7a57",
   "metadata": {},
   "outputs": [
    {
     "name": "stdout",
     "output_type": "stream",
     "text": [
      "<예제 1>\n",
      "4\n",
      "3\n",
      "2\n",
      "1\n",
      "\n",
      "\n",
      "<예제 2>\n",
      "거짓\n",
      "\n",
      "\n",
      "<예제 3>\n",
      "참\n"
     ]
    }
   ],
   "source": [
    "print(f\"<예제 1>\")\n",
    "a = [1, 2, 3, 4]\n",
    "while a : \n",
    "    print(a.pop())\n",
    "\n",
    "print(f\"\\n\")\n",
    "\n",
    "print(f\"<예제 2>\")\n",
    "if [] :\n",
    "    print(\"참\")\n",
    "else :\n",
    "    print(\"거짓\")\n",
    "\n",
    "print(f\"\\n\")\n",
    "\n",
    "print(f\"<예제 3>\")\n",
    "if [1, 2, 3] : \n",
    "    print(\"참\")\n",
    "else :\n",
    "    print(\"거짓\")"
   ]
  },
  {
   "cell_type": "markdown",
   "id": "c03b76ac-048c-4116-be34-3c93a816cec9",
   "metadata": {},
   "source": [
    "## 불 연산 - bool()"
   ]
  },
  {
   "cell_type": "code",
   "execution_count": 9,
   "id": "9fcaea3b-e6d2-4288-ac9f-80f89de09d2f",
   "metadata": {},
   "outputs": [
    {
     "name": "stdout",
     "output_type": "stream",
     "text": [
      "bool('python') : True\n",
      "bool(\"\") : False\n",
      "bool([1, 2, 3]) : True\n",
      "bool([]) : False\n",
      "bool(0) : False\n",
      "bool(3) : True\n",
      "bool(-1) : True\n"
     ]
    }
   ],
   "source": [
    "print(f\"bool('python') : {bool('python')}\")\n",
    "print(f\"bool(\\\"\\\") : {bool(\"\")}\")\n",
    "print(f\"bool([1, 2, 3]) : {bool([1, 2, 3])}\")\n",
    "print(f\"bool([]) : {bool([])}\")\n",
    "print(f\"bool(0) : {bool(0)}\")\n",
    "print(f\"bool(3) : {bool(3)}\")\n",
    "print(f\"bool(-1) : {bool(-1)}\")"
   ]
  },
  {
   "cell_type": "code",
   "execution_count": null,
   "id": "59a4404b-5ff8-41c0-8620-3e1a24f4f924",
   "metadata": {},
   "outputs": [],
   "source": []
  }
 ],
 "metadata": {
  "kernelspec": {
   "display_name": "Python 3 (ipykernel)",
   "language": "python",
   "name": "python3"
  },
  "language_info": {
   "codemirror_mode": {
    "name": "ipython",
    "version": 3
   },
   "file_extension": ".py",
   "mimetype": "text/x-python",
   "name": "python",
   "nbconvert_exporter": "python",
   "pygments_lexer": "ipython3",
   "version": "3.13.5"
  }
 },
 "nbformat": 4,
 "nbformat_minor": 5
}

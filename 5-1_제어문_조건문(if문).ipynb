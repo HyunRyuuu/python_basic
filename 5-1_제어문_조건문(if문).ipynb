{
 "cells": [
  {
   "cell_type": "markdown",
   "id": "67e69fcb-0385-4ce8-b720-d17332606252",
   "metadata": {},
   "source": [
    "## if문의 기본 구조"
   ]
  },
  {
   "cell_type": "code",
   "execution_count": 5,
   "id": "5faac50d-80d8-4aed-93ea-ffc87dc2847f",
   "metadata": {},
   "outputs": [
    {
     "ename": "IndentationError",
     "evalue": "unexpected indent (3185190678.py, line 5)",
     "output_type": "error",
     "traceback": [
      "\u001b[1;36m  Cell \u001b[1;32mIn[5], line 5\u001b[1;36m\u001b[0m\n\u001b[1;33m    print(\"가라\")\u001b[0m\n\u001b[1;37m    ^\u001b[0m\n\u001b[1;31mIndentationError\u001b[0m\u001b[1;31m:\u001b[0m unexpected indent\n"
     ]
    }
   ],
   "source": [
    "money = True\n",
    "if money :\n",
    "    print(\"택시를\")\n",
    "print(\"타고\") ## 들여쓰기 하지 않았기 때문에 다음 줄에서 오류 발생\n",
    "    print(\"가라\")"
   ]
  },
  {
   "cell_type": "code",
   "execution_count": 4,
   "id": "b9e55214-1c2b-4862-a5b9-7a06b842393d",
   "metadata": {},
   "outputs": [
    {
     "ename": "IndentationError",
     "evalue": "unexpected indent (753739224.py, line 5)",
     "output_type": "error",
     "traceback": [
      "\u001b[1;36m  Cell \u001b[1;32mIn[4], line 5\u001b[1;36m\u001b[0m\n\u001b[1;33m    print(\"가라\") ## 들여쓰기 깊이가 달라서 오류 발생\u001b[0m\n\u001b[1;37m    ^\u001b[0m\n\u001b[1;31mIndentationError\u001b[0m\u001b[1;31m:\u001b[0m unexpected indent\n"
     ]
    }
   ],
   "source": [
    "money = True\n",
    "if money :\n",
    "    print(\"택시를\")\n",
    "    print(\"타고\")\n",
    "       print(\"가라\") ## 들여쓰기 깊이가 달라서 오류 발생"
   ]
  },
  {
   "cell_type": "code",
   "execution_count": 6,
   "id": "c6c7769e-ba5e-4fd0-b97e-2d5e954d247d",
   "metadata": {},
   "outputs": [
    {
     "name": "stdout",
     "output_type": "stream",
     "text": [
      "택시를\n",
      "타고\n",
      "가라\n"
     ]
    }
   ],
   "source": [
    "money = True\n",
    "if money :\n",
    "    print(\"택시를\")\n",
    "    print(\"타고\")\n",
    "    print(\"가라\") ## 들여쓰기 깊이가 달라서 오류 발생"
   ]
  },
  {
   "cell_type": "code",
   "execution_count": 8,
   "id": "56cefc98-af3e-487f-ac7b-051ae367237b",
   "metadata": {},
   "outputs": [
    {
     "name": "stdout",
     "output_type": "stream",
     "text": [
      "타고\n"
     ]
    }
   ],
   "source": [
    "money = False\n",
    "if money :\n",
    "    print(\"택시를\")\n",
    "print(\"타고\")"
   ]
  },
  {
   "cell_type": "code",
   "execution_count": 9,
   "id": "c2d57b23-16ff-4ec4-b824-92e5488221a0",
   "metadata": {},
   "outputs": [],
   "source": [
    "money = False\n",
    "if money :\n",
    "    print(\"택시를\")\n",
    "    print(\"타고\")"
   ]
  },
  {
   "cell_type": "code",
   "execution_count": 11,
   "id": "41a4f029-e2c1-43a7-a3bb-e427e842a808",
   "metadata": {},
   "outputs": [
    {
     "name": "stdout",
     "output_type": "stream",
     "text": [
      "택시를\n",
      "타고\n"
     ]
    }
   ],
   "source": [
    "money = True\n",
    "if money :\n",
    "    print(\"택시를\")\n",
    "    print(\"타고\")"
   ]
  },
  {
   "cell_type": "code",
   "execution_count": 13,
   "id": "4f3ede49-77a6-45db-bab7-8535f938830c",
   "metadata": {},
   "outputs": [
    {
     "ename": "SyntaxError",
     "evalue": "expected ':' (1470028860.py, line 1)",
     "output_type": "error",
     "traceback": [
      "\u001b[1;36m  Cell \u001b[1;32mIn[13], line 1\u001b[1;36m\u001b[0m\n\u001b[1;33m    if money ## 조건문 다음에는 무조건 콜론(:)이 있어야 함\u001b[0m\n\u001b[1;37m             ^\u001b[0m\n\u001b[1;31mSyntaxError\u001b[0m\u001b[1;31m:\u001b[0m expected ':'\n"
     ]
    }
   ],
   "source": [
    "if money ## 조건문 다음에는 무조건 콜론(:)이 있어야 함\n",
    "    print(\"택시를\")"
   ]
  },
  {
   "cell_type": "code",
   "execution_count": 14,
   "id": "ce3301b8-973e-4b55-b2a7-2187b4659d89",
   "metadata": {},
   "outputs": [
    {
     "name": "stdout",
     "output_type": "stream",
     "text": [
      "택시를 타고 가라\n"
     ]
    }
   ],
   "source": [
    "money = True\n",
    "if money :\n",
    "    print(\"택시를 타고 가라\")\n",
    "else :\n",
    "    print(\"걸어 가라\")"
   ]
  },
  {
   "cell_type": "code",
   "execution_count": 15,
   "id": "dec7f098-f5b2-4e69-af95-435fface9993",
   "metadata": {},
   "outputs": [
    {
     "name": "stdout",
     "output_type": "stream",
     "text": [
      "걸어 가라\n"
     ]
    }
   ],
   "source": [
    "money = False\n",
    "if money :\n",
    "    print(\"택시를 타고 가라\")\n",
    "else :\n",
    "    print(\"걸어 가라\")"
   ]
  },
  {
   "cell_type": "markdown",
   "id": "fe7125a7-d499-4ca3-992c-d6dd71b0c456",
   "metadata": {},
   "source": [
    "## 연산자"
   ]
  },
  {
   "cell_type": "code",
   "execution_count": 16,
   "id": "eacfa113-21b3-48ab-b718-385ec793f17a",
   "metadata": {},
   "outputs": [
    {
     "name": "stdout",
     "output_type": "stream",
     "text": [
      "x > y : True\n",
      "x < y : False\n",
      "x == y : False\n",
      "x != y : True\n",
      "x >= y : True\n",
      "x <= y : False\n"
     ]
    }
   ],
   "source": [
    "# 비교 연산자\n",
    "## x < y : x가 y보다 작다\n",
    "## x > y : x가 y보다 크다\n",
    "## x == y : x와 y가 같다\n",
    "## x != y : x와 y가 같지 않다\n",
    "## x >= y : x가 y보다 크거나 같다\n",
    "## x <= y : x가 y보다 작거나 같다\n",
    "\n",
    "x = 3\n",
    "y = 2\n",
    "\n",
    "print(f\"x > y : {x > y}\")\n",
    "print(f\"x < y : {x < y}\")\n",
    "print(f\"x == y : {x == y}\")\n",
    "print(f\"x != y : {x != y}\")\n",
    "print(f\"x >= y : {x >= y}\")\n",
    "print(f\"x <= y : {x <= y}\")"
   ]
  },
  {
   "cell_type": "code",
   "execution_count": 19,
   "id": "3b56f4b6-e274-4272-963c-116e6a5fddd9",
   "metadata": {},
   "outputs": [
    {
     "name": "stdout",
     "output_type": "stream",
     "text": [
      "걸어 가라\n"
     ]
    }
   ],
   "source": [
    "money = 2000\n",
    "\n",
    "if money >= 3000 :\n",
    "    print(\"택시를 타고 가라\")\n",
    "else :\n",
    "    print(\"걸어 가라\")"
   ]
  },
  {
   "cell_type": "code",
   "execution_count": 21,
   "id": "e7f44eea-1959-4d42-b9ad-437e4e46cde1",
   "metadata": {},
   "outputs": [
    {
     "name": "stdout",
     "output_type": "stream",
     "text": [
      "택시를 타고 가라\n"
     ]
    }
   ],
   "source": [
    "# 논리 연산자\n",
    "## 조건식 x, y => and 둘 다 True일 때 True\n",
    "##                or 하나만 Ture이면 True\n",
    "##                not True -> False / False -> Ture\n",
    "\n",
    "money = 2000\n",
    "card = True\n",
    "\n",
    "if money >= 3000 or card :\n",
    "    print(\"택시를 타고 가라\")\n",
    "else : \n",
    "    print(\"걸어 가라\")"
   ]
  },
  {
   "cell_type": "code",
   "execution_count": 23,
   "id": "0b1cac9b-0b75-4923-80c1-150a7d959898",
   "metadata": {},
   "outputs": [
    {
     "name": "stdout",
     "output_type": "stream",
     "text": [
      "1 in [1, 2, 3] : True\n",
      "1 not in [1, 2, 3] : False\n"
     ]
    }
   ],
   "source": [
    "# in, not in\n",
    "\n",
    "# 리스트에 1 있어?\n",
    "print(f\"1 in [1, 2, 3] : {1 in [1, 2, 3]}\")\n",
    "\n",
    "# 리스트에 1 없어?\n",
    "print(f\"1 not in [1, 2, 3] : {1 not in [1, 2, 3]}\")"
   ]
  },
  {
   "cell_type": "code",
   "execution_count": 25,
   "id": "67be58a1-c2c1-43eb-ba86-678b88962526",
   "metadata": {},
   "outputs": [
    {
     "name": "stdout",
     "output_type": "stream",
     "text": [
      "'a' in ('a', 'b', 'c') : True\n",
      "'a' not in ('a', 'b', 'c') : False\n",
      "\n",
      "\n",
      "'j' in 'python' : False\n",
      "'j' not in 'python' : True\n"
     ]
    }
   ],
   "source": [
    "print(f\"'a' in ('a', 'b', 'c') : {'a' in ('a', 'b', 'c')}\")\n",
    "print(f\"'a' not in ('a', 'b', 'c') : {'a' not in ('a', 'b', 'c')}\")\n",
    "print(\"\\n\")\n",
    "print(f\"'j' in 'python' : {'j' in 'python'}\")\n",
    "print(f\"'j' not in 'python' : {'j' not in 'python'}\")"
   ]
  },
  {
   "cell_type": "code",
   "execution_count": 26,
   "id": "71144f27-761f-4c6c-968b-a4eae8dca622",
   "metadata": {},
   "outputs": [
    {
     "name": "stdout",
     "output_type": "stream",
     "text": [
      "택시를 타고 가라\n"
     ]
    }
   ],
   "source": [
    "pocket = ['paper', 'cellphone', 'money']\n",
    "\n",
    "if 'money' in pocket :\n",
    "    print(\"택시를 타고 가라\")\n",
    "else :\n",
    "    print(\"걸어가라\")"
   ]
  },
  {
   "cell_type": "code",
   "execution_count": 31,
   "id": "1bd3221d-c1a3-4782-b14c-986cfe5238d8",
   "metadata": {},
   "outputs": [],
   "source": [
    "## 조건문에서 아무일도 하지 않게 설정하고 싶다면?\n",
    "\n",
    "pocket = ['paper', 'cellphone', 'money']\n",
    "\n",
    "if 'money' in pocket :\n",
    "    pass ## 빈 값이 아닌 pass 사용\n",
    "else :\n",
    "    print(\"카드를 꺼내라\")"
   ]
  },
  {
   "cell_type": "markdown",
   "id": "454a2fae-f163-4d88-b624-5557156ab916",
   "metadata": {},
   "source": [
    "## 3. 다양한 조건을 판단하는 elif"
   ]
  },
  {
   "cell_type": "code",
   "execution_count": 33,
   "id": "f9db934b-c66c-4a1e-955e-a1e94ef0560f",
   "metadata": {},
   "outputs": [
    {
     "name": "stdout",
     "output_type": "stream",
     "text": [
      "택시를 타고 가라\n"
     ]
    }
   ],
   "source": [
    "# if와 else만으로 표현\n",
    "\n",
    "pocket = ['paper', 'cellphone']\n",
    "card = True\n",
    "\n",
    "if 'money' in pocket :\n",
    "    print(\"택시를 타고 가라\")\n",
    "else : \n",
    "    if card :\n",
    "        print(\"택시를 타고 가라\")\n",
    "    else :\n",
    "        print(\"걸어가라\")"
   ]
  },
  {
   "cell_type": "code",
   "execution_count": 34,
   "id": "417b6faf-dc20-45f5-b6a8-df9f46df2258",
   "metadata": {},
   "outputs": [
    {
     "name": "stdout",
     "output_type": "stream",
     "text": [
      "택시를 타고 가라\n"
     ]
    }
   ],
   "source": [
    "# elif를 사용\n",
    "\n",
    "# if와 else만으로 표현\n",
    "\n",
    "pocket = ['paper', 'cellphone']\n",
    "card = True\n",
    "\n",
    "if 'money' in pocket :\n",
    "    print(\"택시를 타고 가라\")\n",
    "elif card :\n",
    "    print(\"택시를 타고 가라\")\n",
    "else :\n",
    "    print(\"걸어가라\")"
   ]
  },
  {
   "cell_type": "code",
   "execution_count": 44,
   "id": "7935628b-7bf7-4bda-b0c2-89fb54acc1a5",
   "metadata": {},
   "outputs": [
    {
     "name": "stdout",
     "output_type": "stream",
     "text": [
      "D\n"
     ]
    }
   ],
   "source": [
    "math = 60\n",
    "\n",
    "if math >= 90:\n",
    "    print('A')\n",
    "elif math >= 80:\n",
    "    print('B')\n",
    "elif math >= 70:\n",
    "    print('C')\n",
    "elif math >= 60:\n",
    "    print('D')\n",
    "else :\n",
    "    print('F')"
   ]
  },
  {
   "cell_type": "code",
   "execution_count": 38,
   "id": "4d283170-dcba-472a-86de-db68fc6c68ac",
   "metadata": {},
   "outputs": [],
   "source": [
    "# if문 한 줄로 작성하기\n",
    "\n",
    "if 'money' in pocket :\n",
    "    pass\n",
    "else :\n",
    "    print(\"카드를 꺼내라\")"
   ]
  },
  {
   "cell_type": "code",
   "execution_count": 39,
   "id": "bdfcf87a-2422-40e3-88b8-df624bddf347",
   "metadata": {},
   "outputs": [],
   "source": [
    "pocket = ['paper', 'money', 'cellphone']\n",
    "\n",
    "if 'money' in pocket : pass\n",
    "else: print(\"카드를 꺼내라\")"
   ]
  },
  {
   "cell_type": "markdown",
   "id": "89a8329d-e633-44ac-8821-b8fb77417784",
   "metadata": {},
   "source": [
    "## 4. 조건부 표현식"
   ]
  },
  {
   "cell_type": "code",
   "execution_count": 46,
   "id": "8fbaf291-91b7-4281-a0cc-8a25892fef67",
   "metadata": {},
   "outputs": [
    {
     "name": "stdout",
     "output_type": "stream",
     "text": [
      "message\n",
      "message\n"
     ]
    }
   ],
   "source": [
    "score = 50\n",
    "\n",
    "if score >= 60:\n",
    "    massage = \"success\"\n",
    "else :\n",
    "    message = \"failure\"\n",
    "\n",
    "print('message')\n",
    "\n",
    "## 변수 = (조건문이 참인 경우의 값) if 조건문 else (조건문이 거짓인 경우의 값)\n",
    "massage = \"success\" if score >= 60 else \"failure\"\n",
    "print('message')"
   ]
  },
  {
   "cell_type": "code",
   "execution_count": null,
   "id": "f90f8fa1-1dee-4bae-bbbd-b15314afb28f",
   "metadata": {},
   "outputs": [],
   "source": []
  }
 ],
 "metadata": {
  "kernelspec": {
   "display_name": "Python 3 (ipykernel)",
   "language": "python",
   "name": "python3"
  },
  "language_info": {
   "codemirror_mode": {
    "name": "ipython",
    "version": 3
   },
   "file_extension": ".py",
   "mimetype": "text/x-python",
   "name": "python",
   "nbconvert_exporter": "python",
   "pygments_lexer": "ipython3",
   "version": "3.13.5"
  }
 },
 "nbformat": 4,
 "nbformat_minor": 5
}

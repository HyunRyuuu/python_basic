{
 "cells": [
  {
   "cell_type": "code",
   "execution_count": 117,
   "id": "1d9b2675-36d8-4a7e-8e0e-9f85802bbc90",
   "metadata": {},
   "outputs": [
    {
     "name": "stdin",
     "output_type": "stream",
     "text": [
      " 260000\n",
      " 4\n",
      " 20000 5\n",
      " 30000 2\n",
      " 10000 6\n",
      " 5000 8\n"
     ]
    },
    {
     "name": "stdout",
     "output_type": "stream",
     "text": [
      "Yes\n"
     ]
    }
   ],
   "source": [
    "x = int(input())\n",
    "n = int(input())\n",
    "thing = 0\n",
    "\n",
    "while n > 0 :\n",
    "    a, b = map(int, input().split())\n",
    "    thing += a * b\n",
    "    n -= 1\n",
    "\n",
    "if thing == x :\n",
    "    print(\"Yes\")\n",
    "else :\n",
    "    print(\"No\")"
   ]
  },
  {
   "cell_type": "code",
   "execution_count": 82,
   "id": "414f69e8-c58a-4c84-b239-83a16f2e2657",
   "metadata": {},
   "outputs": [
    {
     "data": {
      "text/plain": [
       "0"
      ]
     },
     "execution_count": 82,
     "metadata": {},
     "output_type": "execute_result"
    }
   ],
   "source": [
    "24 % 24"
   ]
  },
  {
   "cell_type": "code",
   "execution_count": 83,
   "id": "8e436f51-cba3-4f3c-8244-474122244014",
   "metadata": {},
   "outputs": [
    {
     "data": {
      "text/plain": [
       "19"
      ]
     },
     "execution_count": 83,
     "metadata": {},
     "output_type": "execute_result"
    }
   ],
   "source": [
    "19 % 24"
   ]
  },
  {
   "cell_type": "code",
   "execution_count": null,
   "id": "36f83f88-9aa5-42e2-bb87-3ead34c83d67",
   "metadata": {},
   "outputs": [],
   "source": []
  }
 ],
 "metadata": {
  "kernelspec": {
   "display_name": "Python 3 (ipykernel)",
   "language": "python",
   "name": "python3"
  },
  "language_info": {
   "codemirror_mode": {
    "name": "ipython",
    "version": 3
   },
   "file_extension": ".py",
   "mimetype": "text/x-python",
   "name": "python",
   "nbconvert_exporter": "python",
   "pygments_lexer": "ipython3",
   "version": "3.13.5"
  }
 },
 "nbformat": 4,
 "nbformat_minor": 5
}

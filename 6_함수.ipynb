{
 "cells": [
  {
   "cell_type": "markdown",
   "id": "33038219-056b-4e59-8b4b-38fc2b7acf45",
   "metadata": {},
   "source": [
    "# 1. 파이썬 함수"
   ]
  },
  {
   "cell_type": "markdown",
   "id": "f69b7f53-630b-459a-91fd-9c7a5e966d2c",
   "metadata": {},
   "source": [
    "## 함수의 구조"
   ]
  },
  {
   "cell_type": "code",
   "execution_count": 26,
   "id": "dcd78a2f-6ea3-4b74-a137-76fcdf5c4aed",
   "metadata": {},
   "outputs": [
    {
     "name": "stdout",
     "output_type": "stream",
     "text": [
      "7\n",
      "333\n"
     ]
    }
   ],
   "source": [
    "# def 함수_이름(매개변수) :\n",
    "#     수행할_문장_1\n",
    "#     수행할_문장_2\n",
    "\n",
    "def add(a, b) :\n",
    "    return a + b\n",
    "\n",
    "# a = 3\n",
    "# b = 4\n",
    "a, b = 3, 4\n",
    "c = add(a, b) # add(3, 4)의 리턴값을 c에 대입\n",
    "\n",
    "print(c)\n",
    "\n",
    "d = add(111, 222)\n",
    "\n",
    "print(d)"
   ]
  },
  {
   "cell_type": "code",
   "execution_count": 5,
   "id": "6191a41c-6653-4a38-82d6-66ab9c30ebec",
   "metadata": {},
   "outputs": [
    {
     "name": "stdout",
     "output_type": "stream",
     "text": [
      "7\n"
     ]
    }
   ],
   "source": [
    "# 매개변수는 함수의 입력으로 전달된 값을 받는 변수\n",
    "# 인수는 함수를 호출할 대 전달하는 입력값\n",
    "\n",
    "def add(a, b) : # a, b는 매개변수\n",
    "    return a + b\n",
    "\n",
    "print(add(3, 4)) # 3, 4는 인수"
   ]
  },
  {
   "cell_type": "markdown",
   "id": "0ba5f259-326a-4ad7-a235-44cce357985a",
   "metadata": {},
   "source": [
    "### 1) 일반적인 함수"
   ]
  },
  {
   "cell_type": "code",
   "execution_count": 27,
   "id": "2068e21c-5e4d-41b6-a0b0-9f8f3a601e18",
   "metadata": {},
   "outputs": [
    {
     "name": "stdout",
     "output_type": "stream",
     "text": [
      "6\n"
     ]
    }
   ],
   "source": [
    "# 매개변수 O, 리턴값 O\n",
    "\n",
    "def minus(a, b) :\n",
    "    result = a - b\n",
    "    return result\n",
    "\n",
    "a = minus(10, 4)\n",
    "print(a)"
   ]
  },
  {
   "cell_type": "markdown",
   "id": "5ec68571-09c9-4c08-8d2b-585c09df3bd5",
   "metadata": {},
   "source": [
    "### 2) 입력값이 없는 함수"
   ]
  },
  {
   "cell_type": "code",
   "execution_count": 28,
   "id": "0958af6b-4f01-48de-a1db-2e209596226d",
   "metadata": {},
   "outputs": [
    {
     "name": "stdout",
     "output_type": "stream",
     "text": [
      "Hi\n"
     ]
    }
   ],
   "source": [
    "# 매개변수 X, 리턴값 O\n",
    "\n",
    "def say() :\n",
    "    return \"Hi\"\n",
    "\n",
    "a = say()\n",
    "print(a)"
   ]
  },
  {
   "cell_type": "markdown",
   "id": "fa00a8a0-0b82-49bb-ae75-ab84dff6eb03",
   "metadata": {},
   "source": [
    "### 3) 리턴값이 없는 경우"
   ]
  },
  {
   "cell_type": "code",
   "execution_count": 29,
   "id": "3e200300-6d8e-4a03-9492-9a44f5049541",
   "metadata": {},
   "outputs": [
    {
     "name": "stdout",
     "output_type": "stream",
     "text": [
      "3, 4의 합은 7입니다.\n",
      "4, 5의 합은 9입니다.\n",
      "None\n"
     ]
    }
   ],
   "source": [
    "# 매개변수 O, 리턴값 X\n",
    "\n",
    "def add(a, b) :\n",
    "    print(\"%d, %d의 합은 %d입니다.\"%(a, b, a + b))\n",
    "\n",
    "add(3, 4)\n",
    "a = add(4, 5)\n",
    "print(a)"
   ]
  },
  {
   "cell_type": "markdown",
   "id": "40b47239-bc70-4e36-bc33-f413b1b286e1",
   "metadata": {},
   "source": [
    "### 4) 입력값도, 리턴값도 없는 함수"
   ]
  },
  {
   "cell_type": "code",
   "execution_count": 30,
   "id": "b43c2ca2-d876-4222-af56-50608b141510",
   "metadata": {},
   "outputs": [
    {
     "name": "stdout",
     "output_type": "stream",
     "text": [
      "Hi\n"
     ]
    }
   ],
   "source": [
    "# 매개변수 X, 리턴값 X\n",
    "\n",
    "def say() :\n",
    "    print(\"Hi\")\n",
    "\n",
    "say()"
   ]
  },
  {
   "cell_type": "markdown",
   "id": "ae305b81-86ce-44db-9883-62327dddeef7",
   "metadata": {},
   "source": [
    "## 키워드 매개변수"
   ]
  },
  {
   "cell_type": "code",
   "execution_count": 31,
   "id": "aa7ae451-7787-4bbc-8b9a-6d3df672c56d",
   "metadata": {},
   "outputs": [
    {
     "name": "stdout",
     "output_type": "stream",
     "text": [
      "4\n",
      "4\n"
     ]
    }
   ],
   "source": [
    "def sub(a, b) :\n",
    "    return a - b\n",
    "\n",
    "result = sub(7, 3)\n",
    "print(result)\n",
    "\n",
    "result_2 = sub(b = 3, a = 7) # 순서와 상관 없이 사용할 수 있다는 장점이 있음.\n",
    "print(result_2)"
   ]
  },
  {
   "cell_type": "markdown",
   "id": "fd808691-95fd-412a-8c7f-6d9e342719e1",
   "metadata": {},
   "source": [
    "## 튜플형 가변 매개변수"
   ]
  },
  {
   "cell_type": "code",
   "execution_count": 35,
   "id": "76379e53-d25c-4b98-8219-3cb4c5595514",
   "metadata": {},
   "outputs": [
    {
     "name": "stdout",
     "output_type": "stream",
     "text": [
      "6\n",
      "55\n"
     ]
    }
   ],
   "source": [
    "# 가변 매개변수(*매개변수명)\n",
    "# 입력값을 여러 개 받는 함수\n",
    "\n",
    "def add_many(*args) :\n",
    "    result = 0\n",
    "    for i in args :\n",
    "        result += i # *args에 입력받은 모든 값을 더한다\n",
    "    return result\n",
    "\n",
    "res_1 = add_many(1, 2, 3)\n",
    "print(res_1)\n",
    "\n",
    "res_2 = add_many(1, 2, 3, 4, 5, 6, 7, 8, 9, 10)\n",
    "print(res_2)"
   ]
  },
  {
   "cell_type": "code",
   "execution_count": 37,
   "id": "a5b4b876-daf6-472a-89e8-1312bdd68db9",
   "metadata": {},
   "outputs": [
    {
     "name": "stdout",
     "output_type": "stream",
     "text": [
      "15\n",
      "120\n"
     ]
    }
   ],
   "source": [
    "def add_mul(choice, *args) :\n",
    "    if choice == \"add\" : # 매개변수 choice에 \"add\"를 입력받았을 때\n",
    "        result = 0\n",
    "        for i in args :\n",
    "            result += i\n",
    "    elif choice == \"mul\" : # 매개변수 choice에 \"mul\"을 입력 받았을 때\n",
    "        result = 1\n",
    "        for i in args :\n",
    "            result *= i\n",
    "    return result\n",
    "\n",
    "result_add = add_mul('add', 1, 2, 3, 4, 5)\n",
    "print(result_add)\n",
    "\n",
    "result_mul = add_mul ('mul', 1, 2, 3, 4, 5)\n",
    "print(result_mul)"
   ]
  },
  {
   "cell_type": "markdown",
   "id": "44f641fc-6fca-4839-a635-3293f4712bdd",
   "metadata": {},
   "source": [
    "## 딕셔너리형 가변 매개변수"
   ]
  },
  {
   "cell_type": "code",
   "execution_count": 40,
   "id": "3dbb1fbf-78eb-4180-b0c6-d47980e82dda",
   "metadata": {},
   "outputs": [
    {
     "name": "stdout",
     "output_type": "stream",
     "text": [
      "{'a': 1}\n",
      "{'name': 'foo', 'age': 3}\n"
     ]
    }
   ],
   "source": [
    "# 키워드 가변 매개 변수(**매개변수)\n",
    "\n",
    "def print_kwargs(**kwargs) :\n",
    "    print(kwargs)\n",
    "\n",
    "print_kwargs(a = 1)\n",
    "print_kwargs(name = 'foo', age = 3)"
   ]
  },
  {
   "cell_type": "markdown",
   "id": "3f9ada5d-4dcb-4525-8a80-f0f1ed190949",
   "metadata": {},
   "source": [
    "## 함수의 리턴값은 언제든 하나"
   ]
  },
  {
   "cell_type": "code",
   "execution_count": 48,
   "id": "3f68edc7-996f-4c78-941c-d5104db8cd71",
   "metadata": {},
   "outputs": [
    {
     "name": "stdout",
     "output_type": "stream",
     "text": [
      "(7, 12)\n",
      "7 12\n"
     ]
    }
   ],
   "source": [
    "def add_and_mul(a, b) :\n",
    "    return a + b, a * b\n",
    "\n",
    "# 하나의 튜플로 리턴됨\n",
    "result = add_and_mul(3, 4)\n",
    "print(result)\n",
    "\n",
    "# 두 개의 값으로 따로 받고 싶다면 따로 호출해야 함\n",
    "# 괄호 없이 리턴되더라도 튜플임\n",
    "result_1, result_2 = add_and_mul(3, 4)\n",
    "print(result_1, result_2)"
   ]
  },
  {
   "cell_type": "code",
   "execution_count": 51,
   "id": "6aeed11f-d4f2-4cf9-a4f7-77f9ca47c19b",
   "metadata": {},
   "outputs": [
    {
     "name": "stdout",
     "output_type": "stream",
     "text": [
      "5\n"
     ]
    }
   ],
   "source": [
    "def add_and_mul(a, b) :\n",
    "    return a + b\n",
    "    return a * b\n",
    "\n",
    "result = add_and_mul(2, 3)\n",
    "print(result) # 두 번째 return문은 실행되지 않음"
   ]
  },
  {
   "cell_type": "markdown",
   "id": "169203de-55da-43b6-b0dd-04df1599e603",
   "metadata": {},
   "source": [
    "## return의 또 다른 쓰임새 (강제종료)"
   ]
  },
  {
   "cell_type": "code",
   "execution_count": 53,
   "id": "f3ba2fee-5665-435e-bf6c-20e1f375f470",
   "metadata": {},
   "outputs": [
    {
     "name": "stdout",
     "output_type": "stream",
     "text": [
      "나의 별명은 야호 입니다.\n"
     ]
    }
   ],
   "source": [
    "def say_nick(nick) :\n",
    "    if nick == \"바보\" :\n",
    "        return\n",
    "    print(\"나의 별명은 %s 입니다.\" %nick)\n",
    "\n",
    "say_nick('야호')\n",
    "say_nick('바보')"
   ]
  },
  {
   "cell_type": "markdown",
   "id": "89d4e04b-6ab9-4389-82e4-da09a740a772",
   "metadata": {},
   "source": [
    "## 매개변수에 초기값 설정하기"
   ]
  },
  {
   "cell_type": "code",
   "execution_count": 56,
   "id": "6eebb599-d969-497f-847a-7f9487494f2b",
   "metadata": {},
   "outputs": [
    {
     "name": "stdout",
     "output_type": "stream",
     "text": [
      "나의 이름은 허인하 입니다.\n",
      "나이는 20살입니다.\n",
      "남자입니다.\n",
      "\n",
      "나의 이름은 권순영 입니다.\n",
      "나이는 29살입니다.\n",
      "남자입니다.\n",
      "\n",
      "나의 이름은 류주현 입니다.\n",
      "나이는 24살입니다.\n",
      "여자입니다.\n"
     ]
    }
   ],
   "source": [
    "def say_myself(name, age, man = True) :\n",
    "    print(\"나의 이름은 %s 입니다.\" %name)\n",
    "    print(\"나이는 %d살입니다.\" %age)\n",
    "    if man :\n",
    "        print(\"남자입니다.\")\n",
    "    else :\n",
    "        print(\"여자입니다.\")\n",
    "\n",
    "say_myself(\"허인하\", 20)\n",
    "print(\"\")\n",
    "say_myself(\"권순영\", 29, True)\n",
    "print(\"\")\n",
    "say_myself(\"류주현\", 24, False)"
   ]
  },
  {
   "cell_type": "code",
   "execution_count": 61,
   "id": "ba0388e8-44c1-4d97-a0fb-1ef274b24d8e",
   "metadata": {},
   "outputs": [
    {
     "ename": "SyntaxError",
     "evalue": "parameter without a default follows parameter with a default (2452631056.py, line 1)",
     "output_type": "error",
     "traceback": [
      "\u001b[1;36m  Cell \u001b[1;32mIn[61], line 1\u001b[1;36m\u001b[0m\n\u001b[1;33m    def say_myself(name, man = True, age) :\u001b[0m\n\u001b[1;37m                                     ^\u001b[0m\n\u001b[1;31mSyntaxError\u001b[0m\u001b[1;31m:\u001b[0m parameter without a default follows parameter with a default\n"
     ]
    }
   ],
   "source": [
    "def say_myself(name, man = True, age) :\n",
    "    print(\"나의 이름은 %s 입니다.\" %name)\n",
    "    print(\"나이는 %d살입니다.\" %age)\n",
    "    if man :\n",
    "        print(\"남자입니다.\")\n",
    "    else :\n",
    "        print(\"여자입니다.\")\n",
    "\n",
    "say_myself(\"허인하\", 20)\n",
    "\n",
    "# 초기화하고 싶은 매개변수는 항상 맨 뒷쪽에 놓아야 한다.\n",
    "# 위치 인자 - 기본값(default) 인자(man = Ture) - 가변 인자(*args) - 키워드 인자 - 키워드 가변 인자\n",
    "# 위치 인자 : name, age / 위치에 따라 들어가는 것"
   ]
  },
  {
   "cell_type": "markdown",
   "id": "4f71d22a-3769-4324-ab58-7da00612b716",
   "metadata": {},
   "source": [
    "## 함수 안에서 선언한 변수의 유효 범위"
   ]
  },
  {
   "cell_type": "code",
   "execution_count": 74,
   "id": "5cbb737c-3164-433c-8e9f-dbaa87e6602b",
   "metadata": {},
   "outputs": [
    {
     "name": "stdout",
     "output_type": "stream",
     "text": [
      "1\n"
     ]
    }
   ],
   "source": [
    "# 함수 안에서 사용하는 매개변수는 함수 안에서만 사용하는 '함수만의 변수'\n",
    "# 함수 밖에서 선언한 변수는 함수 안에서 영향을 받지 못함\n",
    "\n",
    "a = 1\n",
    "def vartest(a) :\n",
    "    a += 1\n",
    "\n",
    "#vartest(a) # 실행 안 됨\n",
    "print(a) # 함수 밖에 선언한 a 출력"
   ]
  },
  {
   "cell_type": "code",
   "execution_count": 80,
   "id": "866caa7e-3695-4d4d-882e-97be0009b621",
   "metadata": {},
   "outputs": [
    {
     "name": "stdout",
     "output_type": "stream",
     "text": [
      "4\n"
     ]
    }
   ],
   "source": [
    "def vartest(b) :\n",
    "    b += 1\n",
    "    return b\n",
    "\n",
    "b = vartest(3)\n",
    "print(b) # 함수 밖에 선언한 a를 찾을 수 없어서 error 발생"
   ]
  },
  {
   "cell_type": "code",
   "execution_count": 82,
   "id": "61ff5892-0b37-4c8a-973e-91ce44460336",
   "metadata": {},
   "outputs": [
    {
     "name": "stdout",
     "output_type": "stream",
     "text": [
      "4\n"
     ]
    }
   ],
   "source": [
    "def vartest(c) :\n",
    "    return c + 1\n",
    "\n",
    "a = vartest(3) # vartest 함수를 실행한 리턴값을 변수 a에 대입\n",
    "print(a) # 변수 a값 출력"
   ]
  },
  {
   "cell_type": "markdown",
   "id": "00e31e8e-1f3f-43df-8734-3e7f042e5b22",
   "metadata": {},
   "source": [
    "## 함수 안에서 함수 밖의 변수를 변경하는 방법"
   ]
  },
  {
   "cell_type": "markdown",
   "id": "79efb467-edbc-41fa-a8bc-1825f0b03549",
   "metadata": {},
   "source": [
    "### 1. return 사용하기"
   ]
  },
  {
   "cell_type": "code",
   "execution_count": 83,
   "id": "98f3b17d-88e5-48a1-bf80-6e3bde54830b",
   "metadata": {},
   "outputs": [
    {
     "name": "stdout",
     "output_type": "stream",
     "text": [
      "2\n"
     ]
    }
   ],
   "source": [
    "a = 1\n",
    "def vartest(a) :\n",
    "    a += 1\n",
    "    return a\n",
    "\n",
    "a = vartest(a) # a = vartest(1)과 같음\n",
    "print(a)"
   ]
  },
  {
   "cell_type": "markdown",
   "id": "176160de-eff1-47b5-8351-8611176b826b",
   "metadata": {},
   "source": [
    "### 2. global 명령어 사용하기"
   ]
  },
  {
   "cell_type": "code",
   "execution_count": 84,
   "id": "4c48d3e2-59b4-4b88-b1f1-1bcca0cebdf0",
   "metadata": {},
   "outputs": [
    {
     "name": "stdout",
     "output_type": "stream",
     "text": [
      "2\n"
     ]
    }
   ],
   "source": [
    "a = 1\n",
    "def vartest() :\n",
    "    global a # global 변수로 변경\n",
    "    a += 1\n",
    "\n",
    "vartest()\n",
    "print(a)"
   ]
  },
  {
   "cell_type": "markdown",
   "id": "3e50706b-3100-45ff-82ce-828557abf513",
   "metadata": {},
   "source": [
    "## lambda 예약어"
   ]
  },
  {
   "cell_type": "code",
   "execution_count": 87,
   "id": "df776244-7ff3-4a6b-8cf2-54b2972645e0",
   "metadata": {},
   "outputs": [
    {
     "name": "stdout",
     "output_type": "stream",
     "text": [
      "7\n"
     ]
    }
   ],
   "source": [
    "# lambda : 함수를 생성할 때 사용하는 예약어 (== def)\n",
    "# 보통 함수를 한 줄로 간결하게 만들 때 사용\n",
    "# 함수_이름 = lambda 매개변수 1, 매개변수 2 : 매개변수를_이용한_표현식\n",
    "# lambda로 만든 함수는 return 없어도 결과값을 리턴한다.\n",
    "\n",
    "add = lambda a, b : a + b\n",
    "# def add(a, b) :\n",
    "#     return a + b\n",
    "\n",
    "result = add(3, 4)\n",
    "print(result)"
   ]
  },
  {
   "cell_type": "markdown",
   "id": "58ab9be4-eda6-4c27-b629-9afb2d57fddd",
   "metadata": {},
   "source": [
    "# 2. 함수의 활용"
   ]
  },
  {
   "cell_type": "markdown",
   "id": "ef35c6b5-8750-477f-8550-ff7d9e760b93",
   "metadata": {},
   "source": [
    "## 1) 재귀 함수"
   ]
  },
  {
   "cell_type": "markdown",
   "id": "3c408dd2-6159-4b2d-86f1-8b63ee406b20",
   "metadata": {},
   "source": [
    "### 반복문으로 팩토리얼 구하기"
   ]
  },
  {
   "cell_type": "code",
   "execution_count": 90,
   "id": "bfca59cc-5c84-4c4d-81bc-2299161bb7e9",
   "metadata": {},
   "outputs": [
    {
     "name": "stdout",
     "output_type": "stream",
     "text": [
      "1! : 1\n",
      "2! : 2\n",
      "3! : 6\n",
      "4! : 24\n",
      "5! : 120\n"
     ]
    }
   ],
   "source": [
    "def factorial(n) :\n",
    "    output = 1\n",
    "    for i in range(1, n + 1) :\n",
    "        output *= i\n",
    "    return output\n",
    "\n",
    "print('1! :', factorial(1))\n",
    "print('2! :', factorial(2))\n",
    "print('3! :', factorial(3))\n",
    "print('4! :', factorial(4))\n",
    "print('5! :', factorial(5))"
   ]
  },
  {
   "cell_type": "markdown",
   "id": "9e9f48f3-57fa-4f86-8805-6c04c257340c",
   "metadata": {},
   "source": [
    "### 재귀 함수로 팩토리얼 구하기"
   ]
  },
  {
   "cell_type": "code",
   "execution_count": 91,
   "id": "8f600bc8-44ae-4fb6-b750-a5189c1e3b6d",
   "metadata": {},
   "outputs": [
    {
     "name": "stdout",
     "output_type": "stream",
     "text": [
      "1! : 1\n",
      "2! : 2\n",
      "3! : 6\n",
      "4! : 24\n",
      "5! : 120\n"
     ]
    }
   ],
   "source": [
    "# 재귀란 자기 자신을 호출하는 것\n",
    "\n",
    "def factorial(n) :\n",
    "    if n == 0 :\n",
    "        return 1\n",
    "    else :\n",
    "        return n * factorial(n - 1)\n",
    "        \n",
    "print('1! :', factorial(1))\n",
    "print('2! :', factorial(2))\n",
    "print('3! :', factorial(3))\n",
    "print('4! :', factorial(4))\n",
    "print('5! :', factorial(5))"
   ]
  },
  {
   "cell_type": "markdown",
   "id": "1b52dcb1-3ed8-402b-811a-4f06c1f3486e",
   "metadata": {},
   "source": [
    "## 2) 리스트 평탄화하는 재귀 함수 만들기"
   ]
  },
  {
   "cell_type": "markdown",
   "id": "c27946a3-3264-4c22-9f99-64bda4c6ca5f",
   "metadata": {},
   "source": [
    "### for문을 이용한 평탄화"
   ]
  },
  {
   "cell_type": "code",
   "execution_count": 93,
   "id": "6fa9ff62-d418-4ac7-9b91-a36e169c2830",
   "metadata": {},
   "outputs": [
    {
     "name": "stdout",
     "output_type": "stream",
     "text": [
      "원본 :  [[1, 2, 3], [4, [5, 6]], 7, [8, 9]]\n",
      "변환 :  [1, 2, 3, 4, [5, 6], 7, 8, 9]\n"
     ]
    }
   ],
   "source": [
    "def flatten(data) :\n",
    "    output = []\n",
    "    for item in data :\n",
    "        if type(item) == list :\n",
    "            output += item\n",
    "        else :\n",
    "            output.append(item)\n",
    "    return output\n",
    "\n",
    "example = [[1, 2, 3], [4, [5, 6]], 7, [8, 9]]\n",
    "print('원본 : ', example)\n",
    "print('변환 : ', flatten(example))"
   ]
  },
  {
   "cell_type": "markdown",
   "id": "771a916c-fb37-4018-88b3-d1167691dedf",
   "metadata": {},
   "source": [
    "### 재귀함수로 리스트 평탄화"
   ]
  },
  {
   "cell_type": "code",
   "execution_count": 94,
   "id": "7eaa54f2-1b9c-41b2-8c64-36f251104da8",
   "metadata": {},
   "outputs": [
    {
     "name": "stdout",
     "output_type": "stream",
     "text": [
      "원본 :  [[1, 2, 3], [4, [5, 6]], 7, [8, 9]]\n",
      "변환 :  [1, 2, 3, 4, 5, 6, 7, 8, 9]\n"
     ]
    }
   ],
   "source": [
    "def flatten(data) :\n",
    "    output = []\n",
    "    for item in data :\n",
    "        if type(item) == list :\n",
    "            output += flatten(item)\n",
    "        else :\n",
    "            output.append(item)\n",
    "    return output\n",
    "\n",
    "example = [[1, 2, 3], [4, [5, 6]], 7, [8, 9]]\n",
    "print('원본 : ', example)\n",
    "print('변환 : ', flatten(example))"
   ]
  },
  {
   "cell_type": "code",
   "execution_count": null,
   "id": "22d61625-0b06-4cba-9198-7f47b0a26402",
   "metadata": {},
   "outputs": [],
   "source": []
  }
 ],
 "metadata": {
  "kernelspec": {
   "display_name": "Python 3 (ipykernel)",
   "language": "python",
   "name": "python3"
  },
  "language_info": {
   "codemirror_mode": {
    "name": "ipython",
    "version": 3
   },
   "file_extension": ".py",
   "mimetype": "text/x-python",
   "name": "python",
   "nbconvert_exporter": "python",
   "pygments_lexer": "ipython3",
   "version": "3.13.5"
  }
 },
 "nbformat": 4,
 "nbformat_minor": 5
}

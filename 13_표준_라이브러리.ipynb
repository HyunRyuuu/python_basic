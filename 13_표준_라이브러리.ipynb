{
 "cells": [
  {
   "cell_type": "markdown",
   "id": "dc5e6de4-05cf-405c-978f-dc51da5cd9c0",
   "metadata": {},
   "source": [
    "## 날짜, random 표준 라이브러리"
   ]
  },
  {
   "cell_type": "markdown",
   "id": "64da0157-d075-4319-9085-88d225380389",
   "metadata": {},
   "source": [
    "### datetime.date : 연, 월, 일 날짜 표현할 때 사용"
   ]
  },
  {
   "cell_type": "code",
   "execution_count": 4,
   "id": "227c8090-da61-46df-b2aa-fce1847da6e6",
   "metadata": {},
   "outputs": [
    {
     "name": "stdout",
     "output_type": "stream",
     "text": [
      "diff.days : 216\n",
      "day_1.weekday() : 0\n",
      "day_1.isoweekday() : 1\n"
     ]
    }
   ],
   "source": [
    "import datetime\n",
    "\n",
    "day_1 = datetime.date(2025, 9, 1)\n",
    "day_2 = datetime.date(2026, 4, 5)\n",
    "\n",
    "diff = day_2 - day_1\n",
    "\n",
    "print(f\"diff.days : {diff.days}\") # timedelta 객체 리턴\n",
    "print(f\"day_1.weekday() : {day_1.weekday()}\") # 0 : 월요일 ~ 6 : 일요일\n",
    "print(f\"day_1.isoweekday() : {day_1.isoweekday()}\") # 1 : 월요일 ~ 7 : 일요일"
   ]
  },
  {
   "cell_type": "markdown",
   "id": "9bd5c424-9ae5-40ad-a5d2-6a3462d5446b",
   "metadata": {},
   "source": [
    "### time"
   ]
  },
  {
   "cell_type": "markdown",
   "id": "fce46def-6beb-4a4a-a841-a55ab8c16305",
   "metadata": {},
   "source": [
    "#### time.time() : UTC 사용. 현재 시간을 실수 형태로 리턴"
   ]
  },
  {
   "cell_type": "code",
   "execution_count": 19,
   "id": "b0be98ae-ab6c-4db7-811b-502b26dd4aee",
   "metadata": {},
   "outputs": [
    {
     "data": {
      "text/plain": [
       "1756689628.4799113"
      ]
     },
     "execution_count": 19,
     "metadata": {},
     "output_type": "execute_result"
    }
   ],
   "source": [
    "import time\n",
    "\n",
    "# 1970년 1월 1일 0시 0분 0초를 기준으로 지난 시간을 초 단위로 리턴\n",
    "time.time()"
   ]
  },
  {
   "cell_type": "markdown",
   "id": "3c10b2d5-9387-4ffd-a685-2f86a0a78462",
   "metadata": {},
   "source": [
    "#### time.localtime() : 실수값 사용. 연, 월, 일, 시, 분, 초의 형태로 리턴"
   ]
  },
  {
   "cell_type": "code",
   "execution_count": 10,
   "id": "2b67aba0-51f4-49e0-baf7-5a89a08510a3",
   "metadata": {},
   "outputs": [
    {
     "data": {
      "text/plain": [
       "time.struct_time(tm_year=2025, tm_mon=9, tm_mday=1, tm_hour=9, tm_min=58, tm_sec=10, tm_wday=0, tm_yday=244, tm_isdst=0)"
      ]
     },
     "execution_count": 10,
     "metadata": {},
     "output_type": "execute_result"
    }
   ],
   "source": [
    "time.localtime(time.time())"
   ]
  },
  {
   "cell_type": "markdown",
   "id": "0668879f-122a-4d5e-98a4-0deee6ec5c8d",
   "metadata": {},
   "source": [
    "#### time.asctime() : 날짜와 시간을 알아보기 쉬운 형태로 리턴"
   ]
  },
  {
   "cell_type": "code",
   "execution_count": 12,
   "id": "cacae222-f8e9-4237-8bab-75cc1a621c1c",
   "metadata": {},
   "outputs": [
    {
     "data": {
      "text/plain": [
       "'Mon Sep  1 09:59:02 2025'"
      ]
     },
     "execution_count": 12,
     "metadata": {},
     "output_type": "execute_result"
    }
   ],
   "source": [
    "time.asctime(time.localtime(time.time()))"
   ]
  },
  {
   "cell_type": "markdown",
   "id": "3e8010fe-86ba-4d23-95b9-764aef117e9c",
   "metadata": {},
   "source": [
    "#### time.ctime() = time.asctime(time.localtime(time.time()))"
   ]
  },
  {
   "cell_type": "code",
   "execution_count": 13,
   "id": "7237e136-5e26-41ee-aaad-f381e6813414",
   "metadata": {},
   "outputs": [
    {
     "data": {
      "text/plain": [
       "'Mon Sep  1 09:59:38 2025'"
      ]
     },
     "execution_count": 13,
     "metadata": {},
     "output_type": "execute_result"
    }
   ],
   "source": [
    "time.ctime()"
   ]
  },
  {
   "cell_type": "markdown",
   "id": "81a7ed8c-12eb-4afa-a343-44a3f0755f58",
   "metadata": {},
   "source": [
    "#### time.strftime() : 시간을 세밀하게 표현하는 여러 가지 포맥 코드 제공"
   ]
  },
  {
   "cell_type": "code",
   "execution_count": 18,
   "id": "c29cb436-2e34-4855-9ec0-5a1256eafb41",
   "metadata": {},
   "outputs": [
    {
     "name": "stdout",
     "output_type": "stream",
     "text": [
      "%x : 09/01/25\n",
      "%c : Mon Sep  1 10:01:32 2025\n"
     ]
    }
   ],
   "source": [
    "# time.strftime('출력할 형식 포맷 코드'. time.localtime(time.time()))\n",
    "\n",
    "print(f\"%x : {time.strftime('%x', time.localtime(time.time()))}\")\n",
    "print(f\"%c : {time.strftime('%c', time.localtime(time.time()))}\")"
   ]
  },
  {
   "cell_type": "markdown",
   "id": "1252f039-dba2-4788-9830-de5cf186b3b5",
   "metadata": {},
   "source": [
    "#### time.sleep : 일정시간 간격을 두고 루프 실행"
   ]
  },
  {
   "cell_type": "code",
   "execution_count": 20,
   "id": "64513e4f-c41a-491c-bd47-a5715f93141b",
   "metadata": {},
   "outputs": [
    {
     "name": "stdout",
     "output_type": "stream",
     "text": [
      "0\n",
      "1\n",
      "2\n",
      "3\n",
      "4\n",
      "5\n",
      "6\n",
      "7\n",
      "8\n",
      "9\n"
     ]
    }
   ],
   "source": [
    "import time\n",
    "for i in range(10) :\n",
    "    print(i)\n",
    "    time.sleep(1)"
   ]
  },
  {
   "cell_type": "markdown",
   "id": "b362337c-b189-4a42-950e-dd4e243d8e73",
   "metadata": {},
   "source": [
    "#### 인수 없이 time 함수 사용하기"
   ]
  },
  {
   "cell_type": "code",
   "execution_count": 25,
   "id": "54c3e391-3ae1-4ccb-bef7-1262ef5980c8",
   "metadata": {},
   "outputs": [
    {
     "name": "stdout",
     "output_type": "stream",
     "text": [
      "time.localtime() : time.struct_time(tm_year=2025, tm_mon=9, tm_mday=1, tm_hour=10, tm_min=31, tm_sec=11, tm_wday=0, tm_yday=244, tm_isdst=0)\n",
      "\n",
      "time.asctime() : Mon Sep  1 10:31:11 2025\n",
      "\n",
      "time.strftime('%c'): Mon Sep  1 10:31:11 2025\n"
     ]
    }
   ],
   "source": [
    "# 임력 인수 없이 사용할 경우 현재 시간을 기준으로 실행\n",
    "\n",
    "print(f\"time.localtime() : {time.localtime()}\")\n",
    "print(\"\")\n",
    "print(f\"time.asctime() : {time.asctime()}\")\n",
    "print(\"\")\n",
    "print(f\"time.strftime('%c'): {time.strftime(\"%c\")}\")\n"
   ]
  },
  {
   "cell_type": "markdown",
   "id": "f488e953-43f2-4b73-b5f0-8c6a25034cbe",
   "metadata": {},
   "source": [
    "### random"
   ]
  },
  {
   "cell_type": "code",
   "execution_count": 30,
   "id": "ff93b35b-4502-4851-aa1c-dab711f831a1",
   "metadata": {},
   "outputs": [
    {
     "name": "stdout",
     "output_type": "stream",
     "text": [
      "random.random() :\n",
      "0.116070829028605\n",
      "\n",
      "random.randint(1, 10) :\n",
      "8\n",
      "\n",
      "random.radint(1, 55) :\n",
      "37\n"
     ]
    }
   ],
   "source": [
    "# random : 난수(규칙 없는 임의의 수)를 발생시키는 모듈\n",
    "import random\n",
    "\n",
    "# 0.0에서 1.0 사이의 실수 중에서 난수 값을 리턴\n",
    "print(\"random.random() :\")\n",
    "print(random.random())\n",
    "\n",
    "print(\"\")\n",
    "\n",
    "# 1에서 10 사이의 정수 중에서 난수 값을 리턴\n",
    "print(\"random.randint(1, 10) :\")\n",
    "print(random.randint(1, 10))\n",
    "\n",
    "print(\"\")\n",
    "\n",
    "# 1에서 55 사이의 정수 중에서 난수 값을 리턴\n",
    "print(\"random.radint(1, 55) :\")\n",
    "print(random.randint(1, 55))"
   ]
  },
  {
   "cell_type": "markdown",
   "id": "5e0b25b4-b7a2-48b4-9805-11de71ee2150",
   "metadata": {},
   "source": [
    "#### random_pop : 리스트 요소 중 무작위로 하나를 선택하여 리턴"
   ]
  },
  {
   "cell_type": "code",
   "execution_count": 31,
   "id": "ef22066a-dbc3-40e8-b095-a7e49d5f063d",
   "metadata": {},
   "outputs": [
    {
     "name": "stdout",
     "output_type": "stream",
     "text": [
      "5\n",
      "3\n",
      "2\n",
      "4\n",
      "1\n"
     ]
    }
   ],
   "source": [
    "# random_pop.py\n",
    "\n",
    "import random\n",
    "def random_pop(data) :\n",
    "    num = random.randint(0, len(data) - 1)\n",
    "    return data.pop(num)\n",
    "\n",
    "data = [1, 2, 3, 4, 5]\n",
    "while data :\n",
    "    print(random_pop(data))"
   ]
  },
  {
   "cell_type": "markdown",
   "id": "41b17814-8ac5-4f1f-9cc8-67f801327b7a",
   "metadata": {},
   "source": [
    "#### random.choice() : 입력 받은 리스트에서 무작위로 하나 리턴"
   ]
  },
  {
   "cell_type": "code",
   "execution_count": 32,
   "id": "186f9861-d170-4039-a90e-ba22102665f6",
   "metadata": {},
   "outputs": [],
   "source": [
    "def random_pop(data) :\n",
    "    num = random.choice(data)\n",
    "    data.remove(num)\n",
    "    return num"
   ]
  },
  {
   "cell_type": "markdown",
   "id": "97097eab-db39-43e5-8a1d-769777531489",
   "metadata": {},
   "source": [
    "#### random.sample() : 리스트의 항목을 무작위로 섞고 싶을 때 사용"
   ]
  },
  {
   "cell_type": "code",
   "execution_count": 34,
   "id": "002e4f69-4f2c-46ce-9e1c-57ca06ec8c61",
   "metadata": {},
   "outputs": [
    {
     "data": {
      "text/plain": [
       "[1, 4, 2, 3, 5]"
      ]
     },
     "execution_count": 34,
     "metadata": {},
     "output_type": "execute_result"
    }
   ],
   "source": [
    "import random\n",
    "\n",
    "data = [1, 2, 3, 4, 5]\n",
    "random.sample(data, len(data))"
   ]
  },
  {
   "cell_type": "markdown",
   "id": "6f6d0383-99a2-441b-991c-d33c0e13ae53",
   "metadata": {},
   "source": [
    "### pickle 표준 라이브러리"
   ]
  },
  {
   "cell_type": "code",
   "execution_count": 36,
   "id": "2d1f4678-423e-46e8-b23c-76f18de8a5dc",
   "metadata": {},
   "outputs": [],
   "source": [
    "# pickle은 객체의 형태를 그대로 유지하면서 파일에 저장하고 불러올 수 있도록 하는 모듈\n",
    "\n",
    "import pickle\n",
    "\n",
    "f = open(\"test.txt\", 'wb')\n",
    "data = {1 : 'python', 2 : 'you need'}\n",
    "pickle.dump(data, f)\n",
    "f.close()"
   ]
  },
  {
   "cell_type": "code",
   "execution_count": 38,
   "id": "f140597b-85f7-4621-be26-156505168ef9",
   "metadata": {},
   "outputs": [
    {
     "name": "stdout",
     "output_type": "stream",
     "text": [
      "{1: 'python', 2: 'you need'}\n"
     ]
    }
   ],
   "source": [
    "import pickle\n",
    "\n",
    "f = open(\"test.txt\", 'rb')\n",
    "content = pickle.load(f)\n",
    "print(content)"
   ]
  },
  {
   "cell_type": "markdown",
   "id": "d000b151-d025-4e80-afb6-fd2bd6943475",
   "metadata": {},
   "source": [
    "### json : JSON 데이터를 쉽게 처리하고자 사용하는 모듈"
   ]
  },
  {
   "cell_type": "code",
   "execution_count": 39,
   "id": "3eba178d-aea4-4211-bfdd-d43ee9c3feca",
   "metadata": {},
   "outputs": [
    {
     "data": {
      "text/plain": [
       "{'name': '홍길동', 'birth': '0525', 'age': 30}"
      ]
     },
     "execution_count": 39,
     "metadata": {},
     "output_type": "execute_result"
    }
   ],
   "source": [
    "# myinfo.json\n",
    "\n",
    "{\n",
    "    \"name\" : \"홍길동\",\n",
    "    \"birth\" : \"0525\",\n",
    "    \"age\" : 30\n",
    "}"
   ]
  },
  {
   "cell_type": "code",
   "execution_count": 40,
   "id": "8a3307c8-cd1c-4d20-b135-bc1abf5cdf27",
   "metadata": {},
   "outputs": [
    {
     "ename": "FileNotFoundError",
     "evalue": "[Errno 2] No such file or directory: 'myinfo.json'",
     "output_type": "error",
     "traceback": [
      "\u001b[1;31m---------------------------------------------------------------------------\u001b[0m",
      "\u001b[1;31mFileNotFoundError\u001b[0m                         Traceback (most recent call last)",
      "Cell \u001b[1;32mIn[40], line 5\u001b[0m\n\u001b[0;32m      1\u001b[0m \u001b[38;5;66;03m# JSON 파일을 읽어 딕셔너리로 변환 => json 모듈 사용\u001b[39;00m\n\u001b[0;32m      3\u001b[0m \u001b[38;5;28;01mimport\u001b[39;00m\u001b[38;5;250m \u001b[39m\u001b[38;5;21;01mjson\u001b[39;00m\n\u001b[1;32m----> 5\u001b[0m \u001b[38;5;28;01mwith\u001b[39;00m \u001b[38;5;28mopen\u001b[39m(\u001b[38;5;124m'\u001b[39m\u001b[38;5;124mmyinfo.json\u001b[39m\u001b[38;5;124m'\u001b[39m) \u001b[38;5;28;01mas\u001b[39;00m f :\n\u001b[0;32m      6\u001b[0m     data \u001b[38;5;241m=\u001b[39m json\u001b[38;5;241m.\u001b[39mload(f)\n\u001b[0;32m      8\u001b[0m \u001b[38;5;28mtype\u001b[39m(data)\n",
      "File \u001b[1;32m~\\anaconda3\\Lib\\site-packages\\IPython\\core\\interactiveshell.py:324\u001b[0m, in \u001b[0;36m_modified_open\u001b[1;34m(file, *args, **kwargs)\u001b[0m\n\u001b[0;32m    317\u001b[0m \u001b[38;5;28;01mif\u001b[39;00m file \u001b[38;5;129;01min\u001b[39;00m {\u001b[38;5;241m0\u001b[39m, \u001b[38;5;241m1\u001b[39m, \u001b[38;5;241m2\u001b[39m}:\n\u001b[0;32m    318\u001b[0m     \u001b[38;5;28;01mraise\u001b[39;00m \u001b[38;5;167;01mValueError\u001b[39;00m(\n\u001b[0;32m    319\u001b[0m         \u001b[38;5;124mf\u001b[39m\u001b[38;5;124m\"\u001b[39m\u001b[38;5;124mIPython won\u001b[39m\u001b[38;5;124m'\u001b[39m\u001b[38;5;124mt let you open fd=\u001b[39m\u001b[38;5;132;01m{\u001b[39;00mfile\u001b[38;5;132;01m}\u001b[39;00m\u001b[38;5;124m by default \u001b[39m\u001b[38;5;124m\"\u001b[39m\n\u001b[0;32m    320\u001b[0m         \u001b[38;5;124m\"\u001b[39m\u001b[38;5;124mas it is likely to crash IPython. If you know what you are doing, \u001b[39m\u001b[38;5;124m\"\u001b[39m\n\u001b[0;32m    321\u001b[0m         \u001b[38;5;124m\"\u001b[39m\u001b[38;5;124myou can use builtins\u001b[39m\u001b[38;5;124m'\u001b[39m\u001b[38;5;124m open.\u001b[39m\u001b[38;5;124m\"\u001b[39m\n\u001b[0;32m    322\u001b[0m     )\n\u001b[1;32m--> 324\u001b[0m \u001b[38;5;28;01mreturn\u001b[39;00m io_open(file, \u001b[38;5;241m*\u001b[39margs, \u001b[38;5;241m*\u001b[39m\u001b[38;5;241m*\u001b[39mkwargs)\n",
      "\u001b[1;31mFileNotFoundError\u001b[0m: [Errno 2] No such file or directory: 'myinfo.json'"
     ]
    }
   ],
   "source": [
    "# JSON 파일을 읽어 딕셔너리로 변환 => json 모듈 사용\n",
    "\n",
    "import json\n",
    "\n",
    "with open('myinfo.json') as f :\n",
    "    data = json.load(f)\n",
    "\n",
    "type(data)"
   ]
  },
  {
   "cell_type": "code",
   "execution_count": null,
   "id": "9876b521-0c40-40d9-a901-7d77908384d8",
   "metadata": {},
   "outputs": [],
   "source": []
  }
 ],
 "metadata": {
  "kernelspec": {
   "display_name": "Python 3 (ipykernel)",
   "language": "python",
   "name": "python3"
  },
  "language_info": {
   "codemirror_mode": {
    "name": "ipython",
    "version": 3
   },
   "file_extension": ".py",
   "mimetype": "text/x-python",
   "name": "python",
   "nbconvert_exporter": "python",
   "pygments_lexer": "ipython3",
   "version": "3.13.5"
  }
 },
 "nbformat": 4,
 "nbformat_minor": 5
}

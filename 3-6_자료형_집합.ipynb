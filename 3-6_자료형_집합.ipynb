{
 "cells": [
  {
   "cell_type": "markdown",
   "id": "8bc47567-c983-4bf4-a800-7a8d1da923a3",
   "metadata": {},
   "source": [
    "## 1. 집합 자료형은 어떻게 만들까?"
   ]
  },
  {
   "cell_type": "code",
   "execution_count": 7,
   "id": "152eecce-4918-4208-b0ca-73a52c8f40d9",
   "metadata": {},
   "outputs": [
    {
     "name": "stdout",
     "output_type": "stream",
     "text": [
      "{1, 2, 3}\n",
      "<class 'set'>\n",
      "{'l', 'o', 'e', 'H'}\n",
      "<class 'set'>\n"
     ]
    }
   ],
   "source": [
    "## 집합 자료형은 다음과 같이 set 키워드를 이용해 만들 수 있다.\n",
    "\n",
    "s1 = set([1, 2, 3])\n",
    "print(s1)\n",
    "print(type(s1))\n",
    "\n",
    "## set() 괄호 안에 리스트 혹은 문자열을 입력하여 만든다.\n",
    "## 비어있는 집합 자료형은 s = set()으로 만들 수 있다.\n",
    "\n",
    "s2 = set(\"Hello\") \n",
    "print(s2)\n",
    "print(type(s2))"
   ]
  },
  {
   "cell_type": "markdown",
   "id": "4a1c91fc-5ddf-4be5-b307-89568fc96a45",
   "metadata": {},
   "source": [
    "## 2. 집합 자료형의 특징 두 가지"
   ]
  },
  {
   "cell_type": "code",
   "execution_count": 10,
   "id": "09297366-1aa3-4843-87f1-020902792c5d",
   "metadata": {},
   "outputs": [
    {
     "name": "stdout",
     "output_type": "stream",
     "text": [
      "[1, 2, 3]\n",
      "<class 'list'>\n",
      "(1, 2, 3)\n",
      "<class 'tuple'>\n"
     ]
    }
   ],
   "source": [
    "### 중복을 허용하지 않는다.\n",
    "### 순서가 없다(Unordered).\n",
    "\n",
    "## set()은 중복을 허용하지 않는 특징 떄문에 데이터의 중복을 제거하기 위한 필터로 사용된다.\n",
    "\n",
    "## 순서가 없기 때문에 인덱싱을 통해 요솟값을 얻을 수 없다. 딕셔너리와 비슷하다.\n",
    "### 인덱싱하고 싶으면 리스트나 튜플로 변환한 후 해야 한다.\n",
    "\n",
    "s1 = set([1, 2, 3])\n",
    "l1 = list(s1)\n",
    "print(l1)\n",
    "print(type(l1))\n",
    "\n",
    "t1 = tuple(s1)\n",
    "print(t1)\n",
    "print(type(t1))"
   ]
  },
  {
   "cell_type": "markdown",
   "id": "bc6b27c2-a6c9-47f7-b779-86a7f7d5a190",
   "metadata": {},
   "source": [
    "## 3. 교집합, 합집합, 차집합 구하기"
   ]
  },
  {
   "cell_type": "code",
   "execution_count": 11,
   "id": "03dcab82-1dfd-47ea-b9e7-3eb70275d37d",
   "metadata": {},
   "outputs": [],
   "source": [
    "s1 = set([1, 2, 3, 4, 5, 6])\n",
    "s2 = set([4, 5, 6, 7, 8, 9])"
   ]
  },
  {
   "cell_type": "code",
   "execution_count": 20,
   "id": "60700202-9d17-4836-bd78-d8e5687f92f1",
   "metadata": {},
   "outputs": [
    {
     "name": "stdout",
     "output_type": "stream",
     "text": [
      "{4, 5, 6}\n",
      "{4, 5, 6}\n"
     ]
    }
   ],
   "source": [
    "## 교집합\n",
    "\n",
    "### &\n",
    "print(s1 & s2)\n",
    "\n",
    "### intersection\n",
    "print(s1.intersection(s2))"
   ]
  },
  {
   "cell_type": "code",
   "execution_count": 21,
   "id": "057173c5-c7e7-44bc-945c-85a705c5c421",
   "metadata": {},
   "outputs": [
    {
     "name": "stdout",
     "output_type": "stream",
     "text": [
      "{1, 2, 3, 4, 5, 6, 7, 8, 9}\n",
      "{1, 2, 3, 4, 5, 6, 7, 8, 9}\n"
     ]
    }
   ],
   "source": [
    "## 합집합\n",
    "\n",
    "### |\n",
    "print(s1 | s2)\n",
    "\n",
    "### union\n",
    "print(s1.union(s2))"
   ]
  },
  {
   "cell_type": "code",
   "execution_count": 22,
   "id": "ff00a1c8-0f66-4564-bef1-c2621818611b",
   "metadata": {},
   "outputs": [
    {
     "name": "stdout",
     "output_type": "stream",
     "text": [
      "{1, 2, 3}\n",
      "{1, 2, 3}\n",
      "{8, 9, 7}\n",
      "{8, 9, 7}\n"
     ]
    }
   ],
   "source": [
    "## 차집합\n",
    "\n",
    "print(s1 - s2) ### -\n",
    "print(s1.difference(s2)) ### difference\n",
    "\n",
    "print(s2 - s1) ### -\n",
    "print(s2.difference(s1)) ### difference"
   ]
  },
  {
   "cell_type": "markdown",
   "id": "0a51bcc5-61c8-4b7a-99ba-f0b4881d8f3b",
   "metadata": {},
   "source": [
    "## 4. 집합 자료형 관련 함수"
   ]
  },
  {
   "cell_type": "code",
   "execution_count": 24,
   "id": "b1fd5f8e-44b6-426f-9528-e70632b4cb85",
   "metadata": {},
   "outputs": [
    {
     "name": "stdout",
     "output_type": "stream",
     "text": [
      "{1, 2, 3}\n",
      "{1, 2, 3, 4}\n"
     ]
    }
   ],
   "source": [
    "## add() : 값 1개 추가하기\n",
    "\n",
    "s1 = set([1, 2, 3])\n",
    "print(s1)\n",
    "\n",
    "s1.add(4)\n",
    "print(s1)"
   ]
  },
  {
   "cell_type": "code",
   "execution_count": 25,
   "id": "5b07bbd8-f438-4ace-a23c-bdad9a3dcb6c",
   "metadata": {},
   "outputs": [
    {
     "name": "stdout",
     "output_type": "stream",
     "text": [
      "{1, 2, 3}\n",
      "{1, 2, 3, 4, 5, 6}\n"
     ]
    }
   ],
   "source": [
    "## update() : 값 여러 개 추가하기\n",
    "\n",
    "s1 = set([1, 2, 3])\n",
    "print(s1)\n",
    "\n",
    "s1.update([4, 5, 6])\n",
    "print(s1)"
   ]
  },
  {
   "cell_type": "code",
   "execution_count": 26,
   "id": "7b174003-6009-42f0-be27-5617e28e65b0",
   "metadata": {},
   "outputs": [
    {
     "name": "stdout",
     "output_type": "stream",
     "text": [
      "{1, 2, 3}\n",
      "{1, 3}\n"
     ]
    }
   ],
   "source": [
    "## remove() : 특정 값 제거하기\n",
    "\n",
    "s1 = set([1, 2, 3])\n",
    "print(s1)\n",
    "\n",
    "s1.remove(2)\n",
    "print(s1)"
   ]
  },
  {
   "cell_type": "code",
   "execution_count": 27,
   "id": "cac2f8d1-1740-4f0a-8945-5ee110c19b62",
   "metadata": {},
   "outputs": [
    {
     "ename": "KeyError",
     "evalue": "7",
     "output_type": "error",
     "traceback": [
      "\u001b[1;31m---------------------------------------------------------------------------\u001b[0m",
      "\u001b[1;31mKeyError\u001b[0m                                  Traceback (most recent call last)",
      "Cell \u001b[1;32mIn[27], line 1\u001b[0m\n\u001b[1;32m----> 1\u001b[0m s1\u001b[38;5;241m.\u001b[39mremove(\u001b[38;5;241m7\u001b[39m)\n",
      "\u001b[1;31mKeyError\u001b[0m: 7"
     ]
    }
   ],
   "source": [
    "s1.remove(7) # 없는 값을 빼면 오류 발생"
   ]
  },
  {
   "cell_type": "code",
   "execution_count": null,
   "id": "c8fb81a5-cff7-4496-8e8a-43a65437ab64",
   "metadata": {},
   "outputs": [],
   "source": []
  }
 ],
 "metadata": {
  "kernelspec": {
   "display_name": "Python 3 (ipykernel)",
   "language": "python",
   "name": "python3"
  },
  "language_info": {
   "codemirror_mode": {
    "name": "ipython",
    "version": 3
   },
   "file_extension": ".py",
   "mimetype": "text/x-python",
   "name": "python",
   "nbconvert_exporter": "python",
   "pygments_lexer": "ipython3",
   "version": "3.13.5"
  }
 },
 "nbformat": 4,
 "nbformat_minor": 5
}

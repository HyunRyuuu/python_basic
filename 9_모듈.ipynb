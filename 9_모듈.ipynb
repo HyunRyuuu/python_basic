{
 "cells": [
  {
   "cell_type": "markdown",
   "id": "3ab98802-77fd-4830-a7d2-fa1d458da5e5",
   "metadata": {},
   "source": [
    "# 1. 모듈 만들기"
   ]
  },
  {
   "cell_type": "code",
   "execution_count": null,
   "id": "13337761-b549-4b74-8689-c8f04b285c16",
   "metadata": {},
   "outputs": [],
   "source": []
  },
  {
   "cell_type": "code",
   "execution_count": null,
   "id": "216f0671-680d-42e2-bda0-f17ee6dd6bd3",
   "metadata": {},
   "outputs": [],
   "source": []
  }
 ],
 "metadata": {
  "kernelspec": {
   "display_name": "Python 3 (ipykernel)",
   "language": "python",
   "name": "python3"
  },
  "language_info": {
   "codemirror_mode": {
    "name": "ipython",
    "version": 3
   },
   "file_extension": ".py",
   "mimetype": "text/x-python",
   "name": "python",
   "nbconvert_exporter": "python",
   "pygments_lexer": "ipython3",
   "version": "3.13.5"
  }
 },
 "nbformat": 4,
 "nbformat_minor": 5
}

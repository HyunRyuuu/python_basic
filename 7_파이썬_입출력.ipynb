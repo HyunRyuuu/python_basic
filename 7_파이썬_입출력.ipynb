{
 "cells": [
  {
   "cell_type": "markdown",
   "id": "8fb756ae-7519-4e2e-a636-10d0c9f24e8c",
   "metadata": {},
   "source": [
    "# 1. 사용자 입출력"
   ]
  },
  {
   "cell_type": "markdown",
   "id": "107fdc55-7c42-45d1-829e-fd39fc7fadc1",
   "metadata": {},
   "source": [
    "## 1) 사용자 입력"
   ]
  },
  {
   "cell_type": "markdown",
   "id": "7755db0e-6b32-4a34-970b-83cacb35d3ea",
   "metadata": {},
   "source": [
    "### input 사용하기"
   ]
  },
  {
   "cell_type": "code",
   "execution_count": 1,
   "id": "5de42b27-be5a-4e21-b6d2-27d570514296",
   "metadata": {},
   "outputs": [
    {
     "name": "stdin",
     "output_type": "stream",
     "text": [
      " Life is too short, you need python\n"
     ]
    }
   ],
   "source": [
    "a = input()"
   ]
  },
  {
   "cell_type": "code",
   "execution_count": 2,
   "id": "553eebc8-ff52-4d1d-89f3-f3c51802f75d",
   "metadata": {},
   "outputs": [
    {
     "name": "stdout",
     "output_type": "stream",
     "text": [
      "Life is too short, you need python\n"
     ]
    }
   ],
   "source": [
    "print(a)"
   ]
  },
  {
   "cell_type": "markdown",
   "id": "35cf32a0-e100-4e50-8416-b77444f40a81",
   "metadata": {},
   "source": [
    "### 프롬프트를 띄워 사용자 입력받기"
   ]
  },
  {
   "cell_type": "code",
   "execution_count": 3,
   "id": "dd58a873-7b7b-4762-937d-d4d8c07fa01e",
   "metadata": {},
   "outputs": [
    {
     "name": "stdin",
     "output_type": "stream",
     "text": [
      "숫자를 입력하세요 :  3\n"
     ]
    }
   ],
   "source": [
    "num = input(\"숫자를 입력하세요 : \")"
   ]
  },
  {
   "cell_type": "code",
   "execution_count": 7,
   "id": "2dc29b8b-04f4-4392-b780-38338a327946",
   "metadata": {},
   "outputs": [
    {
     "name": "stdout",
     "output_type": "stream",
     "text": [
      "3\n"
     ]
    },
    {
     "data": {
      "text/plain": [
       "str"
      ]
     },
     "execution_count": 7,
     "metadata": {},
     "output_type": "execute_result"
    }
   ],
   "source": [
    "print(num)\n",
    "type(num)"
   ]
  },
  {
   "cell_type": "markdown",
   "id": "fafb3aea-ecd9-4738-bcf0-7145cfebe6f6",
   "metadata": {},
   "source": [
    "## 2) print 자세히 알기"
   ]
  },
  {
   "cell_type": "markdown",
   "id": "26a8d65c-d457-429c-9ee9-5a82c69a6e70",
   "metadata": {},
   "source": [
    "### 데이터를 출력하는 print문"
   ]
  },
  {
   "cell_type": "code",
   "execution_count": 8,
   "id": "12bc0595-4ab1-4adc-988d-26969e5315ee",
   "metadata": {},
   "outputs": [
    {
     "name": "stdout",
     "output_type": "stream",
     "text": [
      "222\n",
      "\n",
      "Python\n",
      "\n",
      "[1, 2, 3]\n"
     ]
    }
   ],
   "source": [
    "a = 222\n",
    "print(a)\n",
    "\n",
    "print(\"\")\n",
    "\n",
    "a = \"Python\"\n",
    "print(a)\n",
    "\n",
    "print(\"\")\n",
    "\n",
    "a = [1, 2, 3]\n",
    "print(a)"
   ]
  },
  {
   "cell_type": "markdown",
   "id": "bf355a5d-0d47-43fa-bdf1-808673b594b9",
   "metadata": {},
   "source": [
    "### 문자열과 +연산"
   ]
  },
  {
   "cell_type": "code",
   "execution_count": 10,
   "id": "68e26acf-d68a-4acb-b84c-da11be0e8b80",
   "metadata": {},
   "outputs": [
    {
     "name": "stdout",
     "output_type": "stream",
     "text": [
      "lifeistoo short\n",
      "lifeistoo short\n",
      "lifeistoo short\n"
     ]
    }
   ],
   "source": [
    "print(\"life\" \"is\" \"too short\") # 큰따옴표로 둘러싸인 문자열\n",
    "print(\"life\" + \"is\" + \"too short\") # 문자열  +연산\n",
    "print('life' 'is' 'too short')\n",
    "\n",
    "## 따옴표로 둘러싸인 문자열을 연속해서 쓰면 +연산을 한 것과 같다"
   ]
  },
  {
   "cell_type": "markdown",
   "id": "b111ecd9-2e51-4fd2-8ac3-4a2e73dbb288",
   "metadata": {},
   "source": [
    "### 문자열 띄어쓰기는 쉼표로"
   ]
  },
  {
   "cell_type": "code",
   "execution_count": 11,
   "id": "ebb5b31d-9eb3-4b38-901f-26af506589d7",
   "metadata": {},
   "outputs": [
    {
     "name": "stdout",
     "output_type": "stream",
     "text": [
      "life is too short\n",
      "life is too short\n"
     ]
    }
   ],
   "source": [
    "print(\"life\", \"is\", \"too short\")\n",
    "print('life', 'is', 'too short')"
   ]
  },
  {
   "cell_type": "markdown",
   "id": "b1a9f652-befd-4173-95a6-a55099f8d654",
   "metadata": {},
   "source": [
    "### 한 줄에 결과값 출력하기"
   ]
  },
  {
   "cell_type": "code",
   "execution_count": 14,
   "id": "249dcfa2-b57d-4c18-99fb-0338dfbfd35d",
   "metadata": {},
   "outputs": [
    {
     "name": "stdout",
     "output_type": "stream",
     "text": [
      "0 1 2 3 4 5 6 7 8 9 "
     ]
    }
   ],
   "source": [
    "for i in range(10) :\n",
    "    print(i, end = ' ') # 매개변수 end를 사용해 끝 문자(공백) 지정 : 초기값 \\n(줄바꿈)"
   ]
  },
  {
   "cell_type": "markdown",
   "id": "d24dbf0f-0954-4157-a256-d7ec8c421dcb",
   "metadata": {},
   "source": [
    "# 2. 파일 읽고 쓰기"
   ]
  },
  {
   "cell_type": "markdown",
   "id": "fa8245db-852f-4318-8092-7f1641c2f80e",
   "metadata": {},
   "source": [
    "## 1) 파일 생성하기"
   ]
  },
  {
   "cell_type": "code",
   "execution_count": 20,
   "id": "f9780672-962d-4132-8f6b-91ab3523f758",
   "metadata": {},
   "outputs": [],
   "source": [
    "f = open(\"newfile.txt\", 'w')\n",
    "f.close() # 파일 객체를 닫아주는 역할"
   ]
  },
  {
   "cell_type": "code",
   "execution_count": 29,
   "id": "b224e687-8c25-4e64-8b16-7dc012e42d03",
   "metadata": {},
   "outputs": [],
   "source": [
    "f = open(\"C:/RJH/03. python_basic/newfile.txt\", 'w') # 절대경로 \\\\ or /로 포현\n",
    "f.close()"
   ]
  },
  {
   "cell_type": "markdown",
   "id": "c4cd4985-33bd-4224-91f0-3a0fc51004b9",
   "metadata": {},
   "source": [
    "## 2) 파일을 쓰기모드로 열어 내용 쓰기"
   ]
  },
  {
   "cell_type": "code",
   "execution_count": 41,
   "id": "cd509b2c-a12e-47b5-b957-cc29de17813e",
   "metadata": {},
   "outputs": [],
   "source": [
    "f = open(\"newfile.txt\", 'w')\n",
    "\n",
    "for i in range(1, 11) :\n",
    "    data = \"%d번째 줄입니다.\\n\" %i\n",
    "    f.write(data)\n",
    "    \n",
    "f.close()"
   ]
  },
  {
   "cell_type": "markdown",
   "id": "32bd7928-1804-45b3-9c3b-9524c9b3b6c2",
   "metadata": {},
   "source": [
    "## 3) 파일을 읽는 여러가지 방법"
   ]
  },
  {
   "cell_type": "markdown",
   "id": "90c66e56-542b-4bf6-817b-def06f15df51",
   "metadata": {},
   "source": [
    "### readline 함수 이용하기"
   ]
  },
  {
   "cell_type": "code",
   "execution_count": 42,
   "id": "56e2b571-b0f0-414e-8cc8-7a512bb422d6",
   "metadata": {},
   "outputs": [
    {
     "name": "stdout",
     "output_type": "stream",
     "text": [
      "1번째 줄입니다.\n",
      "\n"
     ]
    }
   ],
   "source": [
    "f = open(\"newfile.txt\", \"r\")\n",
    "\n",
    "line = f.readline() # 파일의 첫 번째 줄 읽어오기\n",
    "print(line)\n",
    "\n",
    "f.close()"
   ]
  },
  {
   "cell_type": "markdown",
   "id": "d07775be-5540-4ced-9c26-b96f773c7d84",
   "metadata": {},
   "source": [
    "### readline 함수 이용하여 여러 줄 읽기"
   ]
  },
  {
   "cell_type": "code",
   "execution_count": 43,
   "id": "2adf401b-f9f8-459e-a153-6456bd138cb1",
   "metadata": {},
   "outputs": [
    {
     "name": "stdout",
     "output_type": "stream",
     "text": [
      "1번째 줄입니다.\n",
      "\n",
      "2번째 줄입니다.\n",
      "\n",
      "3번째 줄입니다.\n",
      "\n",
      "4번째 줄입니다.\n",
      "\n",
      "5번째 줄입니다.\n",
      "\n",
      "6번째 줄입니다.\n",
      "\n",
      "7번째 줄입니다.\n",
      "\n",
      "8번째 줄입니다.\n",
      "\n",
      "9번째 줄입니다.\n",
      "\n",
      "10번째 줄입니다.\n",
      "\n"
     ]
    }
   ],
   "source": [
    "f = open(\"newfile.txt\", \"r\")\n",
    "\n",
    "while True : # 무한루프\n",
    "    line = f.readline() # 한 줄씩 계속 읽어오기\n",
    "    if not line : break # 더 이상 읽을 줄이 없으면 break\n",
    "    print(line) # readline()은 더 이상 읽을 줄이 없을 경우 빈 문자열(\"\") 리턴\n",
    "    \n",
    "f.close()"
   ]
  },
  {
   "cell_type": "markdown",
   "id": "ad366115-94d9-4b50-ab8e-482fa1c532c6",
   "metadata": {},
   "source": [
    "### 사용자의 입력을 받아 여러 줄 출력하기"
   ]
  },
  {
   "cell_type": "code",
   "execution_count": 48,
   "id": "e5cbb94d-8ace-45fd-9ea7-c62ef79b601b",
   "metadata": {},
   "outputs": [
    {
     "name": "stdin",
     "output_type": "stream",
     "text": [
      " 가나다\n"
     ]
    },
    {
     "name": "stdout",
     "output_type": "stream",
     "text": [
      "가나다\n"
     ]
    },
    {
     "name": "stdin",
     "output_type": "stream",
     "text": [
      " \n"
     ]
    }
   ],
   "source": [
    "while True :\n",
    "    data = input()\n",
    "    if not data : break # 입력된 것이 없으면 break\n",
    "    print(data)"
   ]
  },
  {
   "cell_type": "markdown",
   "id": "3a386287-73c9-4688-81b2-dd23d3c8ffc5",
   "metadata": {},
   "source": [
    "### readlines 함수 사용하기"
   ]
  },
  {
   "cell_type": "code",
   "execution_count": 47,
   "id": "55a2e5d6-1374-4a9d-bae6-c0358429afe8",
   "metadata": {},
   "outputs": [
    {
     "name": "stdout",
     "output_type": "stream",
     "text": [
      "1번째 줄입니다.\n",
      "\n",
      "2번째 줄입니다.\n",
      "\n",
      "3번째 줄입니다.\n",
      "\n",
      "4번째 줄입니다.\n",
      "\n",
      "5번째 줄입니다.\n",
      "\n",
      "6번째 줄입니다.\n",
      "\n",
      "7번째 줄입니다.\n",
      "\n",
      "8번째 줄입니다.\n",
      "\n",
      "9번째 줄입니다.\n",
      "\n",
      "10번째 줄입니다.\n",
      "\n"
     ]
    }
   ],
   "source": [
    "f = open(\"newfile.txt\", \"r\")\n",
    "lines = f.readlines() # 파일의 모든 줄을 읽어서 리스트로 리턴\n",
    "\n",
    "for line in lines :\n",
    "    print(line)\n",
    "    \n",
    "f.close()"
   ]
  },
  {
   "cell_type": "markdown",
   "id": "46a764f5-ff89-498e-bf4a-0debf3c0309f",
   "metadata": {},
   "source": [
    "### 줄바꿈(\\n) 제거하기"
   ]
  },
  {
   "cell_type": "code",
   "execution_count": 50,
   "id": "6e3eb0b9-333c-4a59-ad57-6a21f28df85f",
   "metadata": {},
   "outputs": [
    {
     "name": "stdout",
     "output_type": "stream",
     "text": [
      "1번째 줄입니다.\n",
      "2번째 줄입니다.\n",
      "3번째 줄입니다.\n",
      "4번째 줄입니다.\n",
      "5번째 줄입니다.\n",
      "6번째 줄입니다.\n",
      "7번째 줄입니다.\n",
      "8번째 줄입니다.\n",
      "9번째 줄입니다.\n",
      "10번째 줄입니다.\n"
     ]
    }
   ],
   "source": [
    "f = open(\"newfile.txt\", \"r\")\n",
    "\n",
    "lines = f.readlines()\n",
    "\n",
    "for line in lines :\n",
    "    line = line.strip() # 줄 끝의 줄바꿈 문자를 제거한다.\n",
    "    print(line)\n",
    "\n",
    "f.close()"
   ]
  },
  {
   "cell_type": "markdown",
   "id": "dde0e601-9f42-418b-8935-bf485d8e8c97",
   "metadata": {},
   "source": [
    "### read 함수 사용하기"
   ]
  },
  {
   "cell_type": "code",
   "execution_count": 52,
   "id": "5c1fea58-6638-4c34-89c7-8346ff1315c7",
   "metadata": {},
   "outputs": [
    {
     "name": "stdout",
     "output_type": "stream",
     "text": [
      "1번째 줄입니다.\n",
      "2번째 줄입니다.\n",
      "3번째 줄입니다.\n",
      "4번째 줄입니다.\n",
      "5번째 줄입니다.\n",
      "6번째 줄입니다.\n",
      "7번째 줄입니다.\n",
      "8번째 줄입니다.\n",
      "9번째 줄입니다.\n",
      "10번째 줄입니다.\n",
      "\n"
     ]
    }
   ],
   "source": [
    "f = open(\"newfile.txt\", \"r\")\n",
    "\n",
    "data = f.read() # 파일 전체 내용을 문자열로 리턴\n",
    "print(data)\n",
    "\n",
    "f.close()"
   ]
  },
  {
   "cell_type": "markdown",
   "id": "79d03a1f-220a-4e91-af16-1eed9c5a5e3a",
   "metadata": {},
   "source": [
    "### 파일 객체를 for문과 함께 사용하기"
   ]
  },
  {
   "cell_type": "code",
   "execution_count": 53,
   "id": "fa0fccc1-7282-4a6f-b538-6e05a42a7a14",
   "metadata": {},
   "outputs": [
    {
     "name": "stdout",
     "output_type": "stream",
     "text": [
      "1번째 줄입니다.\n",
      "\n",
      "2번째 줄입니다.\n",
      "\n",
      "3번째 줄입니다.\n",
      "\n",
      "4번째 줄입니다.\n",
      "\n",
      "5번째 줄입니다.\n",
      "\n",
      "6번째 줄입니다.\n",
      "\n",
      "7번째 줄입니다.\n",
      "\n",
      "8번째 줄입니다.\n",
      "\n",
      "9번째 줄입니다.\n",
      "\n",
      "10번째 줄입니다.\n",
      "\n"
     ]
    }
   ],
   "source": [
    "f = open(\"newfile.txt\", \"r\")\n",
    "\n",
    "for line in f : # 파일 객채(f) : for문과 함께 사용하여 줄 단위로 읽을 수 있음\n",
    "    print(line)\n",
    "\n",
    "f.close()"
   ]
  },
  {
   "cell_type": "markdown",
   "id": "286f5d5e-c169-402c-abc3-6d7fbc69d700",
   "metadata": {},
   "source": [
    "## 4) 파일에 새로운 내용 추가하기"
   ]
  },
  {
   "cell_type": "code",
   "execution_count": 59,
   "id": "690c07de-40ca-49b9-bd81-cc6b547c1aa7",
   "metadata": {},
   "outputs": [],
   "source": [
    "# 새로운 값만 추가할 경우에는 추가모드 ('a')\n",
    "\n",
    "f = open(\"newfile.txt\", \"a\")\n",
    "\n",
    "for i in range(11, 20) :\n",
    "    data = f\"{i}번째 줄을 추가합니다.\\n\"\n",
    "    f.write(data)\n",
    "\n",
    "f.close()"
   ]
  },
  {
   "cell_type": "markdown",
   "id": "8e683127-293e-4eb2-9dc3-e01e143aafb0",
   "metadata": {},
   "source": [
    "## 5) with문과 함께 사용하기"
   ]
  },
  {
   "cell_type": "code",
   "execution_count": 56,
   "id": "d7df6f55-94e9-4f71-9985-82619f283d6f",
   "metadata": {},
   "outputs": [],
   "source": [
    "# open-close => with open() as x\n",
    "# 파일 열고 닫는 것 자동 처리\n",
    "\n",
    "with open(\"foo.txt\", \"w\") as f :\n",
    "    f.write(\"Life is too short, you need python\")"
   ]
  },
  {
   "cell_type": "code",
   "execution_count": null,
   "id": "42792d9e-7469-48ef-a924-728c148c1291",
   "metadata": {},
   "outputs": [],
   "source": []
  }
 ],
 "metadata": {
  "kernelspec": {
   "display_name": "Python 3 (ipykernel)",
   "language": "python",
   "name": "python3"
  },
  "language_info": {
   "codemirror_mode": {
    "name": "ipython",
    "version": 3
   },
   "file_extension": ".py",
   "mimetype": "text/x-python",
   "name": "python",
   "nbconvert_exporter": "python",
   "pygments_lexer": "ipython3",
   "version": "3.13.5"
  }
 },
 "nbformat": 4,
 "nbformat_minor": 5
}

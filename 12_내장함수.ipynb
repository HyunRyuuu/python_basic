{
 "cells": [
  {
   "cell_type": "markdown",
   "id": "b4fe126f-48f9-48d5-bda4-9e0b0fd5ded4",
   "metadata": {},
   "source": [
    "### abs() : 절대값 리턴"
   ]
  },
  {
   "cell_type": "code",
   "execution_count": 32,
   "id": "46a8918f-47c2-4601-bc26-b31c689f2f3e",
   "metadata": {},
   "outputs": [
    {
     "name": "stdout",
     "output_type": "stream",
     "text": [
      "3\n",
      "3\n",
      "1.2\n"
     ]
    }
   ],
   "source": [
    "print(abs(3))\n",
    "print(abs(-3))\n",
    "print(abs(-1.2))"
   ]
  },
  {
   "cell_type": "markdown",
   "id": "cbdbe8af-63db-4d9c-94a2-1fb5a4eb3a5d",
   "metadata": {},
   "source": [
    "### all() == and"
   ]
  },
  {
   "cell_type": "code",
   "execution_count": 35,
   "id": "45f57953-2ded-4802-acd7-3f9d3407c102",
   "metadata": {},
   "outputs": [
    {
     "name": "stdout",
     "output_type": "stream",
     "text": [
      "True\n",
      "False\n",
      "True\n"
     ]
    }
   ],
   "source": [
    "print( all([1, 2, 3]) )\n",
    "print( all([1, 2, 3, 0]) )\n",
    "print( all([]) ) # 빈 값인 경우 True"
   ]
  },
  {
   "cell_type": "markdown",
   "id": "a298402b-fde3-4884-bc9e-6e99992223d4",
   "metadata": {},
   "source": [
    "### any() == or"
   ]
  },
  {
   "cell_type": "code",
   "execution_count": 36,
   "id": "a4361457-2900-46a4-8a16-2d6db3eee77b",
   "metadata": {},
   "outputs": [
    {
     "name": "stdout",
     "output_type": "stream",
     "text": [
      "True\n",
      "False\n",
      "False\n"
     ]
    }
   ],
   "source": [
    "print( any([1, 2, 3, 0]) )\n",
    "print( any([0, \"\"]) )\n",
    "print( any([]) ) # 빈 값인 경우 False"
   ]
  },
  {
   "cell_type": "markdown",
   "id": "dcd9b21e-b6cf-4165-b70a-a3a667e45cb7",
   "metadata": {},
   "source": [
    "### chr() : 유니코드 => 문자"
   ]
  },
  {
   "cell_type": "code",
   "execution_count": 37,
   "id": "22dd194b-19c7-4081-ae81-ca35a1947ce4",
   "metadata": {},
   "outputs": [
    {
     "name": "stdout",
     "output_type": "stream",
     "text": [
      "a\n",
      "가\n"
     ]
    }
   ],
   "source": [
    "print( chr(97) )\n",
    "print( chr(44032) )"
   ]
  },
  {
   "cell_type": "markdown",
   "id": "5541ee23-2583-4d65-bd5b-f2b54f018d18",
   "metadata": {},
   "source": [
    "### ord() : 문자 => 유니코드"
   ]
  },
  {
   "cell_type": "code",
   "execution_count": 67,
   "id": "4664f3fa-f028-4a52-a7b2-2cc39de7f7bb",
   "metadata": {},
   "outputs": [
    {
     "name": "stdout",
     "output_type": "stream",
     "text": [
      "97\n",
      "44032\n"
     ]
    }
   ],
   "source": [
    "print( ord('a') )\n",
    "print( ord('가') )"
   ]
  },
  {
   "cell_type": "markdown",
   "id": "d86911bb-e9eb-4dc5-948a-4075945aebea",
   "metadata": {},
   "source": [
    "### dir() : 객체가 지닌 변수나 함수 리턴"
   ]
  },
  {
   "cell_type": "code",
   "execution_count": 38,
   "id": "33183bc0-335b-49ac-b335-0feaf69ce543",
   "metadata": {},
   "outputs": [
    {
     "name": "stdout",
     "output_type": "stream",
     "text": [
      "['__add__', '__class__', '__class_getitem__', '__contains__', '__delattr__', '__delitem__', '__dir__', '__doc__', '__eq__', '__format__', '__ge__', '__getattribute__', '__getitem__', '__getstate__', '__gt__', '__hash__', '__iadd__', '__imul__', '__init__', '__init_subclass__', '__iter__', '__le__', '__len__', '__lt__', '__mul__', '__ne__', '__new__', '__reduce__', '__reduce_ex__', '__repr__', '__reversed__', '__rmul__', '__setattr__', '__setitem__', '__sizeof__', '__str__', '__subclasshook__', 'append', 'clear', 'copy', 'count', 'extend', 'index', 'insert', 'pop', 'remove', 'reverse', 'sort']\n",
      "['__class__', '__class_getitem__', '__contains__', '__delattr__', '__delitem__', '__dir__', '__doc__', '__eq__', '__format__', '__ge__', '__getattribute__', '__getitem__', '__getstate__', '__gt__', '__hash__', '__init__', '__init_subclass__', '__ior__', '__iter__', '__le__', '__len__', '__lt__', '__ne__', '__new__', '__or__', '__reduce__', '__reduce_ex__', '__repr__', '__reversed__', '__ror__', '__setattr__', '__setitem__', '__sizeof__', '__str__', '__subclasshook__', 'clear', 'copy', 'fromkeys', 'get', 'items', 'keys', 'pop', 'popitem', 'setdefault', 'update', 'values']\n"
     ]
    }
   ],
   "source": [
    "print( dir([1, 2, 3])) # 리스트가 지닌 함수(메서드)를 리턴\n",
    "print( dir({'1' : 'a'}) ) # 딕셔너리가 지닌 함수(메서드)를 리턴"
   ]
  },
  {
   "cell_type": "markdown",
   "id": "0c606a99-8088-477f-bae2-60ad818ce674",
   "metadata": {},
   "source": [
    "### divmod(a, b) : a / b 몫과 나머지를 튜플로 리턴"
   ]
  },
  {
   "cell_type": "code",
   "execution_count": 39,
   "id": "229fd0ca-16e3-4fca-b6a3-369a86d1e331",
   "metadata": {},
   "outputs": [
    {
     "name": "stdout",
     "output_type": "stream",
     "text": [
      "(2, 1)\n",
      "2\n",
      "1\n"
     ]
    }
   ],
   "source": [
    "print( divmod(7, 3) )\n",
    "print( 7 // 3 ) # 몫\n",
    "print( 7 % 3 ) # 나머지"
   ]
  },
  {
   "cell_type": "markdown",
   "id": "206bf032-bfe1-44a2-a49d-2b9ca25e90b1",
   "metadata": {},
   "source": [
    "### enumerate() : 인덱스 값을 포함하는 enumerate 객체 리턴\n",
    "#### 보통 for문과 함께 사용"
   ]
  },
  {
   "cell_type": "code",
   "execution_count": 40,
   "id": "edac53ed-bdb5-4d48-bb70-4f48acef70e5",
   "metadata": {},
   "outputs": [
    {
     "name": "stdout",
     "output_type": "stream",
     "text": [
      "0 body\n",
      "1 foo\n",
      "2 bar\n"
     ]
    }
   ],
   "source": [
    "for i, name in enumerate(['body', 'foo', 'bar']) :\n",
    "    print(i, name)"
   ]
  },
  {
   "cell_type": "code",
   "execution_count": 31,
   "id": "3ad92109-e07f-49d1-bc4a-012d93d4237d",
   "metadata": {},
   "outputs": [
    {
     "name": "stdout",
     "output_type": "stream",
     "text": [
      "0 ('a', 1)\n",
      "1 ('b', 2)\n",
      "2 ('c', 3)\n"
     ]
    }
   ],
   "source": [
    "for i, item in enumerate({'a' : 1, 'b' : 2, 'c' : 3}.items()) :\n",
    "    print(i, item)"
   ]
  },
  {
   "cell_type": "markdown",
   "id": "f087ec4a-ddf2-40f6-8cea-cb242de65eba",
   "metadata": {},
   "source": [
    "### eval() : 표현식을 문자열로 입력 받아 결과값 리턴"
   ]
  },
  {
   "cell_type": "code",
   "execution_count": 41,
   "id": "08f6770a-ea38-4986-a27f-91f14b1bef71",
   "metadata": {},
   "outputs": [
    {
     "name": "stdout",
     "output_type": "stream",
     "text": [
      "3\n",
      "hia\n",
      "(1, 1)\n"
     ]
    }
   ],
   "source": [
    "print( eval('1 + 2') )\n",
    "print( eval(\"'hi' + 'a'\") )\n",
    "print( eval('divmod(4, 3)') )"
   ]
  },
  {
   "cell_type": "markdown",
   "id": "8aa2fcfe-4bf1-4fc6-ad11-82b8ebe0a191",
   "metadata": {},
   "source": [
    "### filter(함수, 반복_가능한_데이터) : 리턴값이 참인 것만 묶어서 리턴"
   ]
  },
  {
   "cell_type": "code",
   "execution_count": 53,
   "id": "be597df8-e78e-4212-879f-f6ad96e4276b",
   "metadata": {},
   "outputs": [
    {
     "name": "stdout",
     "output_type": "stream",
     "text": [
      "[1, 2, 6]\n"
     ]
    }
   ],
   "source": [
    "# 일반 함수로 양수값만 리턴\n",
    "def positive(li) :\n",
    "    result = []\n",
    "    for i in li :\n",
    "        if i > 0 :\n",
    "            result.append(i)\n",
    "    return result\n",
    "\n",
    "print( positive([1, -3, 2, 0, -5, 6]) )"
   ]
  },
  {
   "cell_type": "code",
   "execution_count": 54,
   "id": "c1516408-21f5-4678-9dee-79d51d8918c2",
   "metadata": {},
   "outputs": [
    {
     "name": "stdout",
     "output_type": "stream",
     "text": [
      "[1, 2, 6]\n"
     ]
    }
   ],
   "source": [
    "# filter 함수로 양수값만 리턴\n",
    "def positive(x) :\n",
    "    return x > 0\n",
    "\n",
    "## list 함수는 filter 함수의 리턴값을 리스트로 출력하기 위해 사용\n",
    "print( list( filter( positive, [1, -3, 2, 0, -5, 6] ) ) )"
   ]
  },
  {
   "cell_type": "code",
   "execution_count": 55,
   "id": "27987c4a-b42a-4bde-a0d3-398c67366aff",
   "metadata": {},
   "outputs": [
    {
     "name": "stdout",
     "output_type": "stream",
     "text": [
      "[1, 2, 6]\n"
     ]
    }
   ],
   "source": [
    "# lambda 함수로 양수값만 리턴\n",
    "print( list( filter( lambda x: x > 0, [1, -3, 2, 0, -5, 6] ) ) )"
   ]
  },
  {
   "cell_type": "markdown",
   "id": "280f1e04-95b6-4f9c-8b35-07af01b0830a",
   "metadata": {},
   "source": [
    "### map() : map 안에서 선언한 함수의 결과값을 반환"
   ]
  },
  {
   "cell_type": "code",
   "execution_count": 51,
   "id": "4eefac8b-acae-4d2d-8ff2-09a77d52acc9",
   "metadata": {},
   "outputs": [
    {
     "name": "stdout",
     "output_type": "stream",
     "text": [
      "[2, 4, 6, 8]\n"
     ]
    }
   ],
   "source": [
    "# 일반 함수로 리스트 각 요소에 *2\n",
    "\n",
    "def two_times(list) :\n",
    "    result = []\n",
    "    for i in list :\n",
    "        result.append(i * 2)\n",
    "    return result\n",
    "        \n",
    "print( two_times([1, 2, 3, 4]) )"
   ]
  },
  {
   "cell_type": "code",
   "execution_count": 56,
   "id": "ca863f10-c4a8-4a6b-99f6-28243bc663ec",
   "metadata": {},
   "outputs": [
    {
     "name": "stdout",
     "output_type": "stream",
     "text": [
      "[2, 4, 6, 8]\n"
     ]
    }
   ],
   "source": [
    "# map() 함수로 리스트 각 요소에 *2\n",
    "\n",
    "def two_times(x) :\n",
    "    return x * 2\n",
    "\n",
    "print( list( map( two_times, [1, 2, 3, 4] ) ) )"
   ]
  },
  {
   "cell_type": "code",
   "execution_count": 57,
   "id": "1ab10d79-ee2b-4ecc-ab97-0e46f26f1564",
   "metadata": {},
   "outputs": [
    {
     "name": "stdout",
     "output_type": "stream",
     "text": [
      "[2, 4, 6, 8]\n"
     ]
    }
   ],
   "source": [
    "# lambda 함수로 리스트 각 요소에 *2\n",
    "print( list( map( lambda a : a * 2, [1, 2, 3, 4] ) ) )"
   ]
  },
  {
   "cell_type": "markdown",
   "id": "a5b2904f-8144-40bf-b4ab-582514c5a9fc",
   "metadata": {},
   "source": [
    "### hex() : 정수 => 16진수(문자열)"
   ]
  },
  {
   "cell_type": "code",
   "execution_count": 44,
   "id": "e08db1bd-9238-406a-82fa-ec0278a4a25b",
   "metadata": {},
   "outputs": [
    {
     "name": "stdout",
     "output_type": "stream",
     "text": [
      "0xea\n",
      "0x3\n"
     ]
    }
   ],
   "source": [
    "print( hex(234) )\n",
    "print( hex(3) )"
   ]
  },
  {
   "cell_type": "markdown",
   "id": "a354af0b-f5ce-4543-a861-6affc332085d",
   "metadata": {},
   "source": [
    "### oct() : 정수 => 8진수(문자열)"
   ]
  },
  {
   "cell_type": "code",
   "execution_count": 69,
   "id": "eb1cd0a5-b6aa-4c21-a9b9-87926f561e19",
   "metadata": {},
   "outputs": [
    {
     "name": "stdout",
     "output_type": "stream",
     "text": [
      "0o42\n",
      "0o30071\n"
     ]
    }
   ],
   "source": [
    "print( oct(34) )\n",
    "print( oct(12345) )"
   ]
  },
  {
   "cell_type": "markdown",
   "id": "0f83e20f-1cd2-4347-97ab-b597c804a32a",
   "metadata": {},
   "source": [
    "### id() : 객체의 고유 주소값(레퍼런스) 리턴"
   ]
  },
  {
   "cell_type": "code",
   "execution_count": 45,
   "id": "0555d8ae-d4c7-444d-a478-92e3fada0747",
   "metadata": {},
   "outputs": [
    {
     "name": "stdout",
     "output_type": "stream",
     "text": [
      "140734251971560\n",
      "140734251971560\n",
      "140734251971560\n"
     ]
    }
   ],
   "source": [
    "a = 3\n",
    "print( id(3) )\n",
    "\n",
    "print( id(a) )\n",
    "\n",
    "b = a\n",
    "print( id(b) )"
   ]
  },
  {
   "cell_type": "markdown",
   "id": "7c203448-7c47-4cad-83da-c4cf1f27466f",
   "metadata": {},
   "source": [
    "### input( [prompt] ) : 사용자 입력을 받는 함수"
   ]
  },
  {
   "cell_type": "code",
   "execution_count": 46,
   "id": "6f4ffa96-13bd-4686-8f1c-4878db05d94c",
   "metadata": {},
   "outputs": [
    {
     "name": "stdin",
     "output_type": "stream",
     "text": [
      " hi\n"
     ]
    }
   ],
   "source": [
    "a = input()"
   ]
  },
  {
   "cell_type": "markdown",
   "id": "4a7ab079-4853-45b5-839b-ddfa90271e39",
   "metadata": {},
   "source": [
    "### int() : 정수로 리턴"
   ]
  },
  {
   "cell_type": "code",
   "execution_count": 59,
   "id": "27d34b99-2b27-42c6-b6c3-49e625887690",
   "metadata": {},
   "outputs": [
    {
     "name": "stdout",
     "output_type": "stream",
     "text": [
      "3\n",
      "3\n",
      "3\n",
      "26\n"
     ]
    }
   ],
   "source": [
    "print( int('3') )\n",
    "print( int(3.4) )\n",
    "print( int('11', 2) ) # 2진수 11을 10진수로 변환\n",
    "print( int('1A', 16) ) # 16진수 1A를 10진수로 변환"
   ]
  },
  {
   "cell_type": "markdown",
   "id": "3984b20f-9f1b-4be3-b943-1369d9dbb26c",
   "metadata": {},
   "source": [
    "### isinstance() : 입력받은 객체가 해당 클래스의 인스턴스인지 판단 (true, false)"
   ]
  },
  {
   "cell_type": "code",
   "execution_count": 61,
   "id": "7e54bce8-71e4-4567-a759-9284c1b7fe67",
   "metadata": {},
   "outputs": [
    {
     "name": "stdout",
     "output_type": "stream",
     "text": [
      "True\n",
      "False\n"
     ]
    }
   ],
   "source": [
    "class Person : pass\n",
    "\n",
    "a = Person() # a는 Person 클래스로 생성된 객체\n",
    "print( isinstance(a, Person) ) # a 객체가 Person 클래스의 인스턴스인가?\n",
    "\n",
    "b = 3 # b는 숫자 3을 저장한 변수\n",
    "print( isinstance(b, Person) ) # b 객체가 Person 클래스의 인스턴스인가?"
   ]
  },
  {
   "cell_type": "markdown",
   "id": "56189925-07db-44a0-adb8-13ca2dc85190",
   "metadata": {},
   "source": [
    "### len() : 입력값의 길이"
   ]
  },
  {
   "cell_type": "code",
   "execution_count": 62,
   "id": "45f5651e-6a56-4bce-9c99-247a63b72981",
   "metadata": {},
   "outputs": [
    {
     "name": "stdout",
     "output_type": "stream",
     "text": [
      "6\n",
      "3\n",
      "2\n"
     ]
    }
   ],
   "source": [
    "print( len( \"python\" ) )\n",
    "print( len( [1, 2, 3] ) )\n",
    "print( len( (1, 'a') ) )"
   ]
  },
  {
   "cell_type": "markdown",
   "id": "a63e057e-cca8-473b-a7d8-10befb2cfa27",
   "metadata": {},
   "source": [
    "### list() : 반복 가능한 데이터를 입력받아 리스트로 리턴"
   ]
  },
  {
   "cell_type": "code",
   "execution_count": 63,
   "id": "1bc136a6-8540-4646-934f-3c50b8a23462",
   "metadata": {},
   "outputs": [
    {
     "name": "stdout",
     "output_type": "stream",
     "text": [
      "['p', 'y', 't', 'h', 'o', 'n']\n",
      "[1, 2, 3]\n"
     ]
    }
   ],
   "source": [
    "print( list( \"python\" ) )\n",
    "print( list( (1, 2, 3) ) )"
   ]
  },
  {
   "cell_type": "code",
   "execution_count": 64,
   "id": "c0ed8d6e-8f70-4e0f-8a11-45f46a927ddb",
   "metadata": {},
   "outputs": [
    {
     "name": "stdout",
     "output_type": "stream",
     "text": [
      "[1, 2, 3]\n"
     ]
    }
   ],
   "source": [
    "# list 함수에 리스트를 입력하면 똑같이 리턴함\n",
    "\n",
    "a = [1, 2, 3]\n",
    "b = list(a)\n",
    "\n",
    "print( b )"
   ]
  },
  {
   "cell_type": "markdown",
   "id": "2cf7f5c5-0d44-48c8-a4c2-bf42d0700c9a",
   "metadata": {},
   "source": [
    "### max() : 최대값 / min() : 최소값"
   ]
  },
  {
   "cell_type": "code",
   "execution_count": 65,
   "id": "0ef9f684-3b3d-4b1f-ba6a-b0e3d0f3cf87",
   "metadata": {},
   "outputs": [
    {
     "name": "stdout",
     "output_type": "stream",
     "text": [
      "3\n",
      "y\n"
     ]
    }
   ],
   "source": [
    "print( max( [1, 2, 3] ) )\n",
    "print( max( \"python\" ) )"
   ]
  },
  {
   "cell_type": "code",
   "execution_count": 66,
   "id": "2ad42e67-00c8-4b9e-9277-4e864ce832fb",
   "metadata": {},
   "outputs": [
    {
     "name": "stdout",
     "output_type": "stream",
     "text": [
      "1\n",
      "h\n"
     ]
    }
   ],
   "source": [
    "print( min( [1, 2, 3] ) )\n",
    "print( min( \"python\" ) )"
   ]
  },
  {
   "cell_type": "markdown",
   "id": "a98d8d86-1e60-42cf-ae56-f6367fd2cc50",
   "metadata": {},
   "source": [
    "### range() : 범위값을 반복 가능한 객체로 변경"
   ]
  },
  {
   "cell_type": "code",
   "execution_count": 74,
   "id": "2e2854fd-a800-4a1e-bfb5-a84026391b5e",
   "metadata": {},
   "outputs": [
    {
     "name": "stdout",
     "output_type": "stream",
     "text": [
      "[0, 1, 2, 3, 4]\n",
      "[5, 6, 7, 8, 9]\n",
      "[1, 3, 5, 7, 9]\n",
      "[0, -1, -2, -3, -4, -5, -6, -7, -8, -9]\n"
     ]
    }
   ],
   "source": [
    "# 인수가 하나일 경우\n",
    "print( list( range(5) ) )\n",
    "\n",
    "# 인수가 두 개일 경우 : range(시작, 끝)\n",
    "print( list( range(5, 10) ) )\n",
    "\n",
    "# 인수가 세 개일 경우 : range(시작, 끝, 숫자 사이의 거리)\n",
    "print( list( range(1, 10, 2) ) )\n",
    "print( list( range(0, -10, -1) ) )"
   ]
  },
  {
   "cell_type": "markdown",
   "id": "5c3e3d30-efd7-4de0-b85b-af2322f718cd",
   "metadata": {},
   "source": [
    "### round() : 반올림"
   ]
  },
  {
   "cell_type": "code",
   "execution_count": 75,
   "id": "3d71c2d6-2df6-45c0-a465-b54c812c7823",
   "metadata": {},
   "outputs": [
    {
     "name": "stdout",
     "output_type": "stream",
     "text": [
      "5\n",
      "4\n",
      "5.68\n"
     ]
    }
   ],
   "source": [
    "print( round(4.6) )\n",
    "print( round(4.2) )\n",
    "print( round(5.678, 2) ) # 소수점 2자리까지"
   ]
  },
  {
   "cell_type": "markdown",
   "id": "965b1842-4368-4f99-8ec8-b3c37f9e39a6",
   "metadata": {},
   "source": [
    "### sorted() : 정렬한 후 리스트로 리턴"
   ]
  },
  {
   "cell_type": "code",
   "execution_count": 76,
   "id": "98140237-a9f3-4adb-ad60-623d8c213c5b",
   "metadata": {},
   "outputs": [
    {
     "name": "stdout",
     "output_type": "stream",
     "text": [
      "[1, 2, 3]\n",
      "['a', 'b', 'c']\n",
      "['e', 'o', 'r', 'z']\n",
      "[1, 2, 3]\n"
     ]
    }
   ],
   "source": [
    "print( sorted( [3, 1, 2] ) )\n",
    "print( sorted( ['a', 'c', 'b'] ) )\n",
    "print( sorted( \"zero\" ) )\n",
    "print( sorted( (3, 2, 1) ) )"
   ]
  },
  {
   "cell_type": "markdown",
   "id": "e3014503-dab9-4eae-9a3a-f3e052e49c4b",
   "metadata": {},
   "source": [
    "### str() : 문자열 형태로 객체 변환 리턴"
   ]
  },
  {
   "cell_type": "code",
   "execution_count": 77,
   "id": "76cea63d-97ca-4954-b3f0-57eb0170814d",
   "metadata": {},
   "outputs": [
    {
     "name": "stdout",
     "output_type": "stream",
     "text": [
      "3\n",
      "hi\n"
     ]
    }
   ],
   "source": [
    "print( str(3) )\n",
    "print( str('hi') )"
   ]
  },
  {
   "cell_type": "markdown",
   "id": "5e025226-eb85-456e-b0ae-42491cd3afd3",
   "metadata": {},
   "source": [
    "### zip() : 동일한 개수로 이루어진 데이터들을 묶어서 리턴"
   ]
  },
  {
   "cell_type": "code",
   "execution_count": 80,
   "id": "092e7829-b174-4b86-a104-2382a4725fd6",
   "metadata": {},
   "outputs": [
    {
     "name": "stdout",
     "output_type": "stream",
     "text": [
      "[(1, 4), (2, 5), (3, 6)]\n",
      "[(1, 4, 7), (2, 5, 8), (3, 6, 9)]\n",
      "[(1, 6), (2, 7), (3, 8)]\n",
      "[('a', 'd'), ('b', 'e'), ('c', 'f')]\n"
     ]
    }
   ],
   "source": [
    "print( list( zip( [1, 2, 3], [4, 5, 6] ) ) )\n",
    "print( list( zip( [1, 2, 3], [4, 5, 6], [7, 8, 9] ) ) )\n",
    "print( list( zip( [1, 2, 3, 4, 5], [6, 7, 8] ) ) ) # 짝이 안 맞으면 리턴되지 않음\n",
    "print( list( zip( \"abc\", 'def' ) ) )"
   ]
  },
  {
   "cell_type": "code",
   "execution_count": null,
   "id": "01578c70-40b2-4175-8d88-3a1055066051",
   "metadata": {},
   "outputs": [],
   "source": []
  }
 ],
 "metadata": {
  "kernelspec": {
   "display_name": "Python 3 (ipykernel)",
   "language": "python",
   "name": "python3"
  },
  "language_info": {
   "codemirror_mode": {
    "name": "ipython",
    "version": 3
   },
   "file_extension": ".py",
   "mimetype": "text/x-python",
   "name": "python",
   "nbconvert_exporter": "python",
   "pygments_lexer": "ipython3",
   "version": "3.13.5"
  }
 },
 "nbformat": 4,
 "nbformat_minor": 5
}
